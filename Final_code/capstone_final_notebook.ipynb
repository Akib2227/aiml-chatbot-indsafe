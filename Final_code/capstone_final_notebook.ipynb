{
  "nbformat": 4,
  "nbformat_minor": 0,
  "metadata": {
    "kernelspec": {
      "display_name": "Python 3",
      "language": "python",
      "name": "python3"
    },
    "language_info": {
      "codemirror_mode": {
        "name": "ipython",
        "version": 3
      },
      "file_extension": ".py",
      "mimetype": "text/x-python",
      "name": "python",
      "nbconvert_exporter": "python",
      "pygments_lexer": "ipython3",
      "version": "3.8.3"
    },
    "colab": {
      "name": "capstone_final_notebook.ipynb",
      "provenance": []
    }
  },
  "cells": [
    {
      "cell_type": "code",
      "metadata": {
        "id": "dk6-7EOCl2iz"
      },
      "source": [
        "#Import all the necessary modules\n",
        "import pandas as pd\n",
        "import warnings\n",
        "warnings.filterwarnings('ignore')\n",
        "%matplotlib inline\n",
        "import random\n",
        "import matplotlib.pyplot as plt\n",
        "import seaborn as sns \n",
        "import numpy as np \n",
        "import seaborn as sns\n",
        "from sklearn.model_selection import train_test_split\n",
        "from sklearn import metrics\n",
        "from sklearn.metrics import accuracy_score\n",
        "import copy\n",
        "from sklearn.ensemble import RandomForestClassifier\n",
        "from sklearn.feature_extraction.text import CountVectorizer\n",
        "from random import randint"
      ],
      "execution_count": 3,
      "outputs": []
    },
    {
      "cell_type": "code",
      "metadata": {
        "colab": {
          "base_uri": "https://localhost:8080/"
        },
        "id": "2V6lYqyFl2jT",
        "outputId": "4c75b3a8-5cfb-4247-a6b9-484730fe370c"
      },
      "source": [
        "import re\n",
        "import nltk\n",
        "from nltk.tokenize import word_tokenize\n",
        "nltk.download('punkt')\n",
        "from nltk.corpus import stopwords\n",
        "nltk.download('stopwords')\n",
        "stopwords.words('english')\n",
        "from nltk.stem import PorterStemmer\n",
        "from nltk.stem import WordNetLemmatizer"
      ],
      "execution_count": 22,
      "outputs": [
        {
          "output_type": "stream",
          "text": [
            "[nltk_data] Downloading package punkt to /root/nltk_data...\n",
            "[nltk_data]   Unzipping tokenizers/punkt.zip.\n",
            "[nltk_data] Downloading package stopwords to /root/nltk_data...\n",
            "[nltk_data]   Unzipping corpora/stopwords.zip.\n"
          ],
          "name": "stdout"
        }
      ]
    },
    {
      "cell_type": "code",
      "metadata": {
        "colab": {
          "base_uri": "https://localhost:8080/"
        },
        "id": "F3VuN5UmmHJW",
        "outputId": "c78ef913-f0a5-4ee4-b796-3add3c0047c2"
      },
      "source": [
        "from google.colab import drive\n",
        "drive.mount('/content/drive')"
      ],
      "execution_count": 1,
      "outputs": [
        {
          "output_type": "stream",
          "text": [
            "Mounted at /content/drive\n"
          ],
          "name": "stdout"
        }
      ]
    },
    {
      "cell_type": "code",
      "metadata": {
        "colab": {
          "base_uri": "https://localhost:8080/",
          "height": 310
        },
        "id": "X-md8mz-l2jX",
        "outputId": "a85229df-0440-4d75-ceee-580687e896fe"
      },
      "source": [
        "industrial_safety_df = pd.read_csv(\"/content/drive/MyDrive/Capstone-project/Chatbot/Data/capstone/IHMStefanini_industrial_safety_and_health_database_with_accidents_description.csv\")\n",
        "industrial_safety_df.head()"
      ],
      "execution_count": 5,
      "outputs": [
        {
          "output_type": "execute_result",
          "data": {
            "text/html": [
              "<div>\n",
              "<style scoped>\n",
              "    .dataframe tbody tr th:only-of-type {\n",
              "        vertical-align: middle;\n",
              "    }\n",
              "\n",
              "    .dataframe tbody tr th {\n",
              "        vertical-align: top;\n",
              "    }\n",
              "\n",
              "    .dataframe thead th {\n",
              "        text-align: right;\n",
              "    }\n",
              "</style>\n",
              "<table border=\"1\" class=\"dataframe\">\n",
              "  <thead>\n",
              "    <tr style=\"text-align: right;\">\n",
              "      <th></th>\n",
              "      <th>Unnamed: 0</th>\n",
              "      <th>Data</th>\n",
              "      <th>Countries</th>\n",
              "      <th>Local</th>\n",
              "      <th>Industry Sector</th>\n",
              "      <th>Accident Level</th>\n",
              "      <th>Potential Accident Level</th>\n",
              "      <th>Genre</th>\n",
              "      <th>Employee or Third Party</th>\n",
              "      <th>Critical Risk</th>\n",
              "      <th>Description</th>\n",
              "    </tr>\n",
              "  </thead>\n",
              "  <tbody>\n",
              "    <tr>\n",
              "      <th>0</th>\n",
              "      <td>0</td>\n",
              "      <td>2016-01-01 00:00:00</td>\n",
              "      <td>Country_01</td>\n",
              "      <td>Local_01</td>\n",
              "      <td>Mining</td>\n",
              "      <td>I</td>\n",
              "      <td>IV</td>\n",
              "      <td>Male</td>\n",
              "      <td>Third Party</td>\n",
              "      <td>Pressed</td>\n",
              "      <td>While removing the drill rod of the Jumbo 08 f...</td>\n",
              "    </tr>\n",
              "    <tr>\n",
              "      <th>1</th>\n",
              "      <td>1</td>\n",
              "      <td>2016-01-02 00:00:00</td>\n",
              "      <td>Country_02</td>\n",
              "      <td>Local_02</td>\n",
              "      <td>Mining</td>\n",
              "      <td>I</td>\n",
              "      <td>IV</td>\n",
              "      <td>Male</td>\n",
              "      <td>Employee</td>\n",
              "      <td>Pressurized Systems</td>\n",
              "      <td>During the activation of a sodium sulphide pum...</td>\n",
              "    </tr>\n",
              "    <tr>\n",
              "      <th>2</th>\n",
              "      <td>2</td>\n",
              "      <td>2016-01-06 00:00:00</td>\n",
              "      <td>Country_01</td>\n",
              "      <td>Local_03</td>\n",
              "      <td>Mining</td>\n",
              "      <td>I</td>\n",
              "      <td>III</td>\n",
              "      <td>Male</td>\n",
              "      <td>Third Party (Remote)</td>\n",
              "      <td>Manual Tools</td>\n",
              "      <td>In the sub-station MILPO located at level +170...</td>\n",
              "    </tr>\n",
              "    <tr>\n",
              "      <th>3</th>\n",
              "      <td>3</td>\n",
              "      <td>2016-01-08 00:00:00</td>\n",
              "      <td>Country_01</td>\n",
              "      <td>Local_04</td>\n",
              "      <td>Mining</td>\n",
              "      <td>I</td>\n",
              "      <td>I</td>\n",
              "      <td>Male</td>\n",
              "      <td>Third Party</td>\n",
              "      <td>Others</td>\n",
              "      <td>Being 9:45 am. approximately in the Nv. 1880 C...</td>\n",
              "    </tr>\n",
              "    <tr>\n",
              "      <th>4</th>\n",
              "      <td>4</td>\n",
              "      <td>2016-01-10 00:00:00</td>\n",
              "      <td>Country_01</td>\n",
              "      <td>Local_04</td>\n",
              "      <td>Mining</td>\n",
              "      <td>IV</td>\n",
              "      <td>IV</td>\n",
              "      <td>Male</td>\n",
              "      <td>Third Party</td>\n",
              "      <td>Others</td>\n",
              "      <td>Approximately at 11:45 a.m. in circumstances t...</td>\n",
              "    </tr>\n",
              "  </tbody>\n",
              "</table>\n",
              "</div>"
            ],
            "text/plain": [
              "   Unnamed: 0  ...                                        Description\n",
              "0           0  ...  While removing the drill rod of the Jumbo 08 f...\n",
              "1           1  ...  During the activation of a sodium sulphide pum...\n",
              "2           2  ...  In the sub-station MILPO located at level +170...\n",
              "3           3  ...  Being 9:45 am. approximately in the Nv. 1880 C...\n",
              "4           4  ...  Approximately at 11:45 a.m. in circumstances t...\n",
              "\n",
              "[5 rows x 11 columns]"
            ]
          },
          "metadata": {
            "tags": []
          },
          "execution_count": 5
        }
      ]
    },
    {
      "cell_type": "code",
      "metadata": {
        "id": "NG028U1bl2ji",
        "outputId": "b9d64f08-db28-461c-b8e9-8c261b21786e"
      },
      "source": [
        "industrial_safety_df.shape"
      ],
      "execution_count": null,
      "outputs": [
        {
          "output_type": "execute_result",
          "data": {
            "text/plain": [
              "(425, 11)"
            ]
          },
          "metadata": {
            "tags": []
          },
          "execution_count": 4
        }
      ]
    },
    {
      "cell_type": "markdown",
      "metadata": {
        "id": "7sKiSPDgl2jl"
      },
      "source": [
        "### Grouping by Accident Level and Potential Accident Level "
      ]
    },
    {
      "cell_type": "code",
      "metadata": {
        "colab": {
          "base_uri": "https://localhost:8080/",
          "height": 359
        },
        "id": "jDFmqsTRl2jm",
        "outputId": "ee48198f-50bd-45ed-9207-125c99a776b0"
      },
      "source": [
        "group_acc_level = industrial_safety_df.groupby(['Accident Level'])\n",
        "group_acc_level.first()"
      ],
      "execution_count": 6,
      "outputs": [
        {
          "output_type": "execute_result",
          "data": {
            "text/html": [
              "<div>\n",
              "<style scoped>\n",
              "    .dataframe tbody tr th:only-of-type {\n",
              "        vertical-align: middle;\n",
              "    }\n",
              "\n",
              "    .dataframe tbody tr th {\n",
              "        vertical-align: top;\n",
              "    }\n",
              "\n",
              "    .dataframe thead th {\n",
              "        text-align: right;\n",
              "    }\n",
              "</style>\n",
              "<table border=\"1\" class=\"dataframe\">\n",
              "  <thead>\n",
              "    <tr style=\"text-align: right;\">\n",
              "      <th></th>\n",
              "      <th>Unnamed: 0</th>\n",
              "      <th>Data</th>\n",
              "      <th>Countries</th>\n",
              "      <th>Local</th>\n",
              "      <th>Industry Sector</th>\n",
              "      <th>Potential Accident Level</th>\n",
              "      <th>Genre</th>\n",
              "      <th>Employee or Third Party</th>\n",
              "      <th>Critical Risk</th>\n",
              "      <th>Description</th>\n",
              "    </tr>\n",
              "    <tr>\n",
              "      <th>Accident Level</th>\n",
              "      <th></th>\n",
              "      <th></th>\n",
              "      <th></th>\n",
              "      <th></th>\n",
              "      <th></th>\n",
              "      <th></th>\n",
              "      <th></th>\n",
              "      <th></th>\n",
              "      <th></th>\n",
              "      <th></th>\n",
              "    </tr>\n",
              "  </thead>\n",
              "  <tbody>\n",
              "    <tr>\n",
              "      <th>I</th>\n",
              "      <td>0</td>\n",
              "      <td>2016-01-01 00:00:00</td>\n",
              "      <td>Country_01</td>\n",
              "      <td>Local_01</td>\n",
              "      <td>Mining</td>\n",
              "      <td>IV</td>\n",
              "      <td>Male</td>\n",
              "      <td>Third Party</td>\n",
              "      <td>Pressed</td>\n",
              "      <td>While removing the drill rod of the Jumbo 08 f...</td>\n",
              "    </tr>\n",
              "    <tr>\n",
              "      <th>II</th>\n",
              "      <td>22</td>\n",
              "      <td>2016-02-10 00:00:00</td>\n",
              "      <td>Country_01</td>\n",
              "      <td>Local_03</td>\n",
              "      <td>Mining</td>\n",
              "      <td>IV</td>\n",
              "      <td>Male</td>\n",
              "      <td>Third Party</td>\n",
              "      <td>Others</td>\n",
              "      <td>While aligning the right bracket of tower N ° ...</td>\n",
              "    </tr>\n",
              "    <tr>\n",
              "      <th>III</th>\n",
              "      <td>16</td>\n",
              "      <td>2016-02-06 00:00:00</td>\n",
              "      <td>Country_01</td>\n",
              "      <td>Local_04</td>\n",
              "      <td>Mining</td>\n",
              "      <td>IV</td>\n",
              "      <td>Male</td>\n",
              "      <td>Third Party</td>\n",
              "      <td>Others</td>\n",
              "      <td>At Rp 050 of level 1620, in circumstances wher...</td>\n",
              "    </tr>\n",
              "    <tr>\n",
              "      <th>IV</th>\n",
              "      <td>4</td>\n",
              "      <td>2016-01-10 00:00:00</td>\n",
              "      <td>Country_01</td>\n",
              "      <td>Local_04</td>\n",
              "      <td>Mining</td>\n",
              "      <td>IV</td>\n",
              "      <td>Male</td>\n",
              "      <td>Third Party</td>\n",
              "      <td>Others</td>\n",
              "      <td>Approximately at 11:45 a.m. in circumstances t...</td>\n",
              "    </tr>\n",
              "    <tr>\n",
              "      <th>V</th>\n",
              "      <td>33</td>\n",
              "      <td>2016-02-20 00:00:00</td>\n",
              "      <td>Country_01</td>\n",
              "      <td>Local_04</td>\n",
              "      <td>Mining</td>\n",
              "      <td>V</td>\n",
              "      <td>Male</td>\n",
              "      <td>Third Party</td>\n",
              "      <td>Others</td>\n",
              "      <td>Approximately 1:40 p.m. in circumstances that ...</td>\n",
              "    </tr>\n",
              "  </tbody>\n",
              "</table>\n",
              "</div>"
            ],
            "text/plain": [
              "                Unnamed: 0  ...                                        Description\n",
              "Accident Level              ...                                                   \n",
              "I                        0  ...  While removing the drill rod of the Jumbo 08 f...\n",
              "II                      22  ...  While aligning the right bracket of tower N ° ...\n",
              "III                     16  ...  At Rp 050 of level 1620, in circumstances wher...\n",
              "IV                       4  ...  Approximately at 11:45 a.m. in circumstances t...\n",
              "V                       33  ...  Approximately 1:40 p.m. in circumstances that ...\n",
              "\n",
              "[5 rows x 10 columns]"
            ]
          },
          "metadata": {
            "tags": []
          },
          "execution_count": 6
        }
      ]
    },
    {
      "cell_type": "code",
      "metadata": {
        "colab": {
          "base_uri": "https://localhost:8080/",
          "height": 408
        },
        "id": "6QjWKwAUl2jo",
        "outputId": "5d713bfd-cac2-469b-c5de-1b373984cbc5"
      },
      "source": [
        "group_ptnl_acc_level = industrial_safety_df.groupby(['Potential Accident Level'])\n",
        "group_ptnl_acc_level.first()"
      ],
      "execution_count": 7,
      "outputs": [
        {
          "output_type": "execute_result",
          "data": {
            "text/html": [
              "<div>\n",
              "<style scoped>\n",
              "    .dataframe tbody tr th:only-of-type {\n",
              "        vertical-align: middle;\n",
              "    }\n",
              "\n",
              "    .dataframe tbody tr th {\n",
              "        vertical-align: top;\n",
              "    }\n",
              "\n",
              "    .dataframe thead th {\n",
              "        text-align: right;\n",
              "    }\n",
              "</style>\n",
              "<table border=\"1\" class=\"dataframe\">\n",
              "  <thead>\n",
              "    <tr style=\"text-align: right;\">\n",
              "      <th></th>\n",
              "      <th>Unnamed: 0</th>\n",
              "      <th>Data</th>\n",
              "      <th>Countries</th>\n",
              "      <th>Local</th>\n",
              "      <th>Industry Sector</th>\n",
              "      <th>Accident Level</th>\n",
              "      <th>Genre</th>\n",
              "      <th>Employee or Third Party</th>\n",
              "      <th>Critical Risk</th>\n",
              "      <th>Description</th>\n",
              "    </tr>\n",
              "    <tr>\n",
              "      <th>Potential Accident Level</th>\n",
              "      <th></th>\n",
              "      <th></th>\n",
              "      <th></th>\n",
              "      <th></th>\n",
              "      <th></th>\n",
              "      <th></th>\n",
              "      <th></th>\n",
              "      <th></th>\n",
              "      <th></th>\n",
              "      <th></th>\n",
              "    </tr>\n",
              "  </thead>\n",
              "  <tbody>\n",
              "    <tr>\n",
              "      <th>I</th>\n",
              "      <td>3</td>\n",
              "      <td>2016-01-08 00:00:00</td>\n",
              "      <td>Country_01</td>\n",
              "      <td>Local_04</td>\n",
              "      <td>Mining</td>\n",
              "      <td>I</td>\n",
              "      <td>Male</td>\n",
              "      <td>Third Party</td>\n",
              "      <td>Others</td>\n",
              "      <td>Being 9:45 am. approximately in the Nv. 1880 C...</td>\n",
              "    </tr>\n",
              "    <tr>\n",
              "      <th>II</th>\n",
              "      <td>9</td>\n",
              "      <td>2016-01-26 00:00:00</td>\n",
              "      <td>Country_01</td>\n",
              "      <td>Local_06</td>\n",
              "      <td>Metals</td>\n",
              "      <td>I</td>\n",
              "      <td>Male</td>\n",
              "      <td>Third Party</td>\n",
              "      <td>Chemical substances</td>\n",
              "      <td>At the moment the forklift operator went to ma...</td>\n",
              "    </tr>\n",
              "    <tr>\n",
              "      <th>III</th>\n",
              "      <td>2</td>\n",
              "      <td>2016-01-06 00:00:00</td>\n",
              "      <td>Country_01</td>\n",
              "      <td>Local_03</td>\n",
              "      <td>Mining</td>\n",
              "      <td>I</td>\n",
              "      <td>Male</td>\n",
              "      <td>Third Party (Remote)</td>\n",
              "      <td>Manual Tools</td>\n",
              "      <td>In the sub-station MILPO located at level +170...</td>\n",
              "    </tr>\n",
              "    <tr>\n",
              "      <th>IV</th>\n",
              "      <td>0</td>\n",
              "      <td>2016-01-01 00:00:00</td>\n",
              "      <td>Country_01</td>\n",
              "      <td>Local_01</td>\n",
              "      <td>Mining</td>\n",
              "      <td>I</td>\n",
              "      <td>Male</td>\n",
              "      <td>Third Party</td>\n",
              "      <td>Pressed</td>\n",
              "      <td>While removing the drill rod of the Jumbo 08 f...</td>\n",
              "    </tr>\n",
              "    <tr>\n",
              "      <th>V</th>\n",
              "      <td>13</td>\n",
              "      <td>2016-02-02 00:00:00</td>\n",
              "      <td>Country_01</td>\n",
              "      <td>Local_01</td>\n",
              "      <td>Mining</td>\n",
              "      <td>IV</td>\n",
              "      <td>Male</td>\n",
              "      <td>Third Party</td>\n",
              "      <td>Electrical installation</td>\n",
              "      <td>In moments that the operator of the Jumbo 2, t...</td>\n",
              "    </tr>\n",
              "    <tr>\n",
              "      <th>VI</th>\n",
              "      <td>321</td>\n",
              "      <td>2017-01-25 00:00:00</td>\n",
              "      <td>Country_01</td>\n",
              "      <td>Local_03</td>\n",
              "      <td>Mining</td>\n",
              "      <td>V</td>\n",
              "      <td>Male</td>\n",
              "      <td>Third Party</td>\n",
              "      <td>remains of choco</td>\n",
              "      <td>During the process of loading drills in the Ca...</td>\n",
              "    </tr>\n",
              "  </tbody>\n",
              "</table>\n",
              "</div>"
            ],
            "text/plain": [
              "                          Unnamed: 0  ...                                        Description\n",
              "Potential Accident Level              ...                                                   \n",
              "I                                  3  ...  Being 9:45 am. approximately in the Nv. 1880 C...\n",
              "II                                 9  ...  At the moment the forklift operator went to ma...\n",
              "III                                2  ...  In the sub-station MILPO located at level +170...\n",
              "IV                                 0  ...  While removing the drill rod of the Jumbo 08 f...\n",
              "V                                 13  ...  In moments that the operator of the Jumbo 2, t...\n",
              "VI                               321  ...  During the process of loading drills in the Ca...\n",
              "\n",
              "[6 rows x 10 columns]"
            ]
          },
          "metadata": {
            "tags": []
          },
          "execution_count": 7
        }
      ]
    },
    {
      "cell_type": "markdown",
      "metadata": {
        "id": "EByQogfkl2jq"
      },
      "source": [
        "### DataSet Analysis- Basic EDA"
      ]
    },
    {
      "cell_type": "code",
      "metadata": {
        "colab": {
          "base_uri": "https://localhost:8080/",
          "height": 279
        },
        "id": "dpW7vBdLl2js",
        "outputId": "0c01df0d-26a0-4b9e-9a33-f0ccb5f30e6d"
      },
      "source": [
        "sns.countplot(x ='Accident Level', data = industrial_safety_df, hue ='Industry Sector'); "
      ],
      "execution_count": 8,
      "outputs": [
        {
          "output_type": "display_data",
          "data": {
            "image/png": "[encoded data removed]",
            "text/plain": [
              "<Figure size 432x288 with 1 Axes>"
            ]
          },
          "metadata": {
            "tags": [],
            "needs_background": "light"
          }
        }
      ]
    },
    {
      "cell_type": "code",
      "metadata": {
        "colab": {
          "base_uri": "https://localhost:8080/",
          "height": 279
        },
        "id": "KreAa-dGl2jt",
        "outputId": "7fb540a6-0216-4b63-879e-0a599a00a8f9"
      },
      "source": [
        "sns.countplot(x ='Potential Accident Level', data = industrial_safety_df, hue ='Industry Sector'); "
      ],
      "execution_count": 9,
      "outputs": [
        {
          "output_type": "display_data",
          "data": {
            "image/png": "[encoded data removed]",
            "text/plain": [
              "<Figure size 432x288 with 1 Axes>"
            ]
          },
          "metadata": {
            "tags": [],
            "needs_background": "light"
          }
        }
      ]
    },
    {
      "cell_type": "code",
      "metadata": {
        "colab": {
          "base_uri": "https://localhost:8080/",
          "height": 279
        },
        "id": "KdyHE93Wl2jv",
        "outputId": "09631f8a-8888-488f-d485-ad3424806d24"
      },
      "source": [
        "sns.countplot(x ='Accident Level', data = industrial_safety_df, hue ='Genre'); "
      ],
      "execution_count": 10,
      "outputs": [
        {
          "output_type": "display_data",
          "data": {
            "image/png": "[encoded data removed]",
            "text/plain": [
              "<Figure size 432x288 with 1 Axes>"
            ]
          },
          "metadata": {
            "tags": [],
            "needs_background": "light"
          }
        }
      ]
    },
    {
      "cell_type": "code",
      "metadata": {
        "colab": {
          "base_uri": "https://localhost:8080/",
          "height": 279
        },
        "id": "k-kxECnEl2j2",
        "outputId": "e870b5fc-9ba1-4bcc-d2ee-85329a6164bc"
      },
      "source": [
        "sns.countplot(x ='Potential Accident Level', data = industrial_safety_df, hue ='Genre'); "
      ],
      "execution_count": 11,
      "outputs": [
        {
          "output_type": "display_data",
          "data": {
            "image/png": "[encoded data removed]",
            "text/plain": [
              "<Figure size 432x288 with 1 Axes>"
            ]
          },
          "metadata": {
            "tags": [],
            "needs_background": "light"
          }
        }
      ]
    },
    {
      "cell_type": "code",
      "metadata": {
        "colab": {
          "base_uri": "https://localhost:8080/",
          "height": 815
        },
        "id": "_xZI69Xcl2j4",
        "outputId": "af67cfb2-d798-44d3-e941-b8c8bbc9b080"
      },
      "source": [
        "plt.figure(figsize=(15,10))\n",
        "plt.setp(sns.countplot(industrial_safety_df['Critical Risk']).get_xticklabels(), rotation=90);"
      ],
      "execution_count": 12,
      "outputs": [
        {
          "output_type": "display_data",
          "data": {
            "image/png": "[encoded data removed]",
            "text/plain": [
              "<Figure size 1080x720 with 1 Axes>"
            ]
          },
          "metadata": {
            "tags": [],
            "needs_background": "light"
          }
        }
      ]
    },
    {
      "cell_type": "code",
      "metadata": {
        "colab": {
          "base_uri": "https://localhost:8080/",
          "height": 606
        },
        "id": "LhR_1uLIl2j7",
        "outputId": "6bf052aa-2bfe-4627-fa40-5319f1370426"
      },
      "source": [
        "plt.figure(figsize=(15,10))\n",
        "sns.countplot(industrial_safety_df['Local'], hue = industrial_safety_df['Accident Level']);"
      ],
      "execution_count": 13,
      "outputs": [
        {
          "output_type": "display_data",
          "data": {
            "image/png": "[encoded data removed]",
            "text/plain": [
              "<Figure size 1080x720 with 1 Axes>"
            ]
          },
          "metadata": {
            "tags": [],
            "needs_background": "light"
          }
        }
      ]
    },
    {
      "cell_type": "markdown",
      "metadata": {
        "id": "fBjlVB43l2j9"
      },
      "source": [
        " - #### Labeling The Dataset\n",
        " > As per the dataset there are 1-6 level of Accident Level, here we have labeled 1-2 as low risk, 3-4 moderate risk and 5-6 critical risk "
      ]
    },
    {
      "cell_type": "code",
      "metadata": {
        "colab": {
          "base_uri": "https://localhost:8080/",
          "height": 424
        },
        "id": "qBxVO9eDl2j-",
        "outputId": "31bd458b-1b8d-4679-c8f2-dde01669e109"
      },
      "source": [
        "def create_label(accident_level):\n",
        "    level = str(accident_level)\n",
        "    if level.__eq__(\"I\") or level.__eq__(\"II\"):\n",
        "        return \"low\"\n",
        "    if level.__eq__(\"III\"):\n",
        "        return \"moderate\"\n",
        "    if level.__eq__(\"IV\") or level.__eq__(\"V\"):\n",
        "        return \"high\"\n",
        "    if level.__eq__(\"VI\"):\n",
        "        return \"critical\"\n",
        "    \n",
        "industrial_safety_df['Accident Severity'] = industrial_safety_df['Accident Level'].apply(create_label)\n",
        "industrial_safety_df[['Accident Level','Accident Severity']]"
      ],
      "execution_count": 14,
      "outputs": [
        {
          "output_type": "execute_result",
          "data": {
            "text/html": [
              "<div>\n",
              "<style scoped>\n",
              "    .dataframe tbody tr th:only-of-type {\n",
              "        vertical-align: middle;\n",
              "    }\n",
              "\n",
              "    .dataframe tbody tr th {\n",
              "        vertical-align: top;\n",
              "    }\n",
              "\n",
              "    .dataframe thead th {\n",
              "        text-align: right;\n",
              "    }\n",
              "</style>\n",
              "<table border=\"1\" class=\"dataframe\">\n",
              "  <thead>\n",
              "    <tr style=\"text-align: right;\">\n",
              "      <th></th>\n",
              "      <th>Accident Level</th>\n",
              "      <th>Accident Severity</th>\n",
              "    </tr>\n",
              "  </thead>\n",
              "  <tbody>\n",
              "    <tr>\n",
              "      <th>0</th>\n",
              "      <td>I</td>\n",
              "      <td>low</td>\n",
              "    </tr>\n",
              "    <tr>\n",
              "      <th>1</th>\n",
              "      <td>I</td>\n",
              "      <td>low</td>\n",
              "    </tr>\n",
              "    <tr>\n",
              "      <th>2</th>\n",
              "      <td>I</td>\n",
              "      <td>low</td>\n",
              "    </tr>\n",
              "    <tr>\n",
              "      <th>3</th>\n",
              "      <td>I</td>\n",
              "      <td>low</td>\n",
              "    </tr>\n",
              "    <tr>\n",
              "      <th>4</th>\n",
              "      <td>IV</td>\n",
              "      <td>high</td>\n",
              "    </tr>\n",
              "    <tr>\n",
              "      <th>...</th>\n",
              "      <td>...</td>\n",
              "      <td>...</td>\n",
              "    </tr>\n",
              "    <tr>\n",
              "      <th>420</th>\n",
              "      <td>I</td>\n",
              "      <td>low</td>\n",
              "    </tr>\n",
              "    <tr>\n",
              "      <th>421</th>\n",
              "      <td>I</td>\n",
              "      <td>low</td>\n",
              "    </tr>\n",
              "    <tr>\n",
              "      <th>422</th>\n",
              "      <td>I</td>\n",
              "      <td>low</td>\n",
              "    </tr>\n",
              "    <tr>\n",
              "      <th>423</th>\n",
              "      <td>I</td>\n",
              "      <td>low</td>\n",
              "    </tr>\n",
              "    <tr>\n",
              "      <th>424</th>\n",
              "      <td>I</td>\n",
              "      <td>low</td>\n",
              "    </tr>\n",
              "  </tbody>\n",
              "</table>\n",
              "<p>425 rows × 2 columns</p>\n",
              "</div>"
            ],
            "text/plain": [
              "    Accident Level Accident Severity\n",
              "0                I               low\n",
              "1                I               low\n",
              "2                I               low\n",
              "3                I               low\n",
              "4               IV              high\n",
              "..             ...               ...\n",
              "420              I               low\n",
              "421              I               low\n",
              "422              I               low\n",
              "423              I               low\n",
              "424              I               low\n",
              "\n",
              "[425 rows x 2 columns]"
            ]
          },
          "metadata": {
            "tags": []
          },
          "execution_count": 14
        }
      ]
    },
    {
      "cell_type": "markdown",
      "metadata": {
        "id": "ktvNn2QWl2kA"
      },
      "source": [
        "#### We can see that the Mining Sector is the most risky as the most number of accidents recorded in that sector followed by Metals"
      ]
    },
    {
      "cell_type": "markdown",
      "metadata": {
        "id": "UALqVLENl2kC"
      },
      "source": [
        "### Data Cleansing\n",
        " "
      ]
    },
    {
      "cell_type": "code",
      "metadata": {
        "colab": {
          "base_uri": "https://localhost:8080/",
          "height": 328
        },
        "id": "Gk07Q9tSl2kE",
        "outputId": "a7e8a355-9abf-4bb8-9f97-cadc72f4d439"
      },
      "source": [
        "#Renaming Data -> date, Genre -> Gender\n",
        "#Removing the Column Unnamed as it's just sequence\n",
        "\n",
        "industrial_safety_df.rename(columns = {'Data': 'Date', 'Genre': 'Gender'}, inplace = True)\n",
        "industrial_safety_df = industrial_safety_df.drop(\"Unnamed: 0\",axis=1)\n",
        "industrial_safety_df.head()\n"
      ],
      "execution_count": 15,
      "outputs": [
        {
          "output_type": "execute_result",
          "data": {
            "text/html": [
              "<div>\n",
              "<style scoped>\n",
              "    .dataframe tbody tr th:only-of-type {\n",
              "        vertical-align: middle;\n",
              "    }\n",
              "\n",
              "    .dataframe tbody tr th {\n",
              "        vertical-align: top;\n",
              "    }\n",
              "\n",
              "    .dataframe thead th {\n",
              "        text-align: right;\n",
              "    }\n",
              "</style>\n",
              "<table border=\"1\" class=\"dataframe\">\n",
              "  <thead>\n",
              "    <tr style=\"text-align: right;\">\n",
              "      <th></th>\n",
              "      <th>Date</th>\n",
              "      <th>Countries</th>\n",
              "      <th>Local</th>\n",
              "      <th>Industry Sector</th>\n",
              "      <th>Accident Level</th>\n",
              "      <th>Potential Accident Level</th>\n",
              "      <th>Gender</th>\n",
              "      <th>Employee or Third Party</th>\n",
              "      <th>Critical Risk</th>\n",
              "      <th>Description</th>\n",
              "      <th>Accident Severity</th>\n",
              "    </tr>\n",
              "  </thead>\n",
              "  <tbody>\n",
              "    <tr>\n",
              "      <th>0</th>\n",
              "      <td>2016-01-01 00:00:00</td>\n",
              "      <td>Country_01</td>\n",
              "      <td>Local_01</td>\n",
              "      <td>Mining</td>\n",
              "      <td>I</td>\n",
              "      <td>IV</td>\n",
              "      <td>Male</td>\n",
              "      <td>Third Party</td>\n",
              "      <td>Pressed</td>\n",
              "      <td>While removing the drill rod of the Jumbo 08 f...</td>\n",
              "      <td>low</td>\n",
              "    </tr>\n",
              "    <tr>\n",
              "      <th>1</th>\n",
              "      <td>2016-01-02 00:00:00</td>\n",
              "      <td>Country_02</td>\n",
              "      <td>Local_02</td>\n",
              "      <td>Mining</td>\n",
              "      <td>I</td>\n",
              "      <td>IV</td>\n",
              "      <td>Male</td>\n",
              "      <td>Employee</td>\n",
              "      <td>Pressurized Systems</td>\n",
              "      <td>During the activation of a sodium sulphide pum...</td>\n",
              "      <td>low</td>\n",
              "    </tr>\n",
              "    <tr>\n",
              "      <th>2</th>\n",
              "      <td>2016-01-06 00:00:00</td>\n",
              "      <td>Country_01</td>\n",
              "      <td>Local_03</td>\n",
              "      <td>Mining</td>\n",
              "      <td>I</td>\n",
              "      <td>III</td>\n",
              "      <td>Male</td>\n",
              "      <td>Third Party (Remote)</td>\n",
              "      <td>Manual Tools</td>\n",
              "      <td>In the sub-station MILPO located at level +170...</td>\n",
              "      <td>low</td>\n",
              "    </tr>\n",
              "    <tr>\n",
              "      <th>3</th>\n",
              "      <td>2016-01-08 00:00:00</td>\n",
              "      <td>Country_01</td>\n",
              "      <td>Local_04</td>\n",
              "      <td>Mining</td>\n",
              "      <td>I</td>\n",
              "      <td>I</td>\n",
              "      <td>Male</td>\n",
              "      <td>Third Party</td>\n",
              "      <td>Others</td>\n",
              "      <td>Being 9:45 am. approximately in the Nv. 1880 C...</td>\n",
              "      <td>low</td>\n",
              "    </tr>\n",
              "    <tr>\n",
              "      <th>4</th>\n",
              "      <td>2016-01-10 00:00:00</td>\n",
              "      <td>Country_01</td>\n",
              "      <td>Local_04</td>\n",
              "      <td>Mining</td>\n",
              "      <td>IV</td>\n",
              "      <td>IV</td>\n",
              "      <td>Male</td>\n",
              "      <td>Third Party</td>\n",
              "      <td>Others</td>\n",
              "      <td>Approximately at 11:45 a.m. in circumstances t...</td>\n",
              "      <td>high</td>\n",
              "    </tr>\n",
              "  </tbody>\n",
              "</table>\n",
              "</div>"
            ],
            "text/plain": [
              "                  Date  ... Accident Severity\n",
              "0  2016-01-01 00:00:00  ...               low\n",
              "1  2016-01-02 00:00:00  ...               low\n",
              "2  2016-01-06 00:00:00  ...               low\n",
              "3  2016-01-08 00:00:00  ...               low\n",
              "4  2016-01-10 00:00:00  ...              high\n",
              "\n",
              "[5 rows x 11 columns]"
            ]
          },
          "metadata": {
            "tags": []
          },
          "execution_count": 15
        }
      ]
    },
    {
      "cell_type": "code",
      "metadata": {
        "colab": {
          "base_uri": "https://localhost:8080/",
          "height": 210
        },
        "id": "AHrJPLo0l2kF",
        "outputId": "1888ef1c-f57e-4ec1-b805-456f30aef77f"
      },
      "source": [
        "industrial_safety_df.describe()"
      ],
      "execution_count": 16,
      "outputs": [
        {
          "output_type": "execute_result",
          "data": {
            "text/html": [
              "<div>\n",
              "<style scoped>\n",
              "    .dataframe tbody tr th:only-of-type {\n",
              "        vertical-align: middle;\n",
              "    }\n",
              "\n",
              "    .dataframe tbody tr th {\n",
              "        vertical-align: top;\n",
              "    }\n",
              "\n",
              "    .dataframe thead th {\n",
              "        text-align: right;\n",
              "    }\n",
              "</style>\n",
              "<table border=\"1\" class=\"dataframe\">\n",
              "  <thead>\n",
              "    <tr style=\"text-align: right;\">\n",
              "      <th></th>\n",
              "      <th>Date</th>\n",
              "      <th>Countries</th>\n",
              "      <th>Local</th>\n",
              "      <th>Industry Sector</th>\n",
              "      <th>Accident Level</th>\n",
              "      <th>Potential Accident Level</th>\n",
              "      <th>Gender</th>\n",
              "      <th>Employee or Third Party</th>\n",
              "      <th>Critical Risk</th>\n",
              "      <th>Description</th>\n",
              "      <th>Accident Severity</th>\n",
              "    </tr>\n",
              "  </thead>\n",
              "  <tbody>\n",
              "    <tr>\n",
              "      <th>count</th>\n",
              "      <td>425</td>\n",
              "      <td>425</td>\n",
              "      <td>425</td>\n",
              "      <td>425</td>\n",
              "      <td>425</td>\n",
              "      <td>425</td>\n",
              "      <td>425</td>\n",
              "      <td>425</td>\n",
              "      <td>425</td>\n",
              "      <td>425</td>\n",
              "      <td>425</td>\n",
              "    </tr>\n",
              "    <tr>\n",
              "      <th>unique</th>\n",
              "      <td>287</td>\n",
              "      <td>3</td>\n",
              "      <td>12</td>\n",
              "      <td>3</td>\n",
              "      <td>5</td>\n",
              "      <td>6</td>\n",
              "      <td>2</td>\n",
              "      <td>3</td>\n",
              "      <td>33</td>\n",
              "      <td>411</td>\n",
              "      <td>3</td>\n",
              "    </tr>\n",
              "    <tr>\n",
              "      <th>top</th>\n",
              "      <td>2017-02-08 00:00:00</td>\n",
              "      <td>Country_01</td>\n",
              "      <td>Local_03</td>\n",
              "      <td>Mining</td>\n",
              "      <td>I</td>\n",
              "      <td>IV</td>\n",
              "      <td>Male</td>\n",
              "      <td>Third Party</td>\n",
              "      <td>Others</td>\n",
              "      <td>During the activity of chuteo of ore in hopper...</td>\n",
              "      <td>low</td>\n",
              "    </tr>\n",
              "    <tr>\n",
              "      <th>freq</th>\n",
              "      <td>6</td>\n",
              "      <td>251</td>\n",
              "      <td>90</td>\n",
              "      <td>241</td>\n",
              "      <td>316</td>\n",
              "      <td>143</td>\n",
              "      <td>403</td>\n",
              "      <td>189</td>\n",
              "      <td>232</td>\n",
              "      <td>3</td>\n",
              "      <td>356</td>\n",
              "    </tr>\n",
              "  </tbody>\n",
              "</table>\n",
              "</div>"
            ],
            "text/plain": [
              "                       Date  ... Accident Severity\n",
              "count                   425  ...               425\n",
              "unique                  287  ...                 3\n",
              "top     2017-02-08 00:00:00  ...               low\n",
              "freq                      6  ...               356\n",
              "\n",
              "[4 rows x 11 columns]"
            ]
          },
          "metadata": {
            "tags": []
          },
          "execution_count": 16
        }
      ]
    },
    {
      "cell_type": "code",
      "metadata": {
        "colab": {
          "base_uri": "https://localhost:8080/"
        },
        "id": "zVeNP0DUl2kG",
        "outputId": "10b30c4c-2490-472d-fcbe-19e1308311af"
      },
      "source": [
        "industrial_safety_df.isnull().sum()"
      ],
      "execution_count": 17,
      "outputs": [
        {
          "output_type": "execute_result",
          "data": {
            "text/plain": [
              "Date                        0\n",
              "Countries                   0\n",
              "Local                       0\n",
              "Industry Sector             0\n",
              "Accident Level              0\n",
              "Potential Accident Level    0\n",
              "Gender                      0\n",
              "Employee or Third Party     0\n",
              "Critical Risk               0\n",
              "Description                 0\n",
              "Accident Severity           0\n",
              "dtype: int64"
            ]
          },
          "metadata": {
            "tags": []
          },
          "execution_count": 17
        }
      ]
    },
    {
      "cell_type": "code",
      "metadata": {
        "colab": {
          "base_uri": "https://localhost:8080/"
        },
        "id": "4s1g8Mu8l2kH",
        "outputId": "24c3aa71-d3b1-46fc-d65c-5320f26b01f4"
      },
      "source": [
        "industrial_safety_df.dtypes"
      ],
      "execution_count": 18,
      "outputs": [
        {
          "output_type": "execute_result",
          "data": {
            "text/plain": [
              "Date                        object\n",
              "Countries                   object\n",
              "Local                       object\n",
              "Industry Sector             object\n",
              "Accident Level              object\n",
              "Potential Accident Level    object\n",
              "Gender                      object\n",
              "Employee or Third Party     object\n",
              "Critical Risk               object\n",
              "Description                 object\n",
              "Accident Severity           object\n",
              "dtype: object"
            ]
          },
          "metadata": {
            "tags": []
          },
          "execution_count": 18
        }
      ]
    },
    {
      "cell_type": "markdown",
      "metadata": {
        "id": "z9j9T5cul2kI"
      },
      "source": [
        "### Pre-Processing the Text "
      ]
    },
    {
      "cell_type": "markdown",
      "metadata": {
        "id": "a9bPxBwVl2kI"
      },
      "source": [
        "- #### Removing all irrelevant characters (Numbers and Punctuation)"
      ]
    },
    {
      "cell_type": "code",
      "metadata": {
        "colab": {
          "base_uri": "https://localhost:8080/"
        },
        "id": "UgpEgX0il2kJ",
        "outputId": "8dd60d66-7c4d-4858-e011-df2088f84ad4"
      },
      "source": [
        "def remove_alpha_numerics(description_txt):\n",
        "    return re.sub('[^a-zA-Z]',' ',description_txt)\n",
        "industrial_safety_df['Updated Description'] = industrial_safety_df['Description'].apply(remove_alpha_numerics)\n",
        "industrial_safety_df['Updated Description']"
      ],
      "execution_count": 19,
      "outputs": [
        {
          "output_type": "execute_result",
          "data": {
            "text/plain": [
              "0      While removing the drill rod of the Jumbo    f...\n",
              "1      During the activation of a sodium sulphide pum...\n",
              "2      In the sub station MILPO located at level     ...\n",
              "3      Being      am  approximately in the Nv       C...\n",
              "4      Approximately at       a m  in circumstances t...\n",
              "                             ...                        \n",
              "420    Being approximately      a m  approximately  w...\n",
              "421    The collaborator moved from the infrastructure...\n",
              "422    During the environmental monitoring activity i...\n",
              "423    The Employee performed the activity of strippi...\n",
              "424    At       a m   when the assistant cleaned the ...\n",
              "Name: Updated Description, Length: 425, dtype: object"
            ]
          },
          "metadata": {
            "tags": []
          },
          "execution_count": 19
        }
      ]
    },
    {
      "cell_type": "markdown",
      "metadata": {
        "id": "BVxuyW2xl2kM"
      },
      "source": [
        "- #### Convert all characters into lowercase"
      ]
    },
    {
      "cell_type": "code",
      "metadata": {
        "colab": {
          "base_uri": "https://localhost:8080/"
        },
        "id": "gQ6Dp5Dpl2kN",
        "outputId": "33951ce4-10d7-44c2-9b76-cf0f14fe3ff8"
      },
      "source": [
        "def to_lower_case(description_txt):\n",
        "    return str(description_txt).lower()\n",
        "industrial_safety_df['Updated Description'] = industrial_safety_df['Updated Description'].apply(to_lower_case)\n",
        "industrial_safety_df['Updated Description']"
      ],
      "execution_count": 20,
      "outputs": [
        {
          "output_type": "execute_result",
          "data": {
            "text/plain": [
              "0      while removing the drill rod of the jumbo    f...\n",
              "1      during the activation of a sodium sulphide pum...\n",
              "2      in the sub station milpo located at level     ...\n",
              "3      being      am  approximately in the nv       c...\n",
              "4      approximately at       a m  in circumstances t...\n",
              "                             ...                        \n",
              "420    being approximately      a m  approximately  w...\n",
              "421    the collaborator moved from the infrastructure...\n",
              "422    during the environmental monitoring activity i...\n",
              "423    the employee performed the activity of strippi...\n",
              "424    at       a m   when the assistant cleaned the ...\n",
              "Name: Updated Description, Length: 425, dtype: object"
            ]
          },
          "metadata": {
            "tags": []
          },
          "execution_count": 20
        }
      ]
    },
    {
      "cell_type": "markdown",
      "metadata": {
        "id": "FXEBbb2Vl2kP"
      },
      "source": [
        "- #### Tokenization "
      ]
    },
    {
      "cell_type": "code",
      "metadata": {
        "colab": {
          "base_uri": "https://localhost:8080/"
        },
        "id": "eJfRhY5Ql2kQ",
        "outputId": "50c20213-f212-4613-c9dd-a32a783b3c6b"
      },
      "source": [
        "industrial_safety_df['Updated Description'] = industrial_safety_df.apply(lambda word: nltk.word_tokenize(word['Updated Description']), axis=1)\n",
        "industrial_safety_df['Updated Description']"
      ],
      "execution_count": 23,
      "outputs": [
        {
          "output_type": "execute_result",
          "data": {
            "text/plain": [
              "0      [while, removing, the, drill, rod, of, the, ju...\n",
              "1      [during, the, activation, of, a, sodium, sulph...\n",
              "2      [in, the, sub, station, milpo, located, at, le...\n",
              "3      [being, am, approximately, in, the, nv, cx, ob...\n",
              "4      [approximately, at, a, m, in, circumstances, t...\n",
              "                             ...                        \n",
              "420    [being, approximately, a, m, approximately, wh...\n",
              "421    [the, collaborator, moved, from, the, infrastr...\n",
              "422    [during, the, environmental, monitoring, activ...\n",
              "423    [the, employee, performed, the, activity, of, ...\n",
              "424    [at, a, m, when, the, assistant, cleaned, the,...\n",
              "Name: Updated Description, Length: 425, dtype: object"
            ]
          },
          "metadata": {
            "tags": []
          },
          "execution_count": 23
        }
      ]
    },
    {
      "cell_type": "markdown",
      "metadata": {
        "id": "OjWRQE3Cl2kS"
      },
      "source": [
        "- #### Removing Stopwords"
      ]
    },
    {
      "cell_type": "code",
      "metadata": {
        "colab": {
          "base_uri": "https://localhost:8080/"
        },
        "id": "UM5A8a7Fl2kT",
        "outputId": "e345d95b-9231-4ec8-a92d-a00f8233dab6"
      },
      "source": [
        "stop_words = set(stopwords.words('english'))\n",
        "def remove_stopwords(word):\n",
        "    return [token for token in word if not token in stop_words]\n",
        "    \n",
        "industrial_safety_df['Updated Description'] = industrial_safety_df['Updated Description'].apply(remove_stopwords)\n",
        "industrial_safety_df['Updated Description']"
      ],
      "execution_count": 25,
      "outputs": [
        {
          "output_type": "execute_result",
          "data": {
            "text/plain": [
              "0      [removing, drill, rod, jumbo, maintenance, sup...\n",
              "1      [activation, sodium, sulphide, pump, piping, u...\n",
              "2      [sub, station, milpo, located, level, collabor...\n",
              "3      [approximately, nv, cx, ob, personnel, begins,...\n",
              "4      [approximately, circumstances, mechanics, anth...\n",
              "                             ...                        \n",
              "420    [approximately, approximately, lifting, kelly,...\n",
              "421    [collaborator, moved, infrastructure, office, ...\n",
              "422    [environmental, monitoring, activity, area, em...\n",
              "423    [employee, performed, activity, stripping, cat...\n",
              "424    [assistant, cleaned, floor, module, e, central...\n",
              "Name: Updated Description, Length: 425, dtype: object"
            ]
          },
          "metadata": {
            "tags": []
          },
          "execution_count": 25
        }
      ]
    },
    {
      "cell_type": "markdown",
      "metadata": {
        "id": "pzW2JtKkl2kV"
      },
      "source": [
        "- #### Stemming"
      ]
    },
    {
      "cell_type": "code",
      "metadata": {
        "colab": {
          "base_uri": "https://localhost:8080/"
        },
        "id": "ouAeKt4Pl2kX",
        "outputId": "5a5e038b-2a77-46af-97b9-a1ba52327fdb"
      },
      "source": [
        "stemmer = PorterStemmer()\n",
        "def stem_tokens(tokens):\n",
        "    return [stemmer.stem(index) for index in tokens]\n",
        "industrial_safety_df['Updated Description Stems'] = industrial_safety_df['Updated Description'].apply(stem_tokens)\n",
        "industrial_safety_df['Updated Description Stems']"
      ],
      "execution_count": 26,
      "outputs": [
        {
          "output_type": "execute_result",
          "data": {
            "text/plain": [
              "0      [remov, drill, rod, jumbo, mainten, supervisor...\n",
              "1      [activ, sodium, sulphid, pump, pipe, uncoupl, ...\n",
              "2      [sub, station, milpo, locat, level, collabor, ...\n",
              "3      [approxim, nv, cx, ob, personnel, begin, task,...\n",
              "4      [approxim, circumst, mechan, anthoni, group, l...\n",
              "                             ...                        \n",
              "420    [approxim, approxim, lift, kelli, hq, toward, ...\n",
              "421    [collabor, move, infrastructur, offic, julio, ...\n",
              "422    [environment, monitor, activ, area, employe, s...\n",
              "423    [employe, perform, activ, strip, cathod, pull,...\n",
              "424    [assist, clean, floor, modul, e, central, camp...\n",
              "Name: Updated Description Stems, Length: 425, dtype: object"
            ]
          },
          "metadata": {
            "tags": []
          },
          "execution_count": 26
        }
      ]
    },
    {
      "cell_type": "markdown",
      "metadata": {
        "id": "blOEUzAel2kZ"
      },
      "source": [
        "#### As we can see due to stemming changed some of the words incorrectly, so we will do Lemmatization and compare"
      ]
    },
    {
      "cell_type": "markdown",
      "metadata": {
        "id": "hwm0wehul2ka"
      },
      "source": [
        "- #### Lemmatization"
      ]
    },
    {
      "cell_type": "code",
      "metadata": {
        "colab": {
          "base_uri": "https://localhost:8080/"
        },
        "id": "nvTf9WQkl2kc",
        "outputId": "ff8217f2-1ff2-4ccb-a205-3ace91e687cf"
      },
      "source": [
        "nltk.download('wordnet')\n",
        "lemma = WordNetLemmatizer()\n",
        "def lematize_tokens(tokens):\n",
        "    return [lemma.lemmatize(word=w,pos='v') for w in tokens]\n",
        "industrial_safety_df['Updated Description Lemmas'] = industrial_safety_df['Updated Description'].apply(lematize_tokens)\n",
        "industrial_safety_df['Updated Description Lemmas']"
      ],
      "execution_count": 28,
      "outputs": [
        {
          "output_type": "stream",
          "text": [
            "[nltk_data] Downloading package wordnet to /root/nltk_data...\n",
            "[nltk_data]   Unzipping corpora/wordnet.zip.\n"
          ],
          "name": "stdout"
        },
        {
          "output_type": "execute_result",
          "data": {
            "text/plain": [
              "0      [remove, drill, rod, jumbo, maintenance, super...\n",
              "1      [activation, sodium, sulphide, pump, pip, unco...\n",
              "2      [sub, station, milpo, locate, level, collabora...\n",
              "3      [approximately, nv, cx, ob, personnel, begin, ...\n",
              "4      [approximately, circumstances, mechanics, anth...\n",
              "                             ...                        \n",
              "420    [approximately, approximately, lift, kelly, hq...\n",
              "421    [collaborator, move, infrastructure, office, j...\n",
              "422    [environmental, monitor, activity, area, emplo...\n",
              "423    [employee, perform, activity, strip, cathodes,...\n",
              "424    [assistant, clean, floor, module, e, central, ...\n",
              "Name: Updated Description Lemmas, Length: 425, dtype: object"
            ]
          },
          "metadata": {
            "tags": []
          },
          "execution_count": 28
        }
      ]
    },
    {
      "cell_type": "markdown",
      "metadata": {
        "id": "fnn2XyUPl2kd"
      },
      "source": [
        "- #### As we can see Lemmatization performed much better than the stemming so we will preffer lemmatization here "
      ]
    },
    {
      "cell_type": "markdown",
      "metadata": {
        "id": "55B_t13ql2ke"
      },
      "source": [
        "#### Remove the words having length <= 2"
      ]
    },
    {
      "cell_type": "code",
      "metadata": {
        "colab": {
          "base_uri": "https://localhost:8080/"
        },
        "id": "AhJU4dItl2kg",
        "outputId": "c4906725-0df9-4b7e-f793-d945bc89bd8c"
      },
      "source": [
        "# still few nonsense words exist in the lemmatized tokens\n",
        "# we are going to remove those as they can be noise to the data\n",
        "def remove_noise(tokens):\n",
        "    return [i for i in tokens if len(i) > 2]\n",
        "industrial_safety_df['Updated Description Lemmas'] = industrial_safety_df['Updated Description Lemmas'].apply(remove_noise)\n",
        "industrial_safety_df['Updated Description Lemmas']"
      ],
      "execution_count": 29,
      "outputs": [
        {
          "output_type": "execute_result",
          "data": {
            "text/plain": [
              "0      [remove, drill, rod, jumbo, maintenance, super...\n",
              "1      [activation, sodium, sulphide, pump, pip, unco...\n",
              "2      [sub, station, milpo, locate, level, collabora...\n",
              "3      [approximately, personnel, begin, task, unlock...\n",
              "4      [approximately, circumstances, mechanics, anth...\n",
              "                             ...                        \n",
              "420    [approximately, approximately, lift, kelly, to...\n",
              "421    [collaborator, move, infrastructure, office, j...\n",
              "422    [environmental, monitor, activity, area, emplo...\n",
              "423    [employee, perform, activity, strip, cathodes,...\n",
              "424    [assistant, clean, floor, module, central, cam...\n",
              "Name: Updated Description Lemmas, Length: 425, dtype: object"
            ]
          },
          "metadata": {
            "tags": []
          },
          "execution_count": 29
        }
      ]
    },
    {
      "cell_type": "markdown",
      "metadata": {
        "id": "zop05vnwl2ki"
      },
      "source": [
        "- So this is the required corpus after text preprocessing. \n",
        "- now we will convert back this list to string for encoding the text."
      ]
    },
    {
      "cell_type": "markdown",
      "metadata": {
        "id": "qMNLxUxll2ki"
      },
      "source": [
        "### Final Text Data After Preprocessing"
      ]
    },
    {
      "cell_type": "code",
      "metadata": {
        "colab": {
          "base_uri": "https://localhost:8080/"
        },
        "id": "uzdqnZGhl2ki",
        "outputId": "f18769bf-6af4-45c7-acae-f265268b25a0"
      },
      "source": [
        "#Convert the list of tokens into back to the string\n",
        "def to_string(tokens):\n",
        "    return ' '.join(tokens)\n",
        "industrial_safety_df['Updated Description'] = industrial_safety_df['Updated Description Lemmas'].apply(to_string)\n",
        "industrial_safety_df['Updated Description']"
      ],
      "execution_count": 30,
      "outputs": [
        {
          "output_type": "execute_result",
          "data": {
            "text/plain": [
              "0      remove drill rod jumbo maintenance supervisor ...\n",
              "1      activation sodium sulphide pump pip uncouple s...\n",
              "2      sub station milpo locate level collaborator ex...\n",
              "3      approximately personnel begin task unlock soqu...\n",
              "4      approximately circumstances mechanics anthony ...\n",
              "                             ...                        \n",
              "420    approximately approximately lift kelly towards...\n",
              "421    collaborator move infrastructure office julio ...\n",
              "422    environmental monitor activity area employee s...\n",
              "423    employee perform activity strip cathodes pull ...\n",
              "424    assistant clean floor module central camp slip...\n",
              "Name: Updated Description, Length: 425, dtype: object"
            ]
          },
          "metadata": {
            "tags": []
          },
          "execution_count": 30
        }
      ]
    },
    {
      "cell_type": "code",
      "metadata": {
        "colab": {
          "base_uri": "https://localhost:8080/",
          "height": 571
        },
        "id": "3BCDb71zl2km",
        "outputId": "5456e09d-5ca8-405c-a847-0214a6f1b9ac"
      },
      "source": [
        "industrial_safety_df.head()"
      ],
      "execution_count": 31,
      "outputs": [
        {
          "output_type": "execute_result",
          "data": {
            "text/html": [
              "<div>\n",
              "<style scoped>\n",
              "    .dataframe tbody tr th:only-of-type {\n",
              "        vertical-align: middle;\n",
              "    }\n",
              "\n",
              "    .dataframe tbody tr th {\n",
              "        vertical-align: top;\n",
              "    }\n",
              "\n",
              "    .dataframe thead th {\n",
              "        text-align: right;\n",
              "    }\n",
              "</style>\n",
              "<table border=\"1\" class=\"dataframe\">\n",
              "  <thead>\n",
              "    <tr style=\"text-align: right;\">\n",
              "      <th></th>\n",
              "      <th>Date</th>\n",
              "      <th>Countries</th>\n",
              "      <th>Local</th>\n",
              "      <th>Industry Sector</th>\n",
              "      <th>Accident Level</th>\n",
              "      <th>Potential Accident Level</th>\n",
              "      <th>Gender</th>\n",
              "      <th>Employee or Third Party</th>\n",
              "      <th>Critical Risk</th>\n",
              "      <th>Description</th>\n",
              "      <th>Accident Severity</th>\n",
              "      <th>Updated Description</th>\n",
              "      <th>Updated Description Stems</th>\n",
              "      <th>Updated Description Lemmas</th>\n",
              "    </tr>\n",
              "  </thead>\n",
              "  <tbody>\n",
              "    <tr>\n",
              "      <th>0</th>\n",
              "      <td>2016-01-01 00:00:00</td>\n",
              "      <td>Country_01</td>\n",
              "      <td>Local_01</td>\n",
              "      <td>Mining</td>\n",
              "      <td>I</td>\n",
              "      <td>IV</td>\n",
              "      <td>Male</td>\n",
              "      <td>Third Party</td>\n",
              "      <td>Pressed</td>\n",
              "      <td>While removing the drill rod of the Jumbo 08 f...</td>\n",
              "      <td>low</td>\n",
              "      <td>remove drill rod jumbo maintenance supervisor ...</td>\n",
              "      <td>[remov, drill, rod, jumbo, mainten, supervisor...</td>\n",
              "      <td>[remove, drill, rod, jumbo, maintenance, super...</td>\n",
              "    </tr>\n",
              "    <tr>\n",
              "      <th>1</th>\n",
              "      <td>2016-01-02 00:00:00</td>\n",
              "      <td>Country_02</td>\n",
              "      <td>Local_02</td>\n",
              "      <td>Mining</td>\n",
              "      <td>I</td>\n",
              "      <td>IV</td>\n",
              "      <td>Male</td>\n",
              "      <td>Employee</td>\n",
              "      <td>Pressurized Systems</td>\n",
              "      <td>During the activation of a sodium sulphide pum...</td>\n",
              "      <td>low</td>\n",
              "      <td>activation sodium sulphide pump pip uncouple s...</td>\n",
              "      <td>[activ, sodium, sulphid, pump, pipe, uncoupl, ...</td>\n",
              "      <td>[activation, sodium, sulphide, pump, pip, unco...</td>\n",
              "    </tr>\n",
              "    <tr>\n",
              "      <th>2</th>\n",
              "      <td>2016-01-06 00:00:00</td>\n",
              "      <td>Country_01</td>\n",
              "      <td>Local_03</td>\n",
              "      <td>Mining</td>\n",
              "      <td>I</td>\n",
              "      <td>III</td>\n",
              "      <td>Male</td>\n",
              "      <td>Third Party (Remote)</td>\n",
              "      <td>Manual Tools</td>\n",
              "      <td>In the sub-station MILPO located at level +170...</td>\n",
              "      <td>low</td>\n",
              "      <td>sub station milpo locate level collaborator ex...</td>\n",
              "      <td>[sub, station, milpo, locat, level, collabor, ...</td>\n",
              "      <td>[sub, station, milpo, locate, level, collabora...</td>\n",
              "    </tr>\n",
              "    <tr>\n",
              "      <th>3</th>\n",
              "      <td>2016-01-08 00:00:00</td>\n",
              "      <td>Country_01</td>\n",
              "      <td>Local_04</td>\n",
              "      <td>Mining</td>\n",
              "      <td>I</td>\n",
              "      <td>I</td>\n",
              "      <td>Male</td>\n",
              "      <td>Third Party</td>\n",
              "      <td>Others</td>\n",
              "      <td>Being 9:45 am. approximately in the Nv. 1880 C...</td>\n",
              "      <td>low</td>\n",
              "      <td>approximately personnel begin task unlock soqu...</td>\n",
              "      <td>[approxim, nv, cx, ob, personnel, begin, task,...</td>\n",
              "      <td>[approximately, personnel, begin, task, unlock...</td>\n",
              "    </tr>\n",
              "    <tr>\n",
              "      <th>4</th>\n",
              "      <td>2016-01-10 00:00:00</td>\n",
              "      <td>Country_01</td>\n",
              "      <td>Local_04</td>\n",
              "      <td>Mining</td>\n",
              "      <td>IV</td>\n",
              "      <td>IV</td>\n",
              "      <td>Male</td>\n",
              "      <td>Third Party</td>\n",
              "      <td>Others</td>\n",
              "      <td>Approximately at 11:45 a.m. in circumstances t...</td>\n",
              "      <td>high</td>\n",
              "      <td>approximately circumstances mechanics anthony ...</td>\n",
              "      <td>[approxim, circumst, mechan, anthoni, group, l...</td>\n",
              "      <td>[approximately, circumstances, mechanics, anth...</td>\n",
              "    </tr>\n",
              "  </tbody>\n",
              "</table>\n",
              "</div>"
            ],
            "text/plain": [
              "                  Date  ...                         Updated Description Lemmas\n",
              "0  2016-01-01 00:00:00  ...  [remove, drill, rod, jumbo, maintenance, super...\n",
              "1  2016-01-02 00:00:00  ...  [activation, sodium, sulphide, pump, pip, unco...\n",
              "2  2016-01-06 00:00:00  ...  [sub, station, milpo, locate, level, collabora...\n",
              "3  2016-01-08 00:00:00  ...  [approximately, personnel, begin, task, unlock...\n",
              "4  2016-01-10 00:00:00  ...  [approximately, circumstances, mechanics, anth...\n",
              "\n",
              "[5 rows x 14 columns]"
            ]
          },
          "metadata": {
            "tags": []
          },
          "execution_count": 31
        }
      ]
    },
    {
      "cell_type": "markdown",
      "metadata": {
        "id": "7CUY0-zUl2kn"
      },
      "source": [
        "### Text Visualization\n",
        "> Here we will try to visualize each token of the description"
      ]
    },
    {
      "cell_type": "code",
      "metadata": {
        "id": "KfuTbbB5l2kt"
      },
      "source": [
        "#splitting the dataset\n",
        "#we will fecth the description tokens \n",
        "texts_in_severity_low = industrial_safety_df[industrial_safety_df['Accident Severity'] == \"low\"]['Updated Description'] \n",
        "texts_in_severity_moderate = industrial_safety_df[industrial_safety_df['Accident Severity'] == \"moderate\"]['Updated Description'] \n",
        "texts_in_severity_high = industrial_safety_df[industrial_safety_df['Accident Severity'] == \"high\"]['Updated Description'] \n",
        "texts_in_severity_critical = industrial_safety_df[industrial_safety_df['Accident Severity'] == \"critical\"]['Updated Description'] \n"
      ],
      "execution_count": 32,
      "outputs": []
    },
    {
      "cell_type": "markdown",
      "metadata": {
        "id": "1jLVmWMvl2kv"
      },
      "source": [
        "- Let’s visualize our corpus corresponding to the labels \n",
        "- Taking top 15 words and see their frequency in the corpus"
      ]
    },
    {
      "cell_type": "code",
      "metadata": {
        "id": "S-H-flHfl2kw"
      },
      "source": [
        "from yellowbrick.text import FreqDistVisualizer\n",
        "def show_text_freq(item):\n",
        "    if(len(item) > 0):\n",
        "        vectorizer = CountVectorizer()\n",
        "        docs       = vectorizer.fit_transform(item)\n",
        "        features   = vectorizer.get_feature_names()\n",
        "        visualizer = FreqDistVisualizer(features=features, n=15, color='rgb', orient='V')\n",
        "        visualizer.fit(docs)\n",
        "        visualizer.show()\n",
        "    else :\n",
        "        print(\"Empty data-set\")"
      ],
      "execution_count": 33,
      "outputs": []
    },
    {
      "cell_type": "code",
      "metadata": {
        "colab": {
          "base_uri": "https://localhost:8080/",
          "height": 664
        },
        "id": "3O9fpdf7l2kx",
        "outputId": "370b16ac-3ad2-4081-f14c-cbda2a194ec8"
      },
      "source": [
        "show_text_freq(texts_in_severity_low)"
      ],
      "execution_count": 35,
      "outputs": [
        {
          "output_type": "error",
          "ename": "AttributeError",
          "evalue": "ignored",
          "traceback": [
            "\u001b[0;31m---------------------------------------------------------------------------\u001b[0m",
            "\u001b[0;31mAttributeError\u001b[0m                            Traceback (most recent call last)",
            "\u001b[0;32m<ipython-input-35-402e338ba6a3>\u001b[0m in \u001b[0;36m<module>\u001b[0;34m()\u001b[0m\n\u001b[0;32m----> 1\u001b[0;31m \u001b[0mshow_text_freq\u001b[0m\u001b[0;34m(\u001b[0m\u001b[0mtexts_in_severity_low\u001b[0m\u001b[0;34m)\u001b[0m\u001b[0;34m\u001b[0m\u001b[0;34m\u001b[0m\u001b[0m\n\u001b[0m",
            "\u001b[0;32m<ipython-input-33-725e984929b0>\u001b[0m in \u001b[0;36mshow_text_freq\u001b[0;34m(item)\u001b[0m\n\u001b[1;32m      7\u001b[0m         \u001b[0mvisualizer\u001b[0m \u001b[0;34m=\u001b[0m \u001b[0mFreqDistVisualizer\u001b[0m\u001b[0;34m(\u001b[0m\u001b[0mfeatures\u001b[0m\u001b[0;34m=\u001b[0m\u001b[0mfeatures\u001b[0m\u001b[0;34m,\u001b[0m \u001b[0mn\u001b[0m\u001b[0;34m=\u001b[0m\u001b[0;36m15\u001b[0m\u001b[0;34m,\u001b[0m \u001b[0mcolor\u001b[0m\u001b[0;34m=\u001b[0m\u001b[0;34m'rgb'\u001b[0m\u001b[0;34m,\u001b[0m \u001b[0morient\u001b[0m\u001b[0;34m=\u001b[0m\u001b[0;34m'V'\u001b[0m\u001b[0;34m)\u001b[0m\u001b[0;34m\u001b[0m\u001b[0;34m\u001b[0m\u001b[0m\n\u001b[1;32m      8\u001b[0m         \u001b[0mvisualizer\u001b[0m\u001b[0;34m.\u001b[0m\u001b[0mfit\u001b[0m\u001b[0;34m(\u001b[0m\u001b[0mdocs\u001b[0m\u001b[0;34m)\u001b[0m\u001b[0;34m\u001b[0m\u001b[0;34m\u001b[0m\u001b[0m\n\u001b[0;32m----> 9\u001b[0;31m         \u001b[0mvisualizer\u001b[0m\u001b[0;34m.\u001b[0m\u001b[0mshow\u001b[0m\u001b[0;34m(\u001b[0m\u001b[0;34m)\u001b[0m\u001b[0;34m\u001b[0m\u001b[0;34m\u001b[0m\u001b[0m\n\u001b[0m\u001b[1;32m     10\u001b[0m     \u001b[0;32melse\u001b[0m \u001b[0;34m:\u001b[0m\u001b[0;34m\u001b[0m\u001b[0;34m\u001b[0m\u001b[0m\n\u001b[1;32m     11\u001b[0m         \u001b[0mprint\u001b[0m\u001b[0;34m(\u001b[0m\u001b[0;34m\"Empty data-set\"\u001b[0m\u001b[0;34m)\u001b[0m\u001b[0;34m\u001b[0m\u001b[0;34m\u001b[0m\u001b[0m\n",
            "\u001b[0;31mAttributeError\u001b[0m: 'FrequencyVisualizer' object has no attribute 'show'"
          ]
        },
        {
          "output_type": "display_data",
          "data": {
            "image/png": "[encoded data removed]",
            "text/plain": [
              "<Figure size 576x396 with 1 Axes>"
            ]
          },
          "metadata": {
            "tags": []
          }
        }
      ]
    },
    {
      "cell_type": "code",
      "metadata": {
        "colab": {
          "base_uri": "https://localhost:8080/",
          "height": 664
        },
        "id": "HYTHC44Rl2ky",
        "outputId": "f5895631-189e-4a29-c9bb-ad1c1e53843c"
      },
      "source": [
        "show_text_freq(texts_in_severity_moderate)"
      ],
      "execution_count": 36,
      "outputs": [
        {
          "output_type": "error",
          "ename": "AttributeError",
          "evalue": "ignored",
          "traceback": [
            "\u001b[0;31m---------------------------------------------------------------------------\u001b[0m",
            "\u001b[0;31mAttributeError\u001b[0m                            Traceback (most recent call last)",
            "\u001b[0;32m<ipython-input-36-ef7e88a11b66>\u001b[0m in \u001b[0;36m<module>\u001b[0;34m()\u001b[0m\n\u001b[0;32m----> 1\u001b[0;31m \u001b[0mshow_text_freq\u001b[0m\u001b[0;34m(\u001b[0m\u001b[0mtexts_in_severity_moderate\u001b[0m\u001b[0;34m)\u001b[0m\u001b[0;34m\u001b[0m\u001b[0;34m\u001b[0m\u001b[0m\n\u001b[0m",
            "\u001b[0;32m<ipython-input-33-725e984929b0>\u001b[0m in \u001b[0;36mshow_text_freq\u001b[0;34m(item)\u001b[0m\n\u001b[1;32m      7\u001b[0m         \u001b[0mvisualizer\u001b[0m \u001b[0;34m=\u001b[0m \u001b[0mFreqDistVisualizer\u001b[0m\u001b[0;34m(\u001b[0m\u001b[0mfeatures\u001b[0m\u001b[0;34m=\u001b[0m\u001b[0mfeatures\u001b[0m\u001b[0;34m,\u001b[0m \u001b[0mn\u001b[0m\u001b[0;34m=\u001b[0m\u001b[0;36m15\u001b[0m\u001b[0;34m,\u001b[0m \u001b[0mcolor\u001b[0m\u001b[0;34m=\u001b[0m\u001b[0;34m'rgb'\u001b[0m\u001b[0;34m,\u001b[0m \u001b[0morient\u001b[0m\u001b[0;34m=\u001b[0m\u001b[0;34m'V'\u001b[0m\u001b[0;34m)\u001b[0m\u001b[0;34m\u001b[0m\u001b[0;34m\u001b[0m\u001b[0m\n\u001b[1;32m      8\u001b[0m         \u001b[0mvisualizer\u001b[0m\u001b[0;34m.\u001b[0m\u001b[0mfit\u001b[0m\u001b[0;34m(\u001b[0m\u001b[0mdocs\u001b[0m\u001b[0;34m)\u001b[0m\u001b[0;34m\u001b[0m\u001b[0;34m\u001b[0m\u001b[0m\n\u001b[0;32m----> 9\u001b[0;31m         \u001b[0mvisualizer\u001b[0m\u001b[0;34m.\u001b[0m\u001b[0mshow\u001b[0m\u001b[0;34m(\u001b[0m\u001b[0;34m)\u001b[0m\u001b[0;34m\u001b[0m\u001b[0;34m\u001b[0m\u001b[0m\n\u001b[0m\u001b[1;32m     10\u001b[0m     \u001b[0;32melse\u001b[0m \u001b[0;34m:\u001b[0m\u001b[0;34m\u001b[0m\u001b[0;34m\u001b[0m\u001b[0m\n\u001b[1;32m     11\u001b[0m         \u001b[0mprint\u001b[0m\u001b[0;34m(\u001b[0m\u001b[0;34m\"Empty data-set\"\u001b[0m\u001b[0;34m)\u001b[0m\u001b[0;34m\u001b[0m\u001b[0;34m\u001b[0m\u001b[0m\n",
            "\u001b[0;31mAttributeError\u001b[0m: 'FrequencyVisualizer' object has no attribute 'show'"
          ]
        },
        {
          "output_type": "display_data",
          "data": {
            "image/png": "[encoded data removed]",
            "text/plain": [
              "<Figure size 576x396 with 1 Axes>"
            ]
          },
          "metadata": {
            "tags": []
          }
        }
      ]
    },
    {
      "cell_type": "code",
      "metadata": {
        "id": "p0bDq1ptl2kz",
        "outputId": "7e8b67a9-3cab-4b8c-a9e1-a094bfb6dc9f"
      },
      "source": [
        "show_text_freq(texts_in_severity_high)"
      ],
      "execution_count": null,
      "outputs": [
        {
          "output_type": "display_data",
          "data": {
            "image/png": "[encoded data removed]",
            "text/plain": [
              "<Figure size 576x396 with 1 Axes>"
            ]
          },
          "metadata": {
            "tags": []
          }
        }
      ]
    },
    {
      "cell_type": "code",
      "metadata": {
        "colab": {
          "base_uri": "https://localhost:8080/"
        },
        "id": "cLq4k6bXl2k3",
        "outputId": "c337e546-d67c-4d27-e1f4-316e8f170815"
      },
      "source": [
        "show_text_freq(texts_in_severity_critical)"
      ],
      "execution_count": 37,
      "outputs": [
        {
          "output_type": "stream",
          "text": [
            "Empty data-set\n"
          ],
          "name": "stdout"
        }
      ]
    },
    {
      "cell_type": "code",
      "metadata": {
        "colab": {
          "base_uri": "https://localhost:8080/",
          "height": 571
        },
        "id": "XvWEIZLCl2k5",
        "outputId": "74408729-6ab8-4596-9b17-ae122bcd551e"
      },
      "source": [
        "industrial_safety_df.head()"
      ],
      "execution_count": 38,
      "outputs": [
        {
          "output_type": "execute_result",
          "data": {
            "text/html": [
              "<div>\n",
              "<style scoped>\n",
              "    .dataframe tbody tr th:only-of-type {\n",
              "        vertical-align: middle;\n",
              "    }\n",
              "\n",
              "    .dataframe tbody tr th {\n",
              "        vertical-align: top;\n",
              "    }\n",
              "\n",
              "    .dataframe thead th {\n",
              "        text-align: right;\n",
              "    }\n",
              "</style>\n",
              "<table border=\"1\" class=\"dataframe\">\n",
              "  <thead>\n",
              "    <tr style=\"text-align: right;\">\n",
              "      <th></th>\n",
              "      <th>Date</th>\n",
              "      <th>Countries</th>\n",
              "      <th>Local</th>\n",
              "      <th>Industry Sector</th>\n",
              "      <th>Accident Level</th>\n",
              "      <th>Potential Accident Level</th>\n",
              "      <th>Gender</th>\n",
              "      <th>Employee or Third Party</th>\n",
              "      <th>Critical Risk</th>\n",
              "      <th>Description</th>\n",
              "      <th>Accident Severity</th>\n",
              "      <th>Updated Description</th>\n",
              "      <th>Updated Description Stems</th>\n",
              "      <th>Updated Description Lemmas</th>\n",
              "    </tr>\n",
              "  </thead>\n",
              "  <tbody>\n",
              "    <tr>\n",
              "      <th>0</th>\n",
              "      <td>2016-01-01 00:00:00</td>\n",
              "      <td>Country_01</td>\n",
              "      <td>Local_01</td>\n",
              "      <td>Mining</td>\n",
              "      <td>I</td>\n",
              "      <td>IV</td>\n",
              "      <td>Male</td>\n",
              "      <td>Third Party</td>\n",
              "      <td>Pressed</td>\n",
              "      <td>While removing the drill rod of the Jumbo 08 f...</td>\n",
              "      <td>low</td>\n",
              "      <td>remove drill rod jumbo maintenance supervisor ...</td>\n",
              "      <td>[remov, drill, rod, jumbo, mainten, supervisor...</td>\n",
              "      <td>[remove, drill, rod, jumbo, maintenance, super...</td>\n",
              "    </tr>\n",
              "    <tr>\n",
              "      <th>1</th>\n",
              "      <td>2016-01-02 00:00:00</td>\n",
              "      <td>Country_02</td>\n",
              "      <td>Local_02</td>\n",
              "      <td>Mining</td>\n",
              "      <td>I</td>\n",
              "      <td>IV</td>\n",
              "      <td>Male</td>\n",
              "      <td>Employee</td>\n",
              "      <td>Pressurized Systems</td>\n",
              "      <td>During the activation of a sodium sulphide pum...</td>\n",
              "      <td>low</td>\n",
              "      <td>activation sodium sulphide pump pip uncouple s...</td>\n",
              "      <td>[activ, sodium, sulphid, pump, pipe, uncoupl, ...</td>\n",
              "      <td>[activation, sodium, sulphide, pump, pip, unco...</td>\n",
              "    </tr>\n",
              "    <tr>\n",
              "      <th>2</th>\n",
              "      <td>2016-01-06 00:00:00</td>\n",
              "      <td>Country_01</td>\n",
              "      <td>Local_03</td>\n",
              "      <td>Mining</td>\n",
              "      <td>I</td>\n",
              "      <td>III</td>\n",
              "      <td>Male</td>\n",
              "      <td>Third Party (Remote)</td>\n",
              "      <td>Manual Tools</td>\n",
              "      <td>In the sub-station MILPO located at level +170...</td>\n",
              "      <td>low</td>\n",
              "      <td>sub station milpo locate level collaborator ex...</td>\n",
              "      <td>[sub, station, milpo, locat, level, collabor, ...</td>\n",
              "      <td>[sub, station, milpo, locate, level, collabora...</td>\n",
              "    </tr>\n",
              "    <tr>\n",
              "      <th>3</th>\n",
              "      <td>2016-01-08 00:00:00</td>\n",
              "      <td>Country_01</td>\n",
              "      <td>Local_04</td>\n",
              "      <td>Mining</td>\n",
              "      <td>I</td>\n",
              "      <td>I</td>\n",
              "      <td>Male</td>\n",
              "      <td>Third Party</td>\n",
              "      <td>Others</td>\n",
              "      <td>Being 9:45 am. approximately in the Nv. 1880 C...</td>\n",
              "      <td>low</td>\n",
              "      <td>approximately personnel begin task unlock soqu...</td>\n",
              "      <td>[approxim, nv, cx, ob, personnel, begin, task,...</td>\n",
              "      <td>[approximately, personnel, begin, task, unlock...</td>\n",
              "    </tr>\n",
              "    <tr>\n",
              "      <th>4</th>\n",
              "      <td>2016-01-10 00:00:00</td>\n",
              "      <td>Country_01</td>\n",
              "      <td>Local_04</td>\n",
              "      <td>Mining</td>\n",
              "      <td>IV</td>\n",
              "      <td>IV</td>\n",
              "      <td>Male</td>\n",
              "      <td>Third Party</td>\n",
              "      <td>Others</td>\n",
              "      <td>Approximately at 11:45 a.m. in circumstances t...</td>\n",
              "      <td>high</td>\n",
              "      <td>approximately circumstances mechanics anthony ...</td>\n",
              "      <td>[approxim, circumst, mechan, anthoni, group, l...</td>\n",
              "      <td>[approximately, circumstances, mechanics, anth...</td>\n",
              "    </tr>\n",
              "  </tbody>\n",
              "</table>\n",
              "</div>"
            ],
            "text/plain": [
              "                  Date  ...                         Updated Description Lemmas\n",
              "0  2016-01-01 00:00:00  ...  [remove, drill, rod, jumbo, maintenance, super...\n",
              "1  2016-01-02 00:00:00  ...  [activation, sodium, sulphide, pump, pip, unco...\n",
              "2  2016-01-06 00:00:00  ...  [sub, station, milpo, locate, level, collabora...\n",
              "3  2016-01-08 00:00:00  ...  [approximately, personnel, begin, task, unlock...\n",
              "4  2016-01-10 00:00:00  ...  [approximately, circumstances, mechanics, anth...\n",
              "\n",
              "[5 rows x 14 columns]"
            ]
          },
          "metadata": {
            "tags": []
          },
          "execution_count": 38
        }
      ]
    },
    {
      "cell_type": "markdown",
      "metadata": {
        "id": "-66athorl2k6"
      },
      "source": [
        "> ## Data Encoding"
      ]
    },
    {
      "cell_type": "markdown",
      "metadata": {
        "id": "tvA5SANVl2k7"
      },
      "source": [
        "> - ### Bag of Words"
      ]
    },
    {
      "cell_type": "code",
      "metadata": {
        "id": "X1YzU3Vrl2k7"
      },
      "source": [
        "#creating the document or corpus\n",
        "corpus_accident_description = industrial_safety_df['Description'].values\n",
        "#corpus_accident_description"
      ],
      "execution_count": 39,
      "outputs": []
    },
    {
      "cell_type": "code",
      "metadata": {
        "colab": {
          "base_uri": "https://localhost:8080/"
        },
        "id": "QTw-LRYOl2k8",
        "outputId": "38f276b4-7a79-4e30-d778-1d8fe6ac55b5"
      },
      "source": [
        "vec_bow = CountVectorizer()\n",
        "X = vec_bow.fit_transform(corpus_accident_description)\n",
        "features = vec_bow.get_feature_names()\n",
        "#print(features)\n",
        "print(X.toarray())"
      ],
      "execution_count": 40,
      "outputs": [
        {
          "output_type": "stream",
          "text": [
            "[[0 0 0 ... 0 0 0]\n",
            " [0 0 0 ... 0 0 0]\n",
            " [0 0 0 ... 0 0 0]\n",
            " ...\n",
            " [0 0 0 ... 0 0 0]\n",
            " [0 0 0 ... 0 0 0]\n",
            " [1 0 0 ... 0 0 0]]\n"
          ],
          "name": "stdout"
        }
      ]
    },
    {
      "cell_type": "markdown",
      "metadata": {
        "id": "W7abQwFcl2k9"
      },
      "source": [
        "> - ### TF-IDF Encoding"
      ]
    },
    {
      "cell_type": "code",
      "metadata": {
        "colab": {
          "base_uri": "https://localhost:8080/",
          "height": 444
        },
        "id": "Lch8fdVjl2k-",
        "outputId": "c6581455-f915-4dc9-e049-327de95a041d"
      },
      "source": [
        "from sklearn.feature_extraction.text import TfidfVectorizer\n",
        "vec_tfidf = TfidfVectorizer()\n",
        "X = vec_tfidf.fit_transform(corpus_accident_description)\n",
        "words = vec_tfidf.get_feature_names()\n",
        "#print(features)\n",
        "tf_idf_df = pd.DataFrame(X.toarray())\n",
        "tf_idf_df.columns = words\n",
        "tf_idf_df"
      ],
      "execution_count": 41,
      "outputs": [
        {
          "output_type": "execute_result",
          "data": {
            "text/html": [
              "<div>\n",
              "<style scoped>\n",
              "    .dataframe tbody tr th:only-of-type {\n",
              "        vertical-align: middle;\n",
              "    }\n",
              "\n",
              "    .dataframe tbody tr th {\n",
              "        vertical-align: top;\n",
              "    }\n",
              "\n",
              "    .dataframe thead th {\n",
              "        text-align: right;\n",
              "    }\n",
              "</style>\n",
              "<table border=\"1\" class=\"dataframe\">\n",
              "  <thead>\n",
              "    <tr style=\"text-align: right;\">\n",
              "      <th></th>\n",
              "      <th>00</th>\n",
              "      <th>001</th>\n",
              "      <th>007</th>\n",
              "      <th>01</th>\n",
              "      <th>018</th>\n",
              "      <th>0183</th>\n",
              "      <th>02</th>\n",
              "      <th>020</th>\n",
              "      <th>02bp0166</th>\n",
              "      <th>02bp0167</th>\n",
              "      <th>03</th>\n",
              "      <th>031</th>\n",
              "      <th>04</th>\n",
              "      <th>040</th>\n",
              "      <th>042</th>\n",
              "      <th>05</th>\n",
              "      <th>050</th>\n",
              "      <th>05m</th>\n",
              "      <th>06</th>\n",
              "      <th>069</th>\n",
              "      <th>07</th>\n",
              "      <th>08</th>\n",
              "      <th>08fi0502</th>\n",
              "      <th>09</th>\n",
              "      <th>0m</th>\n",
              "      <th>0x0</th>\n",
              "      <th>10</th>\n",
              "      <th>100</th>\n",
              "      <th>100cm</th>\n",
              "      <th>1021</th>\n",
              "      <th>105</th>\n",
              "      <th>1055</th>\n",
              "      <th>1095</th>\n",
              "      <th>10cm</th>\n",
              "      <th>10cmx8cm</th>\n",
              "      <th>10m</th>\n",
              "      <th>10mx0</th>\n",
              "      <th>10x6x5cm</th>\n",
              "      <th>11</th>\n",
              "      <th>110</th>\n",
              "      <th>...</th>\n",
              "      <th>wore</th>\n",
              "      <th>work</th>\n",
              "      <th>worked</th>\n",
              "      <th>worker</th>\n",
              "      <th>workers</th>\n",
              "      <th>working</th>\n",
              "      <th>workplace</th>\n",
              "      <th>works</th>\n",
              "      <th>workshop</th>\n",
              "      <th>worn</th>\n",
              "      <th>would</th>\n",
              "      <th>wound</th>\n",
              "      <th>wounding</th>\n",
              "      <th>wrench</th>\n",
              "      <th>wrist</th>\n",
              "      <th>x0</th>\n",
              "      <th>x1</th>\n",
              "      <th>x3</th>\n",
              "      <th>x32</th>\n",
              "      <th>x40cm</th>\n",
              "      <th>x6</th>\n",
              "      <th>xixás</th>\n",
              "      <th>xrd</th>\n",
              "      <th>xxx</th>\n",
              "      <th>yaranga</th>\n",
              "      <th>yard</th>\n",
              "      <th>ydrs</th>\n",
              "      <th>yields</th>\n",
              "      <th>yolk</th>\n",
              "      <th>you</th>\n",
              "      <th>young</th>\n",
              "      <th>your</th>\n",
              "      <th>z014</th>\n",
              "      <th>zaf</th>\n",
              "      <th>zamac</th>\n",
              "      <th>zero</th>\n",
              "      <th>zinc</th>\n",
              "      <th>zinco</th>\n",
              "      <th>zn</th>\n",
              "      <th>zone</th>\n",
              "    </tr>\n",
              "  </thead>\n",
              "  <tbody>\n",
              "    <tr>\n",
              "      <th>0</th>\n",
              "      <td>0.000000</td>\n",
              "      <td>0.0</td>\n",
              "      <td>0.0</td>\n",
              "      <td>0.0</td>\n",
              "      <td>0.0</td>\n",
              "      <td>0.0</td>\n",
              "      <td>0.0</td>\n",
              "      <td>0.0</td>\n",
              "      <td>0.0</td>\n",
              "      <td>0.0</td>\n",
              "      <td>0.0</td>\n",
              "      <td>0.0</td>\n",
              "      <td>0.0</td>\n",
              "      <td>0.0</td>\n",
              "      <td>0.0</td>\n",
              "      <td>0.0</td>\n",
              "      <td>0.0</td>\n",
              "      <td>0.0</td>\n",
              "      <td>0.000000</td>\n",
              "      <td>0.0</td>\n",
              "      <td>0.0</td>\n",
              "      <td>0.13275</td>\n",
              "      <td>0.0</td>\n",
              "      <td>0.0</td>\n",
              "      <td>0.0</td>\n",
              "      <td>0.0</td>\n",
              "      <td>0.000000</td>\n",
              "      <td>0.0</td>\n",
              "      <td>0.0</td>\n",
              "      <td>0.0</td>\n",
              "      <td>0.0</td>\n",
              "      <td>0.0</td>\n",
              "      <td>0.0</td>\n",
              "      <td>0.0</td>\n",
              "      <td>0.0</td>\n",
              "      <td>0.0</td>\n",
              "      <td>0.0</td>\n",
              "      <td>0.0</td>\n",
              "      <td>0.000000</td>\n",
              "      <td>0.0</td>\n",
              "      <td>...</td>\n",
              "      <td>0.0</td>\n",
              "      <td>0.000000</td>\n",
              "      <td>0.0</td>\n",
              "      <td>0.000000</td>\n",
              "      <td>0.0</td>\n",
              "      <td>0.0</td>\n",
              "      <td>0.0</td>\n",
              "      <td>0.0</td>\n",
              "      <td>0.0</td>\n",
              "      <td>0.0000</td>\n",
              "      <td>0.0</td>\n",
              "      <td>0.0</td>\n",
              "      <td>0.0</td>\n",
              "      <td>0.0</td>\n",
              "      <td>0.0</td>\n",
              "      <td>0.0</td>\n",
              "      <td>0.0</td>\n",
              "      <td>0.0</td>\n",
              "      <td>0.0</td>\n",
              "      <td>0.0</td>\n",
              "      <td>0.0</td>\n",
              "      <td>0.0</td>\n",
              "      <td>0.0</td>\n",
              "      <td>0.0</td>\n",
              "      <td>0.0</td>\n",
              "      <td>0.0</td>\n",
              "      <td>0.0</td>\n",
              "      <td>0.0</td>\n",
              "      <td>0.0</td>\n",
              "      <td>0.0</td>\n",
              "      <td>0.0</td>\n",
              "      <td>0.00000</td>\n",
              "      <td>0.0</td>\n",
              "      <td>0.000000</td>\n",
              "      <td>0.0</td>\n",
              "      <td>0.0</td>\n",
              "      <td>0.0</td>\n",
              "      <td>0.0</td>\n",
              "      <td>0.0</td>\n",
              "      <td>0.0</td>\n",
              "    </tr>\n",
              "    <tr>\n",
              "      <th>1</th>\n",
              "      <td>0.000000</td>\n",
              "      <td>0.0</td>\n",
              "      <td>0.0</td>\n",
              "      <td>0.0</td>\n",
              "      <td>0.0</td>\n",
              "      <td>0.0</td>\n",
              "      <td>0.0</td>\n",
              "      <td>0.0</td>\n",
              "      <td>0.0</td>\n",
              "      <td>0.0</td>\n",
              "      <td>0.0</td>\n",
              "      <td>0.0</td>\n",
              "      <td>0.0</td>\n",
              "      <td>0.0</td>\n",
              "      <td>0.0</td>\n",
              "      <td>0.0</td>\n",
              "      <td>0.0</td>\n",
              "      <td>0.0</td>\n",
              "      <td>0.000000</td>\n",
              "      <td>0.0</td>\n",
              "      <td>0.0</td>\n",
              "      <td>0.00000</td>\n",
              "      <td>0.0</td>\n",
              "      <td>0.0</td>\n",
              "      <td>0.0</td>\n",
              "      <td>0.0</td>\n",
              "      <td>0.000000</td>\n",
              "      <td>0.0</td>\n",
              "      <td>0.0</td>\n",
              "      <td>0.0</td>\n",
              "      <td>0.0</td>\n",
              "      <td>0.0</td>\n",
              "      <td>0.0</td>\n",
              "      <td>0.0</td>\n",
              "      <td>0.0</td>\n",
              "      <td>0.0</td>\n",
              "      <td>0.0</td>\n",
              "      <td>0.0</td>\n",
              "      <td>0.000000</td>\n",
              "      <td>0.0</td>\n",
              "      <td>...</td>\n",
              "      <td>0.0</td>\n",
              "      <td>0.000000</td>\n",
              "      <td>0.0</td>\n",
              "      <td>0.000000</td>\n",
              "      <td>0.0</td>\n",
              "      <td>0.0</td>\n",
              "      <td>0.0</td>\n",
              "      <td>0.0</td>\n",
              "      <td>0.0</td>\n",
              "      <td>0.0000</td>\n",
              "      <td>0.0</td>\n",
              "      <td>0.0</td>\n",
              "      <td>0.0</td>\n",
              "      <td>0.0</td>\n",
              "      <td>0.0</td>\n",
              "      <td>0.0</td>\n",
              "      <td>0.0</td>\n",
              "      <td>0.0</td>\n",
              "      <td>0.0</td>\n",
              "      <td>0.0</td>\n",
              "      <td>0.0</td>\n",
              "      <td>0.0</td>\n",
              "      <td>0.0</td>\n",
              "      <td>0.0</td>\n",
              "      <td>0.0</td>\n",
              "      <td>0.0</td>\n",
              "      <td>0.0</td>\n",
              "      <td>0.0</td>\n",
              "      <td>0.0</td>\n",
              "      <td>0.0</td>\n",
              "      <td>0.0</td>\n",
              "      <td>0.00000</td>\n",
              "      <td>0.0</td>\n",
              "      <td>0.000000</td>\n",
              "      <td>0.0</td>\n",
              "      <td>0.0</td>\n",
              "      <td>0.0</td>\n",
              "      <td>0.0</td>\n",
              "      <td>0.0</td>\n",
              "      <td>0.0</td>\n",
              "    </tr>\n",
              "    <tr>\n",
              "      <th>2</th>\n",
              "      <td>0.000000</td>\n",
              "      <td>0.0</td>\n",
              "      <td>0.0</td>\n",
              "      <td>0.0</td>\n",
              "      <td>0.0</td>\n",
              "      <td>0.0</td>\n",
              "      <td>0.0</td>\n",
              "      <td>0.0</td>\n",
              "      <td>0.0</td>\n",
              "      <td>0.0</td>\n",
              "      <td>0.0</td>\n",
              "      <td>0.0</td>\n",
              "      <td>0.0</td>\n",
              "      <td>0.0</td>\n",
              "      <td>0.0</td>\n",
              "      <td>0.0</td>\n",
              "      <td>0.0</td>\n",
              "      <td>0.0</td>\n",
              "      <td>0.000000</td>\n",
              "      <td>0.0</td>\n",
              "      <td>0.0</td>\n",
              "      <td>0.00000</td>\n",
              "      <td>0.0</td>\n",
              "      <td>0.0</td>\n",
              "      <td>0.0</td>\n",
              "      <td>0.0</td>\n",
              "      <td>0.000000</td>\n",
              "      <td>0.0</td>\n",
              "      <td>0.0</td>\n",
              "      <td>0.0</td>\n",
              "      <td>0.0</td>\n",
              "      <td>0.0</td>\n",
              "      <td>0.0</td>\n",
              "      <td>0.0</td>\n",
              "      <td>0.0</td>\n",
              "      <td>0.0</td>\n",
              "      <td>0.0</td>\n",
              "      <td>0.0</td>\n",
              "      <td>0.000000</td>\n",
              "      <td>0.0</td>\n",
              "      <td>...</td>\n",
              "      <td>0.0</td>\n",
              "      <td>0.094401</td>\n",
              "      <td>0.0</td>\n",
              "      <td>0.000000</td>\n",
              "      <td>0.0</td>\n",
              "      <td>0.0</td>\n",
              "      <td>0.0</td>\n",
              "      <td>0.0</td>\n",
              "      <td>0.0</td>\n",
              "      <td>0.0000</td>\n",
              "      <td>0.0</td>\n",
              "      <td>0.0</td>\n",
              "      <td>0.0</td>\n",
              "      <td>0.0</td>\n",
              "      <td>0.0</td>\n",
              "      <td>0.0</td>\n",
              "      <td>0.0</td>\n",
              "      <td>0.0</td>\n",
              "      <td>0.0</td>\n",
              "      <td>0.0</td>\n",
              "      <td>0.0</td>\n",
              "      <td>0.0</td>\n",
              "      <td>0.0</td>\n",
              "      <td>0.0</td>\n",
              "      <td>0.0</td>\n",
              "      <td>0.0</td>\n",
              "      <td>0.0</td>\n",
              "      <td>0.0</td>\n",
              "      <td>0.0</td>\n",
              "      <td>0.0</td>\n",
              "      <td>0.0</td>\n",
              "      <td>0.00000</td>\n",
              "      <td>0.0</td>\n",
              "      <td>0.000000</td>\n",
              "      <td>0.0</td>\n",
              "      <td>0.0</td>\n",
              "      <td>0.0</td>\n",
              "      <td>0.0</td>\n",
              "      <td>0.0</td>\n",
              "      <td>0.0</td>\n",
              "    </tr>\n",
              "    <tr>\n",
              "      <th>3</th>\n",
              "      <td>0.000000</td>\n",
              "      <td>0.0</td>\n",
              "      <td>0.0</td>\n",
              "      <td>0.0</td>\n",
              "      <td>0.0</td>\n",
              "      <td>0.0</td>\n",
              "      <td>0.0</td>\n",
              "      <td>0.0</td>\n",
              "      <td>0.0</td>\n",
              "      <td>0.0</td>\n",
              "      <td>0.0</td>\n",
              "      <td>0.0</td>\n",
              "      <td>0.0</td>\n",
              "      <td>0.0</td>\n",
              "      <td>0.0</td>\n",
              "      <td>0.0</td>\n",
              "      <td>0.0</td>\n",
              "      <td>0.0</td>\n",
              "      <td>0.000000</td>\n",
              "      <td>0.0</td>\n",
              "      <td>0.0</td>\n",
              "      <td>0.00000</td>\n",
              "      <td>0.0</td>\n",
              "      <td>0.0</td>\n",
              "      <td>0.0</td>\n",
              "      <td>0.0</td>\n",
              "      <td>0.000000</td>\n",
              "      <td>0.0</td>\n",
              "      <td>0.0</td>\n",
              "      <td>0.0</td>\n",
              "      <td>0.0</td>\n",
              "      <td>0.0</td>\n",
              "      <td>0.0</td>\n",
              "      <td>0.0</td>\n",
              "      <td>0.0</td>\n",
              "      <td>0.0</td>\n",
              "      <td>0.0</td>\n",
              "      <td>0.0</td>\n",
              "      <td>0.000000</td>\n",
              "      <td>0.0</td>\n",
              "      <td>...</td>\n",
              "      <td>0.0</td>\n",
              "      <td>0.000000</td>\n",
              "      <td>0.0</td>\n",
              "      <td>0.000000</td>\n",
              "      <td>0.0</td>\n",
              "      <td>0.0</td>\n",
              "      <td>0.0</td>\n",
              "      <td>0.0</td>\n",
              "      <td>0.0</td>\n",
              "      <td>0.1347</td>\n",
              "      <td>0.0</td>\n",
              "      <td>0.0</td>\n",
              "      <td>0.0</td>\n",
              "      <td>0.0</td>\n",
              "      <td>0.0</td>\n",
              "      <td>0.0</td>\n",
              "      <td>0.0</td>\n",
              "      <td>0.0</td>\n",
              "      <td>0.0</td>\n",
              "      <td>0.0</td>\n",
              "      <td>0.0</td>\n",
              "      <td>0.0</td>\n",
              "      <td>0.0</td>\n",
              "      <td>0.0</td>\n",
              "      <td>0.0</td>\n",
              "      <td>0.0</td>\n",
              "      <td>0.0</td>\n",
              "      <td>0.0</td>\n",
              "      <td>0.0</td>\n",
              "      <td>0.0</td>\n",
              "      <td>0.0</td>\n",
              "      <td>0.10747</td>\n",
              "      <td>0.0</td>\n",
              "      <td>0.000000</td>\n",
              "      <td>0.0</td>\n",
              "      <td>0.0</td>\n",
              "      <td>0.0</td>\n",
              "      <td>0.0</td>\n",
              "      <td>0.0</td>\n",
              "      <td>0.0</td>\n",
              "    </tr>\n",
              "    <tr>\n",
              "      <th>4</th>\n",
              "      <td>0.000000</td>\n",
              "      <td>0.0</td>\n",
              "      <td>0.0</td>\n",
              "      <td>0.0</td>\n",
              "      <td>0.0</td>\n",
              "      <td>0.0</td>\n",
              "      <td>0.0</td>\n",
              "      <td>0.0</td>\n",
              "      <td>0.0</td>\n",
              "      <td>0.0</td>\n",
              "      <td>0.0</td>\n",
              "      <td>0.0</td>\n",
              "      <td>0.0</td>\n",
              "      <td>0.0</td>\n",
              "      <td>0.0</td>\n",
              "      <td>0.0</td>\n",
              "      <td>0.0</td>\n",
              "      <td>0.0</td>\n",
              "      <td>0.141116</td>\n",
              "      <td>0.0</td>\n",
              "      <td>0.0</td>\n",
              "      <td>0.00000</td>\n",
              "      <td>0.0</td>\n",
              "      <td>0.0</td>\n",
              "      <td>0.0</td>\n",
              "      <td>0.0</td>\n",
              "      <td>0.000000</td>\n",
              "      <td>0.0</td>\n",
              "      <td>0.0</td>\n",
              "      <td>0.0</td>\n",
              "      <td>0.0</td>\n",
              "      <td>0.0</td>\n",
              "      <td>0.0</td>\n",
              "      <td>0.0</td>\n",
              "      <td>0.0</td>\n",
              "      <td>0.0</td>\n",
              "      <td>0.0</td>\n",
              "      <td>0.0</td>\n",
              "      <td>0.113764</td>\n",
              "      <td>0.0</td>\n",
              "      <td>...</td>\n",
              "      <td>0.0</td>\n",
              "      <td>0.000000</td>\n",
              "      <td>0.0</td>\n",
              "      <td>0.076318</td>\n",
              "      <td>0.0</td>\n",
              "      <td>0.0</td>\n",
              "      <td>0.0</td>\n",
              "      <td>0.0</td>\n",
              "      <td>0.0</td>\n",
              "      <td>0.0000</td>\n",
              "      <td>0.0</td>\n",
              "      <td>0.0</td>\n",
              "      <td>0.0</td>\n",
              "      <td>0.0</td>\n",
              "      <td>0.0</td>\n",
              "      <td>0.0</td>\n",
              "      <td>0.0</td>\n",
              "      <td>0.0</td>\n",
              "      <td>0.0</td>\n",
              "      <td>0.0</td>\n",
              "      <td>0.0</td>\n",
              "      <td>0.0</td>\n",
              "      <td>0.0</td>\n",
              "      <td>0.0</td>\n",
              "      <td>0.0</td>\n",
              "      <td>0.0</td>\n",
              "      <td>0.0</td>\n",
              "      <td>0.0</td>\n",
              "      <td>0.0</td>\n",
              "      <td>0.0</td>\n",
              "      <td>0.0</td>\n",
              "      <td>0.00000</td>\n",
              "      <td>0.0</td>\n",
              "      <td>0.158372</td>\n",
              "      <td>0.0</td>\n",
              "      <td>0.0</td>\n",
              "      <td>0.0</td>\n",
              "      <td>0.0</td>\n",
              "      <td>0.0</td>\n",
              "      <td>0.0</td>\n",
              "    </tr>\n",
              "    <tr>\n",
              "      <th>...</th>\n",
              "      <td>...</td>\n",
              "      <td>...</td>\n",
              "      <td>...</td>\n",
              "      <td>...</td>\n",
              "      <td>...</td>\n",
              "      <td>...</td>\n",
              "      <td>...</td>\n",
              "      <td>...</td>\n",
              "      <td>...</td>\n",
              "      <td>...</td>\n",
              "      <td>...</td>\n",
              "      <td>...</td>\n",
              "      <td>...</td>\n",
              "      <td>...</td>\n",
              "      <td>...</td>\n",
              "      <td>...</td>\n",
              "      <td>...</td>\n",
              "      <td>...</td>\n",
              "      <td>...</td>\n",
              "      <td>...</td>\n",
              "      <td>...</td>\n",
              "      <td>...</td>\n",
              "      <td>...</td>\n",
              "      <td>...</td>\n",
              "      <td>...</td>\n",
              "      <td>...</td>\n",
              "      <td>...</td>\n",
              "      <td>...</td>\n",
              "      <td>...</td>\n",
              "      <td>...</td>\n",
              "      <td>...</td>\n",
              "      <td>...</td>\n",
              "      <td>...</td>\n",
              "      <td>...</td>\n",
              "      <td>...</td>\n",
              "      <td>...</td>\n",
              "      <td>...</td>\n",
              "      <td>...</td>\n",
              "      <td>...</td>\n",
              "      <td>...</td>\n",
              "      <td>...</td>\n",
              "      <td>...</td>\n",
              "      <td>...</td>\n",
              "      <td>...</td>\n",
              "      <td>...</td>\n",
              "      <td>...</td>\n",
              "      <td>...</td>\n",
              "      <td>...</td>\n",
              "      <td>...</td>\n",
              "      <td>...</td>\n",
              "      <td>...</td>\n",
              "      <td>...</td>\n",
              "      <td>...</td>\n",
              "      <td>...</td>\n",
              "      <td>...</td>\n",
              "      <td>...</td>\n",
              "      <td>...</td>\n",
              "      <td>...</td>\n",
              "      <td>...</td>\n",
              "      <td>...</td>\n",
              "      <td>...</td>\n",
              "      <td>...</td>\n",
              "      <td>...</td>\n",
              "      <td>...</td>\n",
              "      <td>...</td>\n",
              "      <td>...</td>\n",
              "      <td>...</td>\n",
              "      <td>...</td>\n",
              "      <td>...</td>\n",
              "      <td>...</td>\n",
              "      <td>...</td>\n",
              "      <td>...</td>\n",
              "      <td>...</td>\n",
              "      <td>...</td>\n",
              "      <td>...</td>\n",
              "      <td>...</td>\n",
              "      <td>...</td>\n",
              "      <td>...</td>\n",
              "      <td>...</td>\n",
              "      <td>...</td>\n",
              "      <td>...</td>\n",
              "    </tr>\n",
              "    <tr>\n",
              "      <th>420</th>\n",
              "      <td>0.191375</td>\n",
              "      <td>0.0</td>\n",
              "      <td>0.0</td>\n",
              "      <td>0.0</td>\n",
              "      <td>0.0</td>\n",
              "      <td>0.0</td>\n",
              "      <td>0.0</td>\n",
              "      <td>0.0</td>\n",
              "      <td>0.0</td>\n",
              "      <td>0.0</td>\n",
              "      <td>0.0</td>\n",
              "      <td>0.0</td>\n",
              "      <td>0.0</td>\n",
              "      <td>0.0</td>\n",
              "      <td>0.0</td>\n",
              "      <td>0.0</td>\n",
              "      <td>0.0</td>\n",
              "      <td>0.0</td>\n",
              "      <td>0.000000</td>\n",
              "      <td>0.0</td>\n",
              "      <td>0.0</td>\n",
              "      <td>0.00000</td>\n",
              "      <td>0.0</td>\n",
              "      <td>0.0</td>\n",
              "      <td>0.0</td>\n",
              "      <td>0.0</td>\n",
              "      <td>0.000000</td>\n",
              "      <td>0.0</td>\n",
              "      <td>0.0</td>\n",
              "      <td>0.0</td>\n",
              "      <td>0.0</td>\n",
              "      <td>0.0</td>\n",
              "      <td>0.0</td>\n",
              "      <td>0.0</td>\n",
              "      <td>0.0</td>\n",
              "      <td>0.0</td>\n",
              "      <td>0.0</td>\n",
              "      <td>0.0</td>\n",
              "      <td>0.000000</td>\n",
              "      <td>0.0</td>\n",
              "      <td>...</td>\n",
              "      <td>0.0</td>\n",
              "      <td>0.000000</td>\n",
              "      <td>0.0</td>\n",
              "      <td>0.000000</td>\n",
              "      <td>0.0</td>\n",
              "      <td>0.0</td>\n",
              "      <td>0.0</td>\n",
              "      <td>0.0</td>\n",
              "      <td>0.0</td>\n",
              "      <td>0.0000</td>\n",
              "      <td>0.0</td>\n",
              "      <td>0.0</td>\n",
              "      <td>0.0</td>\n",
              "      <td>0.0</td>\n",
              "      <td>0.0</td>\n",
              "      <td>0.0</td>\n",
              "      <td>0.0</td>\n",
              "      <td>0.0</td>\n",
              "      <td>0.0</td>\n",
              "      <td>0.0</td>\n",
              "      <td>0.0</td>\n",
              "      <td>0.0</td>\n",
              "      <td>0.0</td>\n",
              "      <td>0.0</td>\n",
              "      <td>0.0</td>\n",
              "      <td>0.0</td>\n",
              "      <td>0.0</td>\n",
              "      <td>0.0</td>\n",
              "      <td>0.0</td>\n",
              "      <td>0.0</td>\n",
              "      <td>0.0</td>\n",
              "      <td>0.00000</td>\n",
              "      <td>0.0</td>\n",
              "      <td>0.000000</td>\n",
              "      <td>0.0</td>\n",
              "      <td>0.0</td>\n",
              "      <td>0.0</td>\n",
              "      <td>0.0</td>\n",
              "      <td>0.0</td>\n",
              "      <td>0.0</td>\n",
              "    </tr>\n",
              "    <tr>\n",
              "      <th>421</th>\n",
              "      <td>0.000000</td>\n",
              "      <td>0.0</td>\n",
              "      <td>0.0</td>\n",
              "      <td>0.0</td>\n",
              "      <td>0.0</td>\n",
              "      <td>0.0</td>\n",
              "      <td>0.0</td>\n",
              "      <td>0.0</td>\n",
              "      <td>0.0</td>\n",
              "      <td>0.0</td>\n",
              "      <td>0.0</td>\n",
              "      <td>0.0</td>\n",
              "      <td>0.0</td>\n",
              "      <td>0.0</td>\n",
              "      <td>0.0</td>\n",
              "      <td>0.0</td>\n",
              "      <td>0.0</td>\n",
              "      <td>0.0</td>\n",
              "      <td>0.000000</td>\n",
              "      <td>0.0</td>\n",
              "      <td>0.0</td>\n",
              "      <td>0.00000</td>\n",
              "      <td>0.0</td>\n",
              "      <td>0.0</td>\n",
              "      <td>0.0</td>\n",
              "      <td>0.0</td>\n",
              "      <td>0.000000</td>\n",
              "      <td>0.0</td>\n",
              "      <td>0.0</td>\n",
              "      <td>0.0</td>\n",
              "      <td>0.0</td>\n",
              "      <td>0.0</td>\n",
              "      <td>0.0</td>\n",
              "      <td>0.0</td>\n",
              "      <td>0.0</td>\n",
              "      <td>0.0</td>\n",
              "      <td>0.0</td>\n",
              "      <td>0.0</td>\n",
              "      <td>0.000000</td>\n",
              "      <td>0.0</td>\n",
              "      <td>...</td>\n",
              "      <td>0.0</td>\n",
              "      <td>0.000000</td>\n",
              "      <td>0.0</td>\n",
              "      <td>0.000000</td>\n",
              "      <td>0.0</td>\n",
              "      <td>0.0</td>\n",
              "      <td>0.0</td>\n",
              "      <td>0.0</td>\n",
              "      <td>0.0</td>\n",
              "      <td>0.0000</td>\n",
              "      <td>0.0</td>\n",
              "      <td>0.0</td>\n",
              "      <td>0.0</td>\n",
              "      <td>0.0</td>\n",
              "      <td>0.0</td>\n",
              "      <td>0.0</td>\n",
              "      <td>0.0</td>\n",
              "      <td>0.0</td>\n",
              "      <td>0.0</td>\n",
              "      <td>0.0</td>\n",
              "      <td>0.0</td>\n",
              "      <td>0.0</td>\n",
              "      <td>0.0</td>\n",
              "      <td>0.0</td>\n",
              "      <td>0.0</td>\n",
              "      <td>0.0</td>\n",
              "      <td>0.0</td>\n",
              "      <td>0.0</td>\n",
              "      <td>0.0</td>\n",
              "      <td>0.0</td>\n",
              "      <td>0.0</td>\n",
              "      <td>0.00000</td>\n",
              "      <td>0.0</td>\n",
              "      <td>0.000000</td>\n",
              "      <td>0.0</td>\n",
              "      <td>0.0</td>\n",
              "      <td>0.0</td>\n",
              "      <td>0.0</td>\n",
              "      <td>0.0</td>\n",
              "      <td>0.0</td>\n",
              "    </tr>\n",
              "    <tr>\n",
              "      <th>422</th>\n",
              "      <td>0.000000</td>\n",
              "      <td>0.0</td>\n",
              "      <td>0.0</td>\n",
              "      <td>0.0</td>\n",
              "      <td>0.0</td>\n",
              "      <td>0.0</td>\n",
              "      <td>0.0</td>\n",
              "      <td>0.0</td>\n",
              "      <td>0.0</td>\n",
              "      <td>0.0</td>\n",
              "      <td>0.0</td>\n",
              "      <td>0.0</td>\n",
              "      <td>0.0</td>\n",
              "      <td>0.0</td>\n",
              "      <td>0.0</td>\n",
              "      <td>0.0</td>\n",
              "      <td>0.0</td>\n",
              "      <td>0.0</td>\n",
              "      <td>0.000000</td>\n",
              "      <td>0.0</td>\n",
              "      <td>0.0</td>\n",
              "      <td>0.00000</td>\n",
              "      <td>0.0</td>\n",
              "      <td>0.0</td>\n",
              "      <td>0.0</td>\n",
              "      <td>0.0</td>\n",
              "      <td>0.000000</td>\n",
              "      <td>0.0</td>\n",
              "      <td>0.0</td>\n",
              "      <td>0.0</td>\n",
              "      <td>0.0</td>\n",
              "      <td>0.0</td>\n",
              "      <td>0.0</td>\n",
              "      <td>0.0</td>\n",
              "      <td>0.0</td>\n",
              "      <td>0.0</td>\n",
              "      <td>0.0</td>\n",
              "      <td>0.0</td>\n",
              "      <td>0.000000</td>\n",
              "      <td>0.0</td>\n",
              "      <td>...</td>\n",
              "      <td>0.0</td>\n",
              "      <td>0.000000</td>\n",
              "      <td>0.0</td>\n",
              "      <td>0.000000</td>\n",
              "      <td>0.0</td>\n",
              "      <td>0.0</td>\n",
              "      <td>0.0</td>\n",
              "      <td>0.0</td>\n",
              "      <td>0.0</td>\n",
              "      <td>0.0000</td>\n",
              "      <td>0.0</td>\n",
              "      <td>0.0</td>\n",
              "      <td>0.0</td>\n",
              "      <td>0.0</td>\n",
              "      <td>0.0</td>\n",
              "      <td>0.0</td>\n",
              "      <td>0.0</td>\n",
              "      <td>0.0</td>\n",
              "      <td>0.0</td>\n",
              "      <td>0.0</td>\n",
              "      <td>0.0</td>\n",
              "      <td>0.0</td>\n",
              "      <td>0.0</td>\n",
              "      <td>0.0</td>\n",
              "      <td>0.0</td>\n",
              "      <td>0.0</td>\n",
              "      <td>0.0</td>\n",
              "      <td>0.0</td>\n",
              "      <td>0.0</td>\n",
              "      <td>0.0</td>\n",
              "      <td>0.0</td>\n",
              "      <td>0.00000</td>\n",
              "      <td>0.0</td>\n",
              "      <td>0.000000</td>\n",
              "      <td>0.0</td>\n",
              "      <td>0.0</td>\n",
              "      <td>0.0</td>\n",
              "      <td>0.0</td>\n",
              "      <td>0.0</td>\n",
              "      <td>0.0</td>\n",
              "    </tr>\n",
              "    <tr>\n",
              "      <th>423</th>\n",
              "      <td>0.000000</td>\n",
              "      <td>0.0</td>\n",
              "      <td>0.0</td>\n",
              "      <td>0.0</td>\n",
              "      <td>0.0</td>\n",
              "      <td>0.0</td>\n",
              "      <td>0.0</td>\n",
              "      <td>0.0</td>\n",
              "      <td>0.0</td>\n",
              "      <td>0.0</td>\n",
              "      <td>0.0</td>\n",
              "      <td>0.0</td>\n",
              "      <td>0.0</td>\n",
              "      <td>0.0</td>\n",
              "      <td>0.0</td>\n",
              "      <td>0.0</td>\n",
              "      <td>0.0</td>\n",
              "      <td>0.0</td>\n",
              "      <td>0.000000</td>\n",
              "      <td>0.0</td>\n",
              "      <td>0.0</td>\n",
              "      <td>0.00000</td>\n",
              "      <td>0.0</td>\n",
              "      <td>0.0</td>\n",
              "      <td>0.0</td>\n",
              "      <td>0.0</td>\n",
              "      <td>0.000000</td>\n",
              "      <td>0.0</td>\n",
              "      <td>0.0</td>\n",
              "      <td>0.0</td>\n",
              "      <td>0.0</td>\n",
              "      <td>0.0</td>\n",
              "      <td>0.0</td>\n",
              "      <td>0.0</td>\n",
              "      <td>0.0</td>\n",
              "      <td>0.0</td>\n",
              "      <td>0.0</td>\n",
              "      <td>0.0</td>\n",
              "      <td>0.000000</td>\n",
              "      <td>0.0</td>\n",
              "      <td>...</td>\n",
              "      <td>0.0</td>\n",
              "      <td>0.000000</td>\n",
              "      <td>0.0</td>\n",
              "      <td>0.000000</td>\n",
              "      <td>0.0</td>\n",
              "      <td>0.0</td>\n",
              "      <td>0.0</td>\n",
              "      <td>0.0</td>\n",
              "      <td>0.0</td>\n",
              "      <td>0.0000</td>\n",
              "      <td>0.0</td>\n",
              "      <td>0.0</td>\n",
              "      <td>0.0</td>\n",
              "      <td>0.0</td>\n",
              "      <td>0.0</td>\n",
              "      <td>0.0</td>\n",
              "      <td>0.0</td>\n",
              "      <td>0.0</td>\n",
              "      <td>0.0</td>\n",
              "      <td>0.0</td>\n",
              "      <td>0.0</td>\n",
              "      <td>0.0</td>\n",
              "      <td>0.0</td>\n",
              "      <td>0.0</td>\n",
              "      <td>0.0</td>\n",
              "      <td>0.0</td>\n",
              "      <td>0.0</td>\n",
              "      <td>0.0</td>\n",
              "      <td>0.0</td>\n",
              "      <td>0.0</td>\n",
              "      <td>0.0</td>\n",
              "      <td>0.00000</td>\n",
              "      <td>0.0</td>\n",
              "      <td>0.000000</td>\n",
              "      <td>0.0</td>\n",
              "      <td>0.0</td>\n",
              "      <td>0.0</td>\n",
              "      <td>0.0</td>\n",
              "      <td>0.0</td>\n",
              "      <td>0.0</td>\n",
              "    </tr>\n",
              "    <tr>\n",
              "      <th>424</th>\n",
              "      <td>0.196179</td>\n",
              "      <td>0.0</td>\n",
              "      <td>0.0</td>\n",
              "      <td>0.0</td>\n",
              "      <td>0.0</td>\n",
              "      <td>0.0</td>\n",
              "      <td>0.0</td>\n",
              "      <td>0.0</td>\n",
              "      <td>0.0</td>\n",
              "      <td>0.0</td>\n",
              "      <td>0.0</td>\n",
              "      <td>0.0</td>\n",
              "      <td>0.0</td>\n",
              "      <td>0.0</td>\n",
              "      <td>0.0</td>\n",
              "      <td>0.0</td>\n",
              "      <td>0.0</td>\n",
              "      <td>0.0</td>\n",
              "      <td>0.000000</td>\n",
              "      <td>0.0</td>\n",
              "      <td>0.0</td>\n",
              "      <td>0.00000</td>\n",
              "      <td>0.0</td>\n",
              "      <td>0.0</td>\n",
              "      <td>0.0</td>\n",
              "      <td>0.0</td>\n",
              "      <td>0.159637</td>\n",
              "      <td>0.0</td>\n",
              "      <td>0.0</td>\n",
              "      <td>0.0</td>\n",
              "      <td>0.0</td>\n",
              "      <td>0.0</td>\n",
              "      <td>0.0</td>\n",
              "      <td>0.0</td>\n",
              "      <td>0.0</td>\n",
              "      <td>0.0</td>\n",
              "      <td>0.0</td>\n",
              "      <td>0.0</td>\n",
              "      <td>0.000000</td>\n",
              "      <td>0.0</td>\n",
              "      <td>...</td>\n",
              "      <td>0.0</td>\n",
              "      <td>0.000000</td>\n",
              "      <td>0.0</td>\n",
              "      <td>0.000000</td>\n",
              "      <td>0.0</td>\n",
              "      <td>0.0</td>\n",
              "      <td>0.0</td>\n",
              "      <td>0.0</td>\n",
              "      <td>0.0</td>\n",
              "      <td>0.0000</td>\n",
              "      <td>0.0</td>\n",
              "      <td>0.0</td>\n",
              "      <td>0.0</td>\n",
              "      <td>0.0</td>\n",
              "      <td>0.0</td>\n",
              "      <td>0.0</td>\n",
              "      <td>0.0</td>\n",
              "      <td>0.0</td>\n",
              "      <td>0.0</td>\n",
              "      <td>0.0</td>\n",
              "      <td>0.0</td>\n",
              "      <td>0.0</td>\n",
              "      <td>0.0</td>\n",
              "      <td>0.0</td>\n",
              "      <td>0.0</td>\n",
              "      <td>0.0</td>\n",
              "      <td>0.0</td>\n",
              "      <td>0.0</td>\n",
              "      <td>0.0</td>\n",
              "      <td>0.0</td>\n",
              "      <td>0.0</td>\n",
              "      <td>0.00000</td>\n",
              "      <td>0.0</td>\n",
              "      <td>0.000000</td>\n",
              "      <td>0.0</td>\n",
              "      <td>0.0</td>\n",
              "      <td>0.0</td>\n",
              "      <td>0.0</td>\n",
              "      <td>0.0</td>\n",
              "      <td>0.0</td>\n",
              "    </tr>\n",
              "  </tbody>\n",
              "</table>\n",
              "<p>425 rows × 3395 columns</p>\n",
              "</div>"
            ],
            "text/plain": [
              "           00  001  007   01  018  0183  ...  zamac  zero  zinc  zinco   zn  zone\n",
              "0    0.000000  0.0  0.0  0.0  0.0   0.0  ...    0.0   0.0   0.0    0.0  0.0   0.0\n",
              "1    0.000000  0.0  0.0  0.0  0.0   0.0  ...    0.0   0.0   0.0    0.0  0.0   0.0\n",
              "2    0.000000  0.0  0.0  0.0  0.0   0.0  ...    0.0   0.0   0.0    0.0  0.0   0.0\n",
              "3    0.000000  0.0  0.0  0.0  0.0   0.0  ...    0.0   0.0   0.0    0.0  0.0   0.0\n",
              "4    0.000000  0.0  0.0  0.0  0.0   0.0  ...    0.0   0.0   0.0    0.0  0.0   0.0\n",
              "..        ...  ...  ...  ...  ...   ...  ...    ...   ...   ...    ...  ...   ...\n",
              "420  0.191375  0.0  0.0  0.0  0.0   0.0  ...    0.0   0.0   0.0    0.0  0.0   0.0\n",
              "421  0.000000  0.0  0.0  0.0  0.0   0.0  ...    0.0   0.0   0.0    0.0  0.0   0.0\n",
              "422  0.000000  0.0  0.0  0.0  0.0   0.0  ...    0.0   0.0   0.0    0.0  0.0   0.0\n",
              "423  0.000000  0.0  0.0  0.0  0.0   0.0  ...    0.0   0.0   0.0    0.0  0.0   0.0\n",
              "424  0.196179  0.0  0.0  0.0  0.0   0.0  ...    0.0   0.0   0.0    0.0  0.0   0.0\n",
              "\n",
              "[425 rows x 3395 columns]"
            ]
          },
          "metadata": {
            "tags": []
          },
          "execution_count": 41
        }
      ]
    },
    {
      "cell_type": "markdown",
      "metadata": {
        "id": "3CZfBDjMl2k_"
      },
      "source": [
        " - ### Random Forest Classifier"
      ]
    },
    {
      "cell_type": "code",
      "metadata": {
        "colab": {
          "base_uri": "https://localhost:8080/",
          "height": 424
        },
        "id": "UegHp-Cbl2k_",
        "outputId": "c8bcf515-1e32-4c9a-fc03-50ff17b0d1d0"
      },
      "source": [
        "#creaitng a new dataframe as per oure requirement\n",
        "#not all features are important here\n",
        "\n",
        "#without stop words and pre-processed\n",
        "df1 = industrial_safety_df[['Potential Accident Level', 'Updated Description']].copy()\n",
        "df1 = df1[df1['Potential Accident Level'] != 'VI'] # no value under VI\n",
        "\n",
        "#with actual description\n",
        "df2 = industrial_safety_df[['Potential Accident Level', 'Description']].copy()\n",
        "df2 = df2[df2['Potential Accident Level'] != 'VI'] # no value under VI\n",
        "df2\n",
        "#pd.DataFrame(df1['Potential Accident Level'].unique()).values"
      ],
      "execution_count": 42,
      "outputs": [
        {
          "output_type": "execute_result",
          "data": {
            "text/html": [
              "<div>\n",
              "<style scoped>\n",
              "    .dataframe tbody tr th:only-of-type {\n",
              "        vertical-align: middle;\n",
              "    }\n",
              "\n",
              "    .dataframe tbody tr th {\n",
              "        vertical-align: top;\n",
              "    }\n",
              "\n",
              "    .dataframe thead th {\n",
              "        text-align: right;\n",
              "    }\n",
              "</style>\n",
              "<table border=\"1\" class=\"dataframe\">\n",
              "  <thead>\n",
              "    <tr style=\"text-align: right;\">\n",
              "      <th></th>\n",
              "      <th>Potential Accident Level</th>\n",
              "      <th>Description</th>\n",
              "    </tr>\n",
              "  </thead>\n",
              "  <tbody>\n",
              "    <tr>\n",
              "      <th>0</th>\n",
              "      <td>IV</td>\n",
              "      <td>While removing the drill rod of the Jumbo 08 f...</td>\n",
              "    </tr>\n",
              "    <tr>\n",
              "      <th>1</th>\n",
              "      <td>IV</td>\n",
              "      <td>During the activation of a sodium sulphide pum...</td>\n",
              "    </tr>\n",
              "    <tr>\n",
              "      <th>2</th>\n",
              "      <td>III</td>\n",
              "      <td>In the sub-station MILPO located at level +170...</td>\n",
              "    </tr>\n",
              "    <tr>\n",
              "      <th>3</th>\n",
              "      <td>I</td>\n",
              "      <td>Being 9:45 am. approximately in the Nv. 1880 C...</td>\n",
              "    </tr>\n",
              "    <tr>\n",
              "      <th>4</th>\n",
              "      <td>IV</td>\n",
              "      <td>Approximately at 11:45 a.m. in circumstances t...</td>\n",
              "    </tr>\n",
              "    <tr>\n",
              "      <th>...</th>\n",
              "      <td>...</td>\n",
              "      <td>...</td>\n",
              "    </tr>\n",
              "    <tr>\n",
              "      <th>420</th>\n",
              "      <td>III</td>\n",
              "      <td>Being approximately 5:00 a.m. approximately, w...</td>\n",
              "    </tr>\n",
              "    <tr>\n",
              "      <th>421</th>\n",
              "      <td>II</td>\n",
              "      <td>The collaborator moved from the infrastructure...</td>\n",
              "    </tr>\n",
              "    <tr>\n",
              "      <th>422</th>\n",
              "      <td>II</td>\n",
              "      <td>During the environmental monitoring activity i...</td>\n",
              "    </tr>\n",
              "    <tr>\n",
              "      <th>423</th>\n",
              "      <td>II</td>\n",
              "      <td>The Employee performed the activity of strippi...</td>\n",
              "    </tr>\n",
              "    <tr>\n",
              "      <th>424</th>\n",
              "      <td>II</td>\n",
              "      <td>At 10:00 a.m., when the assistant cleaned the ...</td>\n",
              "    </tr>\n",
              "  </tbody>\n",
              "</table>\n",
              "<p>424 rows × 2 columns</p>\n",
              "</div>"
            ],
            "text/plain": [
              "    Potential Accident Level                                        Description\n",
              "0                         IV  While removing the drill rod of the Jumbo 08 f...\n",
              "1                         IV  During the activation of a sodium sulphide pum...\n",
              "2                        III  In the sub-station MILPO located at level +170...\n",
              "3                          I  Being 9:45 am. approximately in the Nv. 1880 C...\n",
              "4                         IV  Approximately at 11:45 a.m. in circumstances t...\n",
              "..                       ...                                                ...\n",
              "420                      III  Being approximately 5:00 a.m. approximately, w...\n",
              "421                       II  The collaborator moved from the infrastructure...\n",
              "422                       II  During the environmental monitoring activity i...\n",
              "423                       II  The Employee performed the activity of strippi...\n",
              "424                       II  At 10:00 a.m., when the assistant cleaned the ...\n",
              "\n",
              "[424 rows x 2 columns]"
            ]
          },
          "metadata": {
            "tags": []
          },
          "execution_count": 42
        }
      ]
    },
    {
      "cell_type": "markdown",
      "metadata": {
        "id": "uSygXobul2lB"
      },
      "source": [
        "- There are six different levels of Potential Accident Levels\n",
        "- We need to replace each level as number"
      ]
    },
    {
      "cell_type": "code",
      "metadata": {
        "colab": {
          "base_uri": "https://localhost:8080/",
          "height": 206
        },
        "id": "EsrXW1Qvl2lC",
        "outputId": "9fe50c70-5a0d-4be2-ff7e-9ac67c3a8568"
      },
      "source": [
        "# Create a new column 'Potential_Accident_Level_Id' with encoded Ids \n",
        "df1['Potential_Accident_Level_Id'] = df1['Potential Accident Level'].factorize()[0]\n",
        "Potential_Accident_Level_df = df1[['Potential Accident Level', 'Potential_Accident_Level_Id']].drop_duplicates()\n",
        "\n",
        "#same for df2\n",
        "df2['Potential_Accident_Level_Id'] = df2['Potential Accident Level'].factorize()[0]\n",
        "Potential_Accident_Level_df2 = df2[['Potential Accident Level', 'Potential_Accident_Level_Id']].drop_duplicates()\n",
        "\n",
        "# Dictionaries for future use(for unigrams and biGrams)\n",
        "acc_level_to_id = dict(Potential_Accident_Level_df.values)\n",
        "id_to_acc_level = dict(Potential_Accident_Level_df[['Potential_Accident_Level_Id', 'Potential Accident Level']].values)\n",
        "\n",
        "# New dataframe\n",
        "df1.head()\n",
        "#pd.DataFrame(df1['Potential_Accident_Level_Id'].unique()).values"
      ],
      "execution_count": 43,
      "outputs": [
        {
          "output_type": "execute_result",
          "data": {
            "text/html": [
              "<div>\n",
              "<style scoped>\n",
              "    .dataframe tbody tr th:only-of-type {\n",
              "        vertical-align: middle;\n",
              "    }\n",
              "\n",
              "    .dataframe tbody tr th {\n",
              "        vertical-align: top;\n",
              "    }\n",
              "\n",
              "    .dataframe thead th {\n",
              "        text-align: right;\n",
              "    }\n",
              "</style>\n",
              "<table border=\"1\" class=\"dataframe\">\n",
              "  <thead>\n",
              "    <tr style=\"text-align: right;\">\n",
              "      <th></th>\n",
              "      <th>Potential Accident Level</th>\n",
              "      <th>Updated Description</th>\n",
              "      <th>Potential_Accident_Level_Id</th>\n",
              "    </tr>\n",
              "  </thead>\n",
              "  <tbody>\n",
              "    <tr>\n",
              "      <th>0</th>\n",
              "      <td>IV</td>\n",
              "      <td>remove drill rod jumbo maintenance supervisor ...</td>\n",
              "      <td>0</td>\n",
              "    </tr>\n",
              "    <tr>\n",
              "      <th>1</th>\n",
              "      <td>IV</td>\n",
              "      <td>activation sodium sulphide pump pip uncouple s...</td>\n",
              "      <td>0</td>\n",
              "    </tr>\n",
              "    <tr>\n",
              "      <th>2</th>\n",
              "      <td>III</td>\n",
              "      <td>sub station milpo locate level collaborator ex...</td>\n",
              "      <td>1</td>\n",
              "    </tr>\n",
              "    <tr>\n",
              "      <th>3</th>\n",
              "      <td>I</td>\n",
              "      <td>approximately personnel begin task unlock soqu...</td>\n",
              "      <td>2</td>\n",
              "    </tr>\n",
              "    <tr>\n",
              "      <th>4</th>\n",
              "      <td>IV</td>\n",
              "      <td>approximately circumstances mechanics anthony ...</td>\n",
              "      <td>0</td>\n",
              "    </tr>\n",
              "  </tbody>\n",
              "</table>\n",
              "</div>"
            ],
            "text/plain": [
              "  Potential Accident Level  ... Potential_Accident_Level_Id\n",
              "0                       IV  ...                           0\n",
              "1                       IV  ...                           0\n",
              "2                      III  ...                           1\n",
              "3                        I  ...                           2\n",
              "4                       IV  ...                           0\n",
              "\n",
              "[5 rows x 3 columns]"
            ]
          },
          "metadata": {
            "tags": []
          },
          "execution_count": 43
        }
      ]
    },
    {
      "cell_type": "markdown",
      "metadata": {
        "id": "p2DcHIivl2lD"
      },
      "source": [
        "- #### Above is the dataset that will be used by Rf-Classifier"
      ]
    },
    {
      "cell_type": "code",
      "metadata": {
        "id": "T7TMmdqcl2lF"
      },
      "source": [
        "#creating tf-idf for features\n",
        "def tfidf_vectorizer(text):\n",
        "    vec_tfidf = TfidfVectorizer()\n",
        "    X = vec_tfidf.fit_transform(text)\n",
        "    words = vec_tfidf.get_feature_names()\n",
        "    #print(features)\n",
        "    tf_idf_df = pd.DataFrame(X.toarray())\n",
        "    tf_idf_df.columns = words\n",
        "    return tf_idf_df"
      ],
      "execution_count": 44,
      "outputs": []
    },
    {
      "cell_type": "code",
      "metadata": {
        "id": "oEtFYcQkl2lH"
      },
      "source": [
        "features_tfidf = tfidf_vectorizer(df1['Updated Description'])\n",
        "target_label  = df1.Potential_Accident_Level_Id"
      ],
      "execution_count": 45,
      "outputs": []
    },
    {
      "cell_type": "code",
      "metadata": {
        "id": "cl7tOLNAl2lJ"
      },
      "source": [
        "# test_size is 0.3 as train : test is 70:30\n",
        "features_train, features_test, target_train, target_test = train_test_split(features_tfidf, target_label, test_size=0.3, random_state=1)"
      ],
      "execution_count": 46,
      "outputs": []
    },
    {
      "cell_type": "code",
      "metadata": {
        "colab": {
          "base_uri": "https://localhost:8080/"
        },
        "id": "N3BWj6L-l2lJ",
        "outputId": "b73b131f-3931-44a8-ead2-4db709821a51"
      },
      "source": [
        "rndm_clf = RandomForestClassifier(n_estimators = 1000, n_jobs=-1)\n",
        "rndm_clf = rndm_clf.fit(features_train, target_train)\n",
        "#score\n",
        "predicted_target = rndm_clf.predict(features_test)\n",
        "score_rf = round(rndm_clf.score(features_test , target_test),3)*100\n",
        "print(\"Score - Random forest :\",score_rf,\"%\")"
      ],
      "execution_count": 47,
      "outputs": [
        {
          "output_type": "stream",
          "text": [
            "Score - Random forest : 40.6 %\n"
          ],
          "name": "stdout"
        }
      ]
    },
    {
      "cell_type": "code",
      "metadata": {
        "colab": {
          "base_uri": "https://localhost:8080/"
        },
        "id": "JMRpVHzOl2lL",
        "outputId": "e64bf744-9823-4935-a73e-47e127f1ffbb"
      },
      "source": [
        "# Classification report\n",
        "print('\\t\\t\\t\\tCLASSIFICATIION METRICS\\n')\n",
        "print(metrics.classification_report(target_test, predicted_target, \n",
        "                                    target_names= df1['Potential Accident Level'].unique()))"
      ],
      "execution_count": 48,
      "outputs": [
        {
          "output_type": "stream",
          "text": [
            "\t\t\t\tCLASSIFICATIION METRICS\n",
            "\n",
            "              precision    recall  f1-score   support\n",
            "\n",
            "          IV       0.42      0.82      0.56        45\n",
            "         III       0.18      0.14      0.16        29\n",
            "           I       1.00      0.60      0.75        10\n",
            "          II       0.36      0.11      0.17        36\n",
            "           V       1.00      0.12      0.22         8\n",
            "\n",
            "    accuracy                           0.41       128\n",
            "   macro avg       0.59      0.36      0.37       128\n",
            "weighted avg       0.43      0.41      0.35       128\n",
            "\n"
          ],
          "name": "stdout"
        }
      ]
    },
    {
      "cell_type": "markdown",
      "metadata": {
        "id": "p09O43lbl2lM"
      },
      "source": [
        "- ##### Performace of the RF-classifer is very poor\n",
        "- ##### We will change the dataset with stopwords and re-do"
      ]
    },
    {
      "cell_type": "code",
      "metadata": {
        "id": "JHq2TzXql2lN"
      },
      "source": [
        "features_tfidf1 = tfidf_vectorizer(df2['Description'])\n",
        "target_label1  = df2.Potential_Accident_Level_Id"
      ],
      "execution_count": 49,
      "outputs": []
    },
    {
      "cell_type": "code",
      "metadata": {
        "id": "zDygrjOOl2lS"
      },
      "source": [
        "# test_size is 0.3 as train : test is 70:30\n",
        "features_train1, features_test1, target_train1, target_test1 = train_test_split(features_tfidf1, target_label1, test_size=0.3, random_state=1)"
      ],
      "execution_count": 50,
      "outputs": []
    },
    {
      "cell_type": "code",
      "metadata": {
        "colab": {
          "base_uri": "https://localhost:8080/"
        },
        "id": "CpJX7QKjl2lT",
        "outputId": "450a22c0-6a28-4a2b-e8e5-26b950343a3a"
      },
      "source": [
        "rndm_clf1 = RandomForestClassifier(n_estimators = 1000, n_jobs=-1)\n",
        "rndm_clf1 = rndm_clf1.fit(features_train1, target_train1)\n",
        "#score\n",
        "predicted_target1 = rndm_clf1.predict(features_test1)\n",
        "score_rf1 = round(rndm_clf1.score(features_test1, target_test1),3)*100\n",
        "print(\"Score - Random forest :\",score_rf,\"%\")"
      ],
      "execution_count": 51,
      "outputs": [
        {
          "output_type": "stream",
          "text": [
            "Score - Random forest : 40.6 %\n"
          ],
          "name": "stdout"
        }
      ]
    },
    {
      "cell_type": "code",
      "metadata": {
        "colab": {
          "base_uri": "https://localhost:8080/"
        },
        "id": "9x1JgyDPl2lV",
        "outputId": "40e2275e-dd80-4b2e-c104-74d00d1387e2"
      },
      "source": [
        "# Classification report\n",
        "print('\\t\\t\\t\\tCLASSIFICATIION METRICS\\n')\n",
        "print(metrics.classification_report(target_test1, predicted_target1, \n",
        "                                    target_names= df2['Potential Accident Level'].unique()))"
      ],
      "execution_count": 52,
      "outputs": [
        {
          "output_type": "stream",
          "text": [
            "\t\t\t\tCLASSIFICATIION METRICS\n",
            "\n",
            "              precision    recall  f1-score   support\n",
            "\n",
            "          IV       0.44      0.84      0.58        45\n",
            "         III       0.12      0.07      0.09        29\n",
            "           I       1.00      0.60      0.75        10\n",
            "          II       0.39      0.19      0.26        36\n",
            "           V       1.00      0.12      0.22         8\n",
            "\n",
            "    accuracy                           0.42       128\n",
            "   macro avg       0.59      0.37      0.38       128\n",
            "weighted avg       0.43      0.42      0.37       128\n",
            "\n"
          ],
          "name": "stdout"
        }
      ]
    },
    {
      "cell_type": "markdown",
      "metadata": {
        "id": "5JrOeJpul2lW"
      },
      "source": [
        "- #### Random Forest has failed to performed very poorly overall in this text classification"
      ]
    },
    {
      "cell_type": "markdown",
      "metadata": {
        "id": "1LV12YmRl2li"
      },
      "source": [
        "> ## Text Classification with FastText"
      ]
    },
    {
      "cell_type": "code",
      "metadata": {
        "colab": {
          "base_uri": "https://localhost:8080/"
        },
        "id": "zrDcGo6nl2lj",
        "outputId": "28ca8268-fba6-4eb2-ddba-6cdae596c437"
      },
      "source": [
        "!pip install fasttext\n",
        "import fasttext "
      ],
      "execution_count": 54,
      "outputs": [
        {
          "output_type": "stream",
          "text": [
            "Collecting fasttext\n",
            "\u001b[?25l  Downloading https://files.pythonhosted.org/packages/f8/85/e2b368ab6d3528827b147fdb814f8189acc981a4bc2f99ab894650e05c40/fasttext-0.9.2.tar.gz (68kB)\n",
            "\r\u001b[K     |████▊                           | 10kB 15.2MB/s eta 0:00:01\r\u001b[K     |█████████▌                      | 20kB 10.5MB/s eta 0:00:01\r\u001b[K     |██████████████▎                 | 30kB 7.4MB/s eta 0:00:01\r\u001b[K     |███████████████████             | 40kB 7.3MB/s eta 0:00:01\r\u001b[K     |███████████████████████▉        | 51kB 4.3MB/s eta 0:00:01\r\u001b[K     |████████████████████████████▋   | 61kB 4.9MB/s eta 0:00:01\r\u001b[K     |████████████████████████████████| 71kB 3.1MB/s \n",
            "\u001b[?25hRequirement already satisfied: pybind11>=2.2 in /usr/local/lib/python3.7/dist-packages (from fasttext) (2.6.2)\n",
            "Requirement already satisfied: setuptools>=0.7.0 in /usr/local/lib/python3.7/dist-packages (from fasttext) (56.0.0)\n",
            "Requirement already satisfied: numpy in /usr/local/lib/python3.7/dist-packages (from fasttext) (1.19.5)\n",
            "Building wheels for collected packages: fasttext\n",
            "  Building wheel for fasttext (setup.py) ... \u001b[?25l\u001b[?25hdone\n",
            "  Created wheel for fasttext: filename=fasttext-0.9.2-cp37-cp37m-linux_x86_64.whl size=3092085 sha256=34321ea040c1ee03affc1171d86c607ff9c60011ab07e4268b6a06e58b4a7cc8\n",
            "  Stored in directory: /root/.cache/pip/wheels/98/ba/7f/b154944a1cf5a8cee91c154b75231136cc3a3321ab0e30f592\n",
            "Successfully built fasttext\n",
            "Installing collected packages: fasttext\n",
            "Successfully installed fasttext-0.9.2\n"
          ],
          "name": "stdout"
        }
      ]
    },
    {
      "cell_type": "code",
      "metadata": {
        "colab": {
          "base_uri": "https://localhost:8080/",
          "height": 520
        },
        "id": "Yg-yZZFpl2lj",
        "outputId": "85ea2879-e21b-4ef7-b82b-f5b3d0ef32dc"
      },
      "source": [
        "#FastText expects __label__ in each label\n",
        "df_ftxt = industrial_safety_df[['Potential Accident Level', 'Updated Description']].copy()\n",
        "df_ftxt['Potential Accident Level'] = ['__label__'+s for s in df_ftxt['Potential Accident Level']]\n",
        "df_ftxt.head(15)"
      ],
      "execution_count": 55,
      "outputs": [
        {
          "output_type": "execute_result",
          "data": {
            "text/html": [
              "<div>\n",
              "<style scoped>\n",
              "    .dataframe tbody tr th:only-of-type {\n",
              "        vertical-align: middle;\n",
              "    }\n",
              "\n",
              "    .dataframe tbody tr th {\n",
              "        vertical-align: top;\n",
              "    }\n",
              "\n",
              "    .dataframe thead th {\n",
              "        text-align: right;\n",
              "    }\n",
              "</style>\n",
              "<table border=\"1\" class=\"dataframe\">\n",
              "  <thead>\n",
              "    <tr style=\"text-align: right;\">\n",
              "      <th></th>\n",
              "      <th>Potential Accident Level</th>\n",
              "      <th>Updated Description</th>\n",
              "    </tr>\n",
              "  </thead>\n",
              "  <tbody>\n",
              "    <tr>\n",
              "      <th>0</th>\n",
              "      <td>__label__IV</td>\n",
              "      <td>remove drill rod jumbo maintenance supervisor ...</td>\n",
              "    </tr>\n",
              "    <tr>\n",
              "      <th>1</th>\n",
              "      <td>__label__IV</td>\n",
              "      <td>activation sodium sulphide pump pip uncouple s...</td>\n",
              "    </tr>\n",
              "    <tr>\n",
              "      <th>2</th>\n",
              "      <td>__label__III</td>\n",
              "      <td>sub station milpo locate level collaborator ex...</td>\n",
              "    </tr>\n",
              "    <tr>\n",
              "      <th>3</th>\n",
              "      <td>__label__I</td>\n",
              "      <td>approximately personnel begin task unlock soqu...</td>\n",
              "    </tr>\n",
              "    <tr>\n",
              "      <th>4</th>\n",
              "      <td>__label__IV</td>\n",
              "      <td>approximately circumstances mechanics anthony ...</td>\n",
              "    </tr>\n",
              "    <tr>\n",
              "      <th>5</th>\n",
              "      <td>__label__III</td>\n",
              "      <td>unload operation ustulado bag need unclog disc...</td>\n",
              "    </tr>\n",
              "    <tr>\n",
              "      <th>6</th>\n",
              "      <td>__label__III</td>\n",
              "      <td>collaborator report street hold leave hand vol...</td>\n",
              "    </tr>\n",
              "    <tr>\n",
              "      <th>7</th>\n",
              "      <td>__label__III</td>\n",
              "      <td>approximately mechanic technician jos tecnomin...</td>\n",
              "    </tr>\n",
              "    <tr>\n",
              "      <th>8</th>\n",
              "      <td>__label__IV</td>\n",
              "      <td>employee sit rest area level raise bore suffer...</td>\n",
              "    </tr>\n",
              "    <tr>\n",
              "      <th>9</th>\n",
              "      <td>__label__II</td>\n",
              "      <td>moment forklift operator manipulate big bag bi...</td>\n",
              "    </tr>\n",
              "    <tr>\n",
              "      <th>10</th>\n",
              "      <td>__label__III</td>\n",
              "      <td>instal segment polyurethane pulley protective ...</td>\n",
              "    </tr>\n",
              "    <tr>\n",
              "      <th>11</th>\n",
              "      <td>__label__IV</td>\n",
              "      <td>prepare rice lunch day move pot weight include...</td>\n",
              "    </tr>\n",
              "    <tr>\n",
              "      <th>12</th>\n",
              "      <td>__label__I</td>\n",
              "      <td>collaborator report work ustulaci realize cycl...</td>\n",
              "    </tr>\n",
              "    <tr>\n",
              "      <th>13</th>\n",
              "      <td>__label__V</td>\n",
              "      <td>moments operator jumbo try energize equipment ...</td>\n",
              "    </tr>\n",
              "    <tr>\n",
              "      <th>14</th>\n",
              "      <td>__label__III</td>\n",
              "      <td>due accumulation waelz conveyor trailer filter...</td>\n",
              "    </tr>\n",
              "  </tbody>\n",
              "</table>\n",
              "</div>"
            ],
            "text/plain": [
              "   Potential Accident Level                                Updated Description\n",
              "0               __label__IV  remove drill rod jumbo maintenance supervisor ...\n",
              "1               __label__IV  activation sodium sulphide pump pip uncouple s...\n",
              "2              __label__III  sub station milpo locate level collaborator ex...\n",
              "3                __label__I  approximately personnel begin task unlock soqu...\n",
              "4               __label__IV  approximately circumstances mechanics anthony ...\n",
              "5              __label__III  unload operation ustulado bag need unclog disc...\n",
              "6              __label__III  collaborator report street hold leave hand vol...\n",
              "7              __label__III  approximately mechanic technician jos tecnomin...\n",
              "8               __label__IV  employee sit rest area level raise bore suffer...\n",
              "9               __label__II  moment forklift operator manipulate big bag bi...\n",
              "10             __label__III  instal segment polyurethane pulley protective ...\n",
              "11              __label__IV  prepare rice lunch day move pot weight include...\n",
              "12               __label__I  collaborator report work ustulaci realize cycl...\n",
              "13               __label__V  moments operator jumbo try energize equipment ...\n",
              "14             __label__III  due accumulation waelz conveyor trailer filter..."
            ]
          },
          "metadata": {
            "tags": []
          },
          "execution_count": 55
        }
      ]
    },
    {
      "cell_type": "code",
      "metadata": {
        "colab": {
          "base_uri": "https://localhost:8080/"
        },
        "id": "KdiQKLtMl2lt",
        "outputId": "d212a81f-b486-4e6a-f0cc-fdf4dfe15cbf"
      },
      "source": [
        "#saving as txt file\n",
        "import csv\n",
        "df_ftxt[['Potential Accident Level','Updated Description']].to_csv(r'/content/drive/MyDrive/Capstone-project/Chatbot/Data/capstone/fasttext.datas-fasttext.txt', \n",
        "                                          index = False, \n",
        "                                          sep = ' ',\n",
        "                                          header = None, \n",
        "                                          quoting = csv.QUOTE_NONE, \n",
        "                                          quotechar = \"\", \n",
        "                                          escapechar = \" \")\n",
        "df_ftxt.shape"
      ],
      "execution_count": 58,
      "outputs": [
        {
          "output_type": "execute_result",
          "data": {
            "text/plain": [
              "(425, 2)"
            ]
          },
          "metadata": {
            "tags": []
          },
          "execution_count": 58
        }
      ]
    },
    {
      "cell_type": "markdown",
      "metadata": {
        "id": "uMlj7QkJl2ly"
      },
      "source": [
        "- #### the dataset has total 425 records. We will take 80% for training and 20% to test"
      ]
    },
    {
      "cell_type": "markdown",
      "metadata": {
        "id": "KPvEk-cfl2l0"
      },
      "source": [
        ">- Two dataset has been created using CLI\n",
        ">- head -n 340 fasttext.datas-fasttext.txt > fastext.datas-fasttext-train.txt\n",
        ">- head -n 85 fasttext.datas-fasttext.txt > fastext.datas-fasttext-test.txt"
      ]
    },
    {
      "cell_type": "markdown",
      "metadata": {
        "id": "FTtUm_C6l2l0"
      },
      "source": [
        "### Training & Evaluation of FastText\n",
        ">To improve the performance of our model the wordNgrams parameter is set to 2. In other words, the model is being trained on bigrams instead of considering individual words."
      ]
    },
    {
      "cell_type": "code",
      "metadata": {
        "id": "AUIz_H8Al2l0"
      },
      "source": [
        "# Training the fastText classifier\n",
        "ftxt_clf = fasttext.train_supervised('/content/drive/MyDrive/Capstone-project/Chatbot/Data/capstone/fasttext.datas-fasttext.txt', wordNgrams = 2, epoch=300)\n",
        "# Save the trained model\n",
        "ftxt_clf.save_model('model.bin')\n"
      ],
      "execution_count": null,
      "outputs": []
    },
    {
      "cell_type": "code",
      "metadata": {
        "id": "hdDaMiIGl2l2",
        "outputId": "12c416fb-f483-4e6e-f4a4-93107ddd0bb2"
      },
      "source": [
        "# Evaluating performance on the entire test file\n",
        "ftxt_clf.test('fastext.datas-fasttext-train.txt')                      "
      ],
      "execution_count": null,
      "outputs": [
        {
          "output_type": "execute_result",
          "data": {
            "text/plain": [
              "(340, 0.9970588235294118, 0.9970588235294118)"
            ]
          },
          "metadata": {
            "tags": []
          },
          "execution_count": 65
        }
      ]
    },
    {
      "cell_type": "code",
      "metadata": {
        "id": "qkUjP3nAl2l3"
      },
      "source": [
        "df_ftxt['pred']=df_ftxt['Updated Description'].map(lambda x: ftxt_clf.predict(x)[0][0])"
      ],
      "execution_count": null,
      "outputs": []
    },
    {
      "cell_type": "code",
      "metadata": {
        "id": "TcS1bzJ_l2l5",
        "outputId": "8a48ce0e-4681-4534-b3bd-d0d017cff7ad"
      },
      "source": [
        "print(df_ftxt.shape,df_ftxt[df_ftxt.apply(lambda x: x['Potential Accident Level']!= x['pred'],axis=1)].shape)"
      ],
      "execution_count": null,
      "outputs": [
        {
          "output_type": "stream",
          "text": [
            "(425, 3) (56, 3)\n"
          ],
          "name": "stdout"
        }
      ]
    },
    {
      "cell_type": "code",
      "metadata": {
        "id": "GiEf1bCsl2l6",
        "outputId": "b39e19ce-bd63-4282-b66d-93c88baf549c"
      },
      "source": [
        "print('\\t\\t\\t\\tCLASSIFICATIION METRICS\\n')\n",
        "print(metrics.classification_report(df_ftxt['Potential Accident Level'], df_ftxt['pred'], \n",
        "                                    target_names= df_ftxt['Potential Accident Level'].unique()))"
      ],
      "execution_count": null,
      "outputs": [
        {
          "output_type": "stream",
          "text": [
            "\t\t\t\tCLASSIFICATIION METRICS\n",
            "\n",
            "              precision    recall  f1-score   support\n",
            "\n",
            " __label__IV       0.97      0.80      0.88        49\n",
            "__label__III       0.78      0.87      0.83        95\n",
            "  __label__I       0.83      0.93      0.88       106\n",
            " __label__II       0.91      0.90      0.90       143\n",
            "  __label__V       1.00      0.61      0.76        31\n",
            " __label__VI       1.00      1.00      1.00         1\n",
            "\n",
            "    accuracy                           0.87       425\n",
            "   macro avg       0.92      0.85      0.87       425\n",
            "weighted avg       0.88      0.87      0.87       425\n",
            "\n"
          ],
          "name": "stdout"
        }
      ]
    },
    {
      "cell_type": "code",
      "metadata": {
        "id": "0ce-V3b6l2l8",
        "outputId": "c233fa20-2eb8-43a3-9b44-232c7009e90a"
      },
      "source": [
        "# Predicting on a single input\n",
        "ftxt_clf.predict(df_ftxt.iloc[2,0])\n",
        "df_ftxt.head()"
      ],
      "execution_count": null,
      "outputs": [
        {
          "output_type": "execute_result",
          "data": {
            "text/html": [
              "<div>\n",
              "<style scoped>\n",
              "    .dataframe tbody tr th:only-of-type {\n",
              "        vertical-align: middle;\n",
              "    }\n",
              "\n",
              "    .dataframe tbody tr th {\n",
              "        vertical-align: top;\n",
              "    }\n",
              "\n",
              "    .dataframe thead th {\n",
              "        text-align: right;\n",
              "    }\n",
              "</style>\n",
              "<table border=\"1\" class=\"dataframe\">\n",
              "  <thead>\n",
              "    <tr style=\"text-align: right;\">\n",
              "      <th></th>\n",
              "      <th>Potential Accident Level</th>\n",
              "      <th>Updated Description</th>\n",
              "      <th>pred</th>\n",
              "    </tr>\n",
              "  </thead>\n",
              "  <tbody>\n",
              "    <tr>\n",
              "      <th>0</th>\n",
              "      <td>__label__IV</td>\n",
              "      <td>remove drill rod jumbo maintenance supervisor ...</td>\n",
              "      <td>__label__IV</td>\n",
              "    </tr>\n",
              "    <tr>\n",
              "      <th>1</th>\n",
              "      <td>__label__IV</td>\n",
              "      <td>activation sodium sulphide pump pip uncouple s...</td>\n",
              "      <td>__label__IV</td>\n",
              "    </tr>\n",
              "    <tr>\n",
              "      <th>2</th>\n",
              "      <td>__label__III</td>\n",
              "      <td>sub station milpo locate level collaborator ex...</td>\n",
              "      <td>__label__III</td>\n",
              "    </tr>\n",
              "    <tr>\n",
              "      <th>3</th>\n",
              "      <td>__label__I</td>\n",
              "      <td>approximately personnel begin task unlock soqu...</td>\n",
              "      <td>__label__I</td>\n",
              "    </tr>\n",
              "    <tr>\n",
              "      <th>4</th>\n",
              "      <td>__label__IV</td>\n",
              "      <td>approximately circumstances mechanics anthony ...</td>\n",
              "      <td>__label__IV</td>\n",
              "    </tr>\n",
              "  </tbody>\n",
              "</table>\n",
              "</div>"
            ],
            "text/plain": [
              "  Potential Accident Level                                Updated Description  \\\n",
              "0              __label__IV  remove drill rod jumbo maintenance supervisor ...   \n",
              "1              __label__IV  activation sodium sulphide pump pip uncouple s...   \n",
              "2             __label__III  sub station milpo locate level collaborator ex...   \n",
              "3               __label__I  approximately personnel begin task unlock soqu...   \n",
              "4              __label__IV  approximately circumstances mechanics anthony ...   \n",
              "\n",
              "           pred  \n",
              "0   __label__IV  \n",
              "1   __label__IV  \n",
              "2  __label__III  \n",
              "3    __label__I  \n",
              "4   __label__IV  "
            ]
          },
          "metadata": {
            "tags": []
          },
          "execution_count": 72
        }
      ]
    },
    {
      "cell_type": "markdown",
      "metadata": {
        "id": "BuMT1RVul2l9"
      },
      "source": [
        "- #### Performance Tuning-FastText\n",
        "> We will use gensim’s simple_preprocess method to tokenize our questions and remove symbols."
      ]
    },
    {
      "cell_type": "code",
      "metadata": {
        "id": "5Fu6dE26l2l-",
        "outputId": "eb31da0f-6401-4f99-d1e7-19fb42830d04"
      },
      "source": [
        "# NLP Preprocessing\n",
        "from gensim.utils import simple_preprocess\n",
        "df = industrial_safety_df[['Potential Accident Level', 'Description']].copy()\n",
        "df.shape                          \n",
        "#dataset for training with preprocesed text\n",
        "df_ftxt_train, df_ftxt_test, y1, y2 = train_test_split(df,df,test_size=0.3, random_state=1)\n",
        "\n",
        "df_ftxt_train.iloc[:, 1] = df_ftxt_train.iloc[:, 1].apply(lambda x: ' '.join(simple_preprocess(x)))\n",
        "df_ftxt_test.iloc[:, 1] = df_ftxt_test.iloc[:, 1].apply(lambda x: ' '.join(simple_preprocess(x)))\n",
        "\n",
        "# Prefixing each row of the 'Potential Accident Level' column with '__label__'\n",
        "df_ftxt_train.iloc[:, 0] = df_ftxt_train.iloc[:, 0].apply(lambda x: '__label__' + x)\n",
        "df_ftxt_test.iloc[:, 0] = df_ftxt_test.iloc[:, 0].apply(lambda x: '__label__' + x)\n",
        "df_ftxt_train.head()\n",
        "#df.shape                                                         "
      ],
      "execution_count": null,
      "outputs": [
        {
          "output_type": "execute_result",
          "data": {
            "text/html": [
              "<div>\n",
              "<style scoped>\n",
              "    .dataframe tbody tr th:only-of-type {\n",
              "        vertical-align: middle;\n",
              "    }\n",
              "\n",
              "    .dataframe tbody tr th {\n",
              "        vertical-align: top;\n",
              "    }\n",
              "\n",
              "    .dataframe thead th {\n",
              "        text-align: right;\n",
              "    }\n",
              "</style>\n",
              "<table border=\"1\" class=\"dataframe\">\n",
              "  <thead>\n",
              "    <tr style=\"text-align: right;\">\n",
              "      <th></th>\n",
              "      <th>Potential Accident Level</th>\n",
              "      <th>Description</th>\n",
              "    </tr>\n",
              "  </thead>\n",
              "  <tbody>\n",
              "    <tr>\n",
              "      <th>318</th>\n",
              "      <td>__label__IV</td>\n",
              "      <td>being hours approximately in circumstances tha...</td>\n",
              "    </tr>\n",
              "    <tr>\n",
              "      <th>232</th>\n",
              "      <td>__label__III</td>\n",
              "      <td>in the probe bore bapdd around hours the polli...</td>\n",
              "    </tr>\n",
              "    <tr>\n",
              "      <th>325</th>\n",
              "      <td>__label__III</td>\n",
              "      <td>while preparing to mount polypropylene tubing ...</td>\n",
              "    </tr>\n",
              "    <tr>\n",
              "      <th>127</th>\n",
              "      <td>__label__III</td>\n",
              "      <td>during the tests of the soft starter of the en...</td>\n",
              "    </tr>\n",
              "    <tr>\n",
              "      <th>82</th>\n",
              "      <td>__label__IV</td>\n",
              "      <td>when it opens the suction valve of the bo acid...</td>\n",
              "    </tr>\n",
              "  </tbody>\n",
              "</table>\n",
              "</div>"
            ],
            "text/plain": [
              "    Potential Accident Level  \\\n",
              "318              __label__IV   \n",
              "232             __label__III   \n",
              "325             __label__III   \n",
              "127             __label__III   \n",
              "82               __label__IV   \n",
              "\n",
              "                                           Description  \n",
              "318  being hours approximately in circumstances tha...  \n",
              "232  in the probe bore bapdd around hours the polli...  \n",
              "325  while preparing to mount polypropylene tubing ...  \n",
              "127  during the tests of the soft starter of the en...  \n",
              "82   when it opens the suction valve of the bo acid...  "
            ]
          },
          "metadata": {
            "tags": []
          },
          "execution_count": 54
        }
      ]
    },
    {
      "cell_type": "code",
      "metadata": {
        "id": "rT4ALM3Jl2mA"
      },
      "source": [
        "#saving into text files\n",
        "df_ftxt_train[['Potential Accident Level', 'Description']].to_csv('data-fasttext-train.txt', \n",
        "                                          index = False, \n",
        "                                          sep = ' ',\n",
        "                                          header = None, \n",
        "                                          quoting = csv.QUOTE_NONE, \n",
        "                                          quotechar = \"\", \n",
        "                                          escapechar = \" \")\n",
        "\n",
        "df_ftxt_test[['Potential Accident Level', 'Description']].to_csv('data-fasttext-test.txt', \n",
        "                                          index = False, \n",
        "                                          sep = ' ',\n",
        "                                          header = None, \n",
        "                                          quoting = csv.QUOTE_NONE, \n",
        "                                          quotechar = \"\", \n",
        "                                          escapechar = \" \")"
      ],
      "execution_count": null,
      "outputs": []
    },
    {
      "cell_type": "markdown",
      "metadata": {
        "id": "wIs8tyr4l2mB"
      },
      "source": [
        "### Training and Performance Evaluation"
      ]
    },
    {
      "cell_type": "code",
      "metadata": {
        "id": "ETAjxOdml2mC"
      },
      "source": [
        "# Training the fastText classifier\n",
        "ftxt_clf_gensim = fasttext.train_supervised('data-fasttext-train.txt', wordNgrams = 4, epoch=75, lr=0.5, loss='ova')\n",
        "# Save the trained model\n",
        "#model.save_model('model.bin')"
      ],
      "execution_count": null,
      "outputs": []
    },
    {
      "cell_type": "code",
      "metadata": {
        "id": "Lt8QSCdnl2mD",
        "outputId": "ca908bf3-03c0-4a1e-f1b8-d14978bca79e"
      },
      "source": [
        "# Evaluating performance on the entire test file\n",
        "ftxt_clf_gensim.test('data-fasttext-test.txt')   "
      ],
      "execution_count": null,
      "outputs": [
        {
          "output_type": "execute_result",
          "data": {
            "text/plain": [
              "(128, 0.4609375, 0.4609375)"
            ]
          },
          "metadata": {
            "tags": []
          },
          "execution_count": 57
        }
      ]
    },
    {
      "cell_type": "code",
      "metadata": {
        "id": "PUxzdP6Jl2mE",
        "outputId": "9cb314a7-aa02-40b5-bf3c-6cd3f4664979"
      },
      "source": [
        "df_ftxt_test.head()"
      ],
      "execution_count": null,
      "outputs": [
        {
          "output_type": "execute_result",
          "data": {
            "text/html": [
              "<div>\n",
              "<style scoped>\n",
              "    .dataframe tbody tr th:only-of-type {\n",
              "        vertical-align: middle;\n",
              "    }\n",
              "\n",
              "    .dataframe tbody tr th {\n",
              "        vertical-align: top;\n",
              "    }\n",
              "\n",
              "    .dataframe thead th {\n",
              "        text-align: right;\n",
              "    }\n",
              "</style>\n",
              "<table border=\"1\" class=\"dataframe\">\n",
              "  <thead>\n",
              "    <tr style=\"text-align: right;\">\n",
              "      <th></th>\n",
              "      <th>Potential Accident Level</th>\n",
              "      <th>Description</th>\n",
              "    </tr>\n",
              "  </thead>\n",
              "  <tbody>\n",
              "    <tr>\n",
              "      <th>172</th>\n",
              "      <td>__label__II</td>\n",
              "      <td>at level at the entrance of the locomotive wor...</td>\n",
              "    </tr>\n",
              "    <tr>\n",
              "      <th>78</th>\n",
              "      <td>__label__II</td>\n",
              "      <td>when accessing the santa do novo area in order...</td>\n",
              "    </tr>\n",
              "    <tr>\n",
              "      <th>122</th>\n",
              "      <td>__label__III</td>\n",
              "      <td>during the maintenance on the lx pump there wa...</td>\n",
              "    </tr>\n",
              "    <tr>\n",
              "      <th>376</th>\n",
              "      <td>__label__IV</td>\n",
              "      <td>on the employee de lima da silva was composing...</td>\n",
              "    </tr>\n",
              "    <tr>\n",
              "      <th>146</th>\n",
              "      <td>__label__IV</td>\n",
              "      <td>once the mooring of the faneles in the detonat...</td>\n",
              "    </tr>\n",
              "  </tbody>\n",
              "</table>\n",
              "</div>"
            ],
            "text/plain": [
              "    Potential Accident Level  \\\n",
              "172              __label__II   \n",
              "78               __label__II   \n",
              "122             __label__III   \n",
              "376              __label__IV   \n",
              "146              __label__IV   \n",
              "\n",
              "                                           Description  \n",
              "172  at level at the entrance of the locomotive wor...  \n",
              "78   when accessing the santa do novo area in order...  \n",
              "122  during the maintenance on the lx pump there wa...  \n",
              "376  on the employee de lima da silva was composing...  \n",
              "146  once the mooring of the faneles in the detonat...  "
            ]
          },
          "metadata": {
            "tags": []
          },
          "execution_count": 58
        }
      ]
    },
    {
      "cell_type": "code",
      "metadata": {
        "id": "xVsWACfAl2mF"
      },
      "source": [
        ""
      ],
      "execution_count": null,
      "outputs": []
    },
    {
      "cell_type": "code",
      "metadata": {
        "id": "iTvkhSWQl2mG",
        "outputId": "30c8cab2-d8a5-40b4-9a2a-f72610d03f2d"
      },
      "source": [
        "# Predicting on a single input\n",
        "ftxt_clf_gensim.predict(df_ftxt_test.iloc[2, 0], k=-1, threshold=0.75)"
      ],
      "execution_count": null,
      "outputs": [
        {
          "output_type": "execute_result",
          "data": {
            "text/plain": [
              "(('__label__II', '__label__III'), array([1.00001001, 1.00001001]))"
            ]
          },
          "metadata": {
            "tags": []
          },
          "execution_count": 59
        }
      ]
    },
    {
      "cell_type": "markdown",
      "metadata": {
        "id": "SNgTyecepyYk"
      },
      "source": [
        "lets do wordcount here "
      ]
    },
    {
      "cell_type": "code",
      "metadata": {
        "id": "QCV2cl3jqRb-"
      },
      "source": [
        "appos = {\"ain't\": \"am not\", \"aren't\": \"are not\", \"can't\": \"cannot\", \n",
        "         \"can't've\": \"cannot have\", \"'cause\": \"because\", \n",
        "         \"could've\": \"could have\", \"couldn't\": \"could not\", \n",
        "         \"couldn't've\": \"could not have\", \"didn't\": \"did not\", \n",
        "         \"doesn't\": \"does not\", \"don't\": \"do not\", \"hadn't\": \"had not\", \n",
        "         \"hadn't've\": \"had not have\", \"hasn't\": \"has not\", \n",
        "         \"haven't\": \"have not\", \"he'd\": \"he would\", \"he'd've\": \"he would have\", \n",
        "         \"he'll\": \"he will\", \"he'll've\": \"he will have\", \n",
        "         \"he's\": \"he is\", \"how'd\": \"how did\", \n",
        "         \"how'd'y\": \"how do you\", \"how'll\": \"how will\", \"how's\": \"how is\",\n",
        "         \"I'd\": \"I would\", \"I'd've\": \"I would have\", \"I'll\": \"I will\", \n",
        "         \"I'll've\": \"I will have\", \"I'm\": \"I am\", \"I've\": \"I have\", \n",
        "         \"isn't\": \"is not\", \"it'd\": \"it would\", \"it'd've\": \"it would have\", \n",
        "         \"it'll\": \"it will\", \"it'll've\": \"it will have\", \"it's\": \"it is\", \n",
        "         \"let's\": \"let us\", \"ma'am\": \"madam\", \"mayn't\": \"may not\", \n",
        "         \"might've\": \"might have\", \"mightn't\": \"might not\", \n",
        "         \"mightn't've\": \"might not have\", \"must've\": \"must have\", \n",
        "         \"mustn't\": \"must not\", \"mustn't've\": \"must not have\", \n",
        "         \"needn't\": \"need not\", \"needn't've\": \"need not have\",\n",
        "         \"o'clock\": \"of the clock\", \"oughtn't\": \"ought not\", \n",
        "         \"oughtn't've\": \"ought not have\", \"shan't\": \"shall not\", \n",
        "         \"sha'n't\": \"shall not\", \"shan't've\": \"shall not have\", \n",
        "         \"she'd\": \"she would\", \"she'd've\": \"she would have\", \n",
        "         \"she'll\": \"she will\", \"she'll've\": \"she will have\",\n",
        "         \"she's\": \"she is\", \"should've\": \"should have\", \n",
        "         \"shouldn't\": \"should not\", \"shouldn't've\": \"should not have\", \n",
        "         \"so've\": \"so have\", \"so's\": \"so is\", \n",
        "         \"that'd\": \"that had\", \"that'd've\": \"that would have\", \n",
        "         \"that's\": \"that that is\", \"there'd\": \"there would\", \n",
        "         \"there'd've\": \"there would have\", \"there's\": \"there is\", \n",
        "         \"they'd\": \"they would\", \"they'd've\": \"they would have\", \n",
        "         \"they'll\": \"they will\", \"they'll've\": \"they will have\", \n",
        "         \"they're\": \"they are\", \"they've\": \"they have\", \n",
        "         \"to've\": \"to have\", \"wasn't\": \"was not\", \"we'd\": \"we would\", \n",
        "         \"we'd've\": \"we would have\", \"we'll\": \"we will\", \n",
        "         \"we'll've\": \"we will have\", \"we're\": \"we are\", \n",
        "         \"we've\": \"we have\", \"weren't\": \"were not\", \n",
        "         \"what'll\": \"what will\", \"what'll've\": \"what will have\", \n",
        "         \"what're\": \"what are\", \"what's\": \"what is\", \n",
        "         \"what've\": \"what have\", \"when's\": \"when is\", \n",
        "         \"when've\": \"when have\", \"where'd\": \"where did\", \n",
        "         \"where's\": \"where is\", \"where've\": \"where have\", \n",
        "         \"who'll\": \"who will\", \"who'll've\": \"who will have\", \n",
        "         \"who's\": \"who is\", \"who've\": \"who have\", \n",
        "         \"why's\": \"why is\", \"why've\": \"why have\", \"will've\": \"will have\", \n",
        "         \"won't\": \"will not\", \"won't've\": \"will not have\",\n",
        "         \"would've\": \"would have\", \"wouldn't\": \"would not\", \n",
        "         \"wouldn't've\": \"would not have\", \"y'all\": \"you all\", \n",
        "         \"y'all'd\": \"you all would\", \"y'all'd've\": \"you all would have\", \n",
        "         \"y'all're\": \"you all are\", \"y'all've\": \"you all have\", \n",
        "         \"you'd\": \"you would\", \"you'd've\": \"you would have\",\n",
        "         \"you'll\": \"you will\", \"you'll've\": \"you will have\", \n",
        "         \"you're\": \"you are\", \"you've\": \"you have\"}\n",
        "\n",
        "# Helper function to replace appos\n",
        "def replace_words(headline):\n",
        "    cleaned_headlines = []\n",
        "    for word in str(headline).split():\n",
        "        if word.lower() in appos.keys():\n",
        "            cleaned_headlines.append(appos[word.lower()])\n",
        "        else:\n",
        "            cleaned_headlines.append(word)\n",
        "    return ' '.join(cleaned_headlines)\n",
        "\n",
        "# Helper function to remove punctuations\n",
        "# Reference: https://www.programiz.com/python-programming/methods/string/translate\n",
        "PUNCT_TO_REMOVE = '!\"#$%&\\'()*+,-./:;<=>?@[\\\\]^_`{|}~' #string.punctuation\n",
        "def remove_punctuation(text):\n",
        "    \"\"\"function to remove the punctuation\"\"\"\n",
        "    return text.translate(str.maketrans('', '', PUNCT_TO_REMOVE))\n",
        "\n",
        "# Helper function to lemmatize\n",
        "lemmatizer = WordNetLemmatizer()\n",
        "def lemmatize(text):\n",
        "  return ''.join([lemmatizer.lemmatize(word) for word in text])\n",
        "\n",
        "# Helper function to remove stopwords\n",
        "stoplist = set(stopwords.words('english'))\n",
        "stoplist.remove('not')\n",
        "def remove_stopwords(text):\n",
        "    \"\"\"function to remove the stopwords\"\"\"\n",
        "    return \" \".join([word for word in str(text).split() if word not in stoplist])\n",
        "\n",
        "# Helper function for wordcloud\n",
        "# Reference: https://www.kaggle.com/aashita/word-clouds-of-various-shapes\n",
        "def plot_wordcloud(text, mask = None, max_words = 500, max_font_size = 40, \n",
        "                   figure_size = (12, 6), title = None, title_size = 15):\n",
        "    wordcloud = WordCloud(background_color = 'white', max_words = max_words,\n",
        "                          random_state = 42, width = 350, height = 150, \n",
        "                          mask = mask, stopwords = stoplist, collocations = False)\n",
        "    wordcloud.generate(str(text))\n",
        "    \n",
        "    plt.figure(figsize = figure_size)\n",
        "    plt.imshow(wordcloud, interpolation = 'bilinear');\n",
        "    plt.title(title, fontdict = {'size': title_size, 'color': 'black', \n",
        "                               'verticalalignment': 'bottom'})\n",
        "    plt.axis('off');\n",
        "    plt.tight_layout()\n",
        "\n",
        "lemmatizer = WordNetLemmatizer()\n",
        "def lem(text):\n",
        "    pos_dict = {'N': wn.NOUN, 'V': wn.VERB, 'J': wn.ADJ, 'R': wn.ADV}\n",
        "    return(' '.join([lemmatizer.lemmatize(w,pos_dict.get(t, wn.NOUN)) for w,t in nltk.pos_tag(text.split())]))"
      ],
      "execution_count": 62,
      "outputs": []
    },
    {
      "cell_type": "code",
      "metadata": {
        "colab": {
          "base_uri": "https://localhost:8080/",
          "height": 447
        },
        "id": "BCvAbLONl2mL",
        "outputId": "b16d6caf-cfa8-4ab6-a67f-ca4203f65787"
      },
      "source": [
        "from wordcloud import WordCloud\n",
        "print('Word Cloud')\n",
        "print('=='*50)\n",
        "industrial_safety_df['Description'] = industrial_safety_df['Description'].fillna('')\n",
        "indStr = ' '.join(industrial_safety_df['Description'])\n",
        "plot_wordcloud(indStr, title = 'Word Cloud of Industry Safety')"
      ],
      "execution_count": 63,
      "outputs": [
        {
          "output_type": "stream",
          "text": [
            "Word Cloud\n",
            "====================================================================================================\n"
          ],
          "name": "stdout"
        },
        {
          "output_type": "display_data",
          "data": {
            "image/png": "[encoded data removed]",
            "text/plain": [
              "<Figure size 864x432 with 1 Axes>"
            ]
          },
          "metadata": {
            "tags": []
          }
        }
      ]
    },
    {
      "cell_type": "code",
      "metadata": {
        "colab": {
          "base_uri": "https://localhost:8080/"
        },
        "id": "PQ_88dN2tTHB",
        "outputId": "e958a542-48da-4d8a-9da6-c2e93fe326cd"
      },
      "source": [
        "import re\n",
        "import nltk\n",
        "from nltk.tokenize import word_tokenize\n",
        "#nltk.download('punkt')\n",
        "from nltk.corpus import stopwords\n",
        "#nltk.download('stopwords')\n",
        "#stopwords.words('english')\n",
        "from nltk.stem import PorterStemmer\n",
        "from nltk.stem import WordNetLemmatizer\n",
        "import nltk; nltk.download('wordnet'); nltk.download('stopwords')\n",
        "from nltk.stem import WordNetLemmatizer\n",
        "from nltk.corpus import wordnet as wn\n",
        "from nltk.corpus import stopwords\n",
        "sns.set(style=\"darkgrid\")"
      ],
      "execution_count": 67,
      "outputs": [
        {
          "output_type": "stream",
          "text": [
            "[nltk_data] Downloading package wordnet to /root/nltk_data...\n",
            "[nltk_data]   Package wordnet is already up-to-date!\n",
            "[nltk_data] Downloading package stopwords to /root/nltk_data...\n",
            "[nltk_data]   Package stopwords is already up-to-date!\n"
          ],
          "name": "stdout"
        }
      ]
    },
    {
      "cell_type": "code",
      "metadata": {
        "colab": {
          "base_uri": "https://localhost:8080/"
        },
        "id": "oh3EtLLdpsVJ",
        "outputId": "e291fdb5-8406-42f3-94ba-6a662f22cc5f"
      },
      "source": [
        "import nltk\n",
        "nltk.download('averaged_perceptron_tagger')"
      ],
      "execution_count": 65,
      "outputs": [
        {
          "output_type": "stream",
          "text": [
            "[nltk_data] Downloading package averaged_perceptron_tagger to\n",
            "[nltk_data]     /root/nltk_data...\n",
            "[nltk_data]   Package averaged_perceptron_tagger is already up-to-\n",
            "[nltk_data]       date!\n"
          ],
          "name": "stdout"
        },
        {
          "output_type": "execute_result",
          "data": {
            "text/plain": [
              "True"
            ]
          },
          "metadata": {
            "tags": []
          },
          "execution_count": 65
        }
      ]
    },
    {
      "cell_type": "code",
      "metadata": {
        "colab": {
          "base_uri": "https://localhost:8080/",
          "height": 719
        },
        "id": "yydmciHuqgWO",
        "outputId": "db1d8f9c-2915-4726-e644-94b12cb47420"
      },
      "source": [
        "print('\\*'*30); \n",
        "print('Converting headlines to lower case')\n",
        "industrial_safety_df['cleaned_Description'] = industrial_safety_df['Description'].apply(lambda x : x.lower())\n",
        "\n",
        "print('Replacing apostrophes to the standard lexicons')\n",
        "industrial_safety_df['cleaned_Description'] = industrial_safety_df['cleaned_Description'].apply(lambda x : replace_words(x))\n",
        "\n",
        "print('Removing punctuations')\n",
        "industrial_safety_df['cleaned_Description'] = industrial_safety_df['cleaned_Description'].apply(lambda x: remove_punctuation(x))\n",
        "\n",
        "print('Applying Lemmatizer')\n",
        "industrial_safety_df['cleaned_Description'] = industrial_safety_df['cleaned_Description'].apply(lambda x: lem(x))\n",
        "\n",
        "print('Removing multiple spaces between words')\n",
        "industrial_safety_df['cleaned_Description'] = industrial_safety_df['cleaned_Description'].apply(lambda x: re.sub(' +', ' ', x))\n",
        "\n",
        "# print('Removing stopwords')\n",
        "industrial_safety_df['cleaned_Description'] = industrial_safety_df['cleaned_Description'].apply(lambda x: remove_stopwords(x))\n",
        "print('\\*'*30)\n",
        "industrial_safety_df.head()"
      ],
      "execution_count": 68,
      "outputs": [
        {
          "output_type": "stream",
          "text": [
            "\\*\\*\\*\\*\\*\\*\\*\\*\\*\\*\\*\\*\\*\\*\\*\\*\\*\\*\\*\\*\\*\\*\\*\\*\\*\\*\\*\\*\\*\\*\n",
            "Converting headlines to lower case\n",
            "Replacing apostrophes to the standard lexicons\n",
            "Removing punctuations\n",
            "Applying Lemmatizer\n",
            "Removing multiple spaces between words\n",
            "\\*\\*\\*\\*\\*\\*\\*\\*\\*\\*\\*\\*\\*\\*\\*\\*\\*\\*\\*\\*\\*\\*\\*\\*\\*\\*\\*\\*\\*\\*\n"
          ],
          "name": "stdout"
        },
        {
          "output_type": "execute_result",
          "data": {
            "text/html": [
              "<div>\n",
              "<style scoped>\n",
              "    .dataframe tbody tr th:only-of-type {\n",
              "        vertical-align: middle;\n",
              "    }\n",
              "\n",
              "    .dataframe tbody tr th {\n",
              "        vertical-align: top;\n",
              "    }\n",
              "\n",
              "    .dataframe thead th {\n",
              "        text-align: right;\n",
              "    }\n",
              "</style>\n",
              "<table border=\"1\" class=\"dataframe\">\n",
              "  <thead>\n",
              "    <tr style=\"text-align: right;\">\n",
              "      <th></th>\n",
              "      <th>Date</th>\n",
              "      <th>Countries</th>\n",
              "      <th>Local</th>\n",
              "      <th>Industry Sector</th>\n",
              "      <th>Accident Level</th>\n",
              "      <th>Potential Accident Level</th>\n",
              "      <th>Gender</th>\n",
              "      <th>Employee or Third Party</th>\n",
              "      <th>Critical Risk</th>\n",
              "      <th>Description</th>\n",
              "      <th>Accident Severity</th>\n",
              "      <th>Updated Description</th>\n",
              "      <th>Updated Description Stems</th>\n",
              "      <th>Updated Description Lemmas</th>\n",
              "      <th>cleaned_Description</th>\n",
              "    </tr>\n",
              "  </thead>\n",
              "  <tbody>\n",
              "    <tr>\n",
              "      <th>0</th>\n",
              "      <td>2016-01-01 00:00:00</td>\n",
              "      <td>Country_01</td>\n",
              "      <td>Local_01</td>\n",
              "      <td>Mining</td>\n",
              "      <td>I</td>\n",
              "      <td>IV</td>\n",
              "      <td>Male</td>\n",
              "      <td>Third Party</td>\n",
              "      <td>Pressed</td>\n",
              "      <td>While removing the drill rod of the Jumbo 08 f...</td>\n",
              "      <td>low</td>\n",
              "      <td>remove drill rod jumbo maintenance supervisor ...</td>\n",
              "      <td>[remov, drill, rod, jumbo, mainten, supervisor...</td>\n",
              "      <td>[remove, drill, rod, jumbo, maintenance, super...</td>\n",
              "      <td>removing drill rod jumbo 08 maintenance superv...</td>\n",
              "    </tr>\n",
              "    <tr>\n",
              "      <th>1</th>\n",
              "      <td>2016-01-02 00:00:00</td>\n",
              "      <td>Country_02</td>\n",
              "      <td>Local_02</td>\n",
              "      <td>Mining</td>\n",
              "      <td>I</td>\n",
              "      <td>IV</td>\n",
              "      <td>Male</td>\n",
              "      <td>Employee</td>\n",
              "      <td>Pressurized Systems</td>\n",
              "      <td>During the activation of a sodium sulphide pum...</td>\n",
              "      <td>low</td>\n",
              "      <td>activation sodium sulphide pump pip uncouple s...</td>\n",
              "      <td>[activ, sodium, sulphid, pump, pipe, uncoupl, ...</td>\n",
              "      <td>[activation, sodium, sulphide, pump, pip, unco...</td>\n",
              "      <td>activation sodium sulphide pump piping wa unco...</td>\n",
              "    </tr>\n",
              "    <tr>\n",
              "      <th>2</th>\n",
              "      <td>2016-01-06 00:00:00</td>\n",
              "      <td>Country_01</td>\n",
              "      <td>Local_03</td>\n",
              "      <td>Mining</td>\n",
              "      <td>I</td>\n",
              "      <td>III</td>\n",
              "      <td>Male</td>\n",
              "      <td>Third Party (Remote)</td>\n",
              "      <td>Manual Tools</td>\n",
              "      <td>In the sub-station MILPO located at level +170...</td>\n",
              "      <td>low</td>\n",
              "      <td>sub station milpo locate level collaborator ex...</td>\n",
              "      <td>[sub, station, milpo, locat, level, collabor, ...</td>\n",
              "      <td>[sub, station, milpo, locate, level, collabora...</td>\n",
              "      <td>substation milpo located level 170 collaborato...</td>\n",
              "    </tr>\n",
              "    <tr>\n",
              "      <th>3</th>\n",
              "      <td>2016-01-08 00:00:00</td>\n",
              "      <td>Country_01</td>\n",
              "      <td>Local_04</td>\n",
              "      <td>Mining</td>\n",
              "      <td>I</td>\n",
              "      <td>I</td>\n",
              "      <td>Male</td>\n",
              "      <td>Third Party</td>\n",
              "      <td>Others</td>\n",
              "      <td>Being 9:45 am. approximately in the Nv. 1880 C...</td>\n",
              "      <td>low</td>\n",
              "      <td>approximately personnel begin task unlock soqu...</td>\n",
              "      <td>[approxim, nv, cx, ob, personnel, begin, task,...</td>\n",
              "      <td>[approximately, personnel, begin, task, unlock...</td>\n",
              "      <td>945 approximately nv 1880 cx695 ob7 personnel ...</td>\n",
              "    </tr>\n",
              "    <tr>\n",
              "      <th>4</th>\n",
              "      <td>2016-01-10 00:00:00</td>\n",
              "      <td>Country_01</td>\n",
              "      <td>Local_04</td>\n",
              "      <td>Mining</td>\n",
              "      <td>IV</td>\n",
              "      <td>IV</td>\n",
              "      <td>Male</td>\n",
              "      <td>Third Party</td>\n",
              "      <td>Others</td>\n",
              "      <td>Approximately at 11:45 a.m. in circumstances t...</td>\n",
              "      <td>high</td>\n",
              "      <td>approximately circumstances mechanics anthony ...</td>\n",
              "      <td>[approxim, circumst, mechan, anthoni, group, l...</td>\n",
              "      <td>[approximately, circumstances, mechanics, anth...</td>\n",
              "      <td>approximately 1145 circumstance mechanic antho...</td>\n",
              "    </tr>\n",
              "  </tbody>\n",
              "</table>\n",
              "</div>"
            ],
            "text/plain": [
              "                  Date  ...                                cleaned_Description\n",
              "0  2016-01-01 00:00:00  ...  removing drill rod jumbo 08 maintenance superv...\n",
              "1  2016-01-02 00:00:00  ...  activation sodium sulphide pump piping wa unco...\n",
              "2  2016-01-06 00:00:00  ...  substation milpo located level 170 collaborato...\n",
              "3  2016-01-08 00:00:00  ...  945 approximately nv 1880 cx695 ob7 personnel ...\n",
              "4  2016-01-10 00:00:00  ...  approximately 1145 circumstance mechanic antho...\n",
              "\n",
              "[5 rows x 15 columns]"
            ]
          },
          "metadata": {
            "tags": []
          },
          "execution_count": 68
        }
      ]
    },
    {
      "cell_type": "markdown",
      "metadata": {
        "id": "kTpjF_15tfYl"
      },
      "source": [
        "## Generating embedding GloVE\n",
        "\n"
      ]
    },
    {
      "cell_type": "code",
      "metadata": {
        "id": "XVAM529htw0M"
      },
      "source": [
        "from tensorflow.keras.layers import Embedding\n",
        "from tensorflow.keras.preprocessing.sequence import pad_sequences\n",
        "from tensorflow.keras.models import Sequential\n",
        "from tensorflow.keras.preprocessing.text import one_hot\n",
        "from tensorflow.keras.layers import LSTM\n",
        "from tensorflow.keras.layers import Dense\n",
        "from tensorflow.keras.layers import Bidirectional\n",
        "from tensorflow.keras.layers import Dropout"
      ],
      "execution_count": 70,
      "outputs": []
    },
    {
      "cell_type": "code",
      "metadata": {
        "id": "XmubPj0jqkaZ"
      },
      "source": [
        "max_features = 3213\n",
        "maxlen = 30\n",
        "embedding_size = 300\n",
        "\n",
        "from tensorflow.keras.preprocessing.text import Tokenizer\n",
        "tokenizer = Tokenizer(num_words=max_features,lower=True)\n",
        "tokenizer.fit_on_texts(industrial_safety_df['cleaned_Description'])\n",
        "\n",
        "seq = tokenizer.texts_to_sequences(industrial_safety_df['cleaned_Description'])\n",
        "padded= pad_sequences(seq,maxlen=maxlen,padding=\"post\")\n",
        "\n",
        "X=padded"
      ],
      "execution_count": 71,
      "outputs": []
    },
    {
      "cell_type": "code",
      "metadata": {
        "colab": {
          "base_uri": "https://localhost:8080/"
        },
        "id": "n_CfDE3mtpKd",
        "outputId": "07c18e08-e367-4b63-b66a-4b86ed12819c"
      },
      "source": [
        "tokenizer.word_index"
      ],
      "execution_count": 72,
      "outputs": [
        {
          "output_type": "execute_result",
          "data": {
            "text/plain": [
              "{'wa': 1,\n",
              " 'employee': 2,\n",
              " 'hand': 3,\n",
              " 'causing': 4,\n",
              " 'left': 5,\n",
              " 'right': 6,\n",
              " 'operator': 7,\n",
              " 'activity': 8,\n",
              " 'time': 9,\n",
              " 'injury': 10,\n",
              " 'moment': 11,\n",
              " 'worker': 12,\n",
              " 'collaborator': 13,\n",
              " 'area': 14,\n",
              " 'one': 15,\n",
              " 'work': 16,\n",
              " 'equipment': 17,\n",
              " 'finger': 18,\n",
              " 'assistant': 19,\n",
              " 'accident': 20,\n",
              " 'pipe': 21,\n",
              " 'level': 22,\n",
              " 'hit': 23,\n",
              " 'floor': 24,\n",
              " 'support': 25,\n",
              " 'mesh': 26,\n",
              " 'rock': 27,\n",
              " 'fall': 28,\n",
              " 'not': 29,\n",
              " 'mr': 30,\n",
              " 'safety': 31,\n",
              " 'glove': 32,\n",
              " 'meter': 33,\n",
              " 'team': 34,\n",
              " 'approximately': 35,\n",
              " 'height': 36,\n",
              " 'part': 37,\n",
              " 'side': 38,\n",
              " 'described': 39,\n",
              " 'circumstance': 40,\n",
              " 'pump': 41,\n",
              " 'truck': 42,\n",
              " 'face': 43,\n",
              " 'cut': 44,\n",
              " 'metal': 45,\n",
              " 'used': 46,\n",
              " 'kg': 47,\n",
              " 'injured': 48,\n",
              " 'place': 49,\n",
              " 'towards': 50,\n",
              " 'medical': 51,\n",
              " 'performing': 52,\n",
              " 'mechanic': 53,\n",
              " 'two': 54,\n",
              " 'using': 55,\n",
              " 'point': 56,\n",
              " 'foot': 57,\n",
              " 'platform': 58,\n",
              " 'made': 59,\n",
              " 'cm': 60,\n",
              " 'remove': 61,\n",
              " 'end': 62,\n",
              " 'performed': 63,\n",
              " 'generating': 64,\n",
              " 'access': 65,\n",
              " 'maintenance': 66,\n",
              " 'fragment': 67,\n",
              " 'inside': 68,\n",
              " '2': 69,\n",
              " 'x': 70,\n",
              " 'plate': 71,\n",
              " 'drill': 72,\n",
              " 'cleaning': 73,\n",
              " 'back': 74,\n",
              " 'front': 75,\n",
              " 'structure': 76,\n",
              " 'arm': 77,\n",
              " 'bolt': 78,\n",
              " 'company': 79,\n",
              " 'position': 80,\n",
              " 'hitting': 81,\n",
              " 'report': 82,\n",
              " 'leg': 83,\n",
              " 'water': 84,\n",
              " 'vehicle': 85,\n",
              " 'weight': 86,\n",
              " 'moving': 87,\n",
              " 'material': 88,\n",
              " '4': 89,\n",
              " 'car': 90,\n",
              " 'drilling': 91,\n",
              " 'hose': 92,\n",
              " 'pm': 93,\n",
              " 'due': 94,\n",
              " 'carried': 95,\n",
              " 'hopper': 96,\n",
              " 'bar': 97,\n",
              " 'use': 98,\n",
              " 'key': 99,\n",
              " 'belt': 100,\n",
              " 'center': 101,\n",
              " 'piece': 102,\n",
              " 'impacting': 103,\n",
              " 'released': 104,\n",
              " 'block': 105,\n",
              " '3': 106,\n",
              " 'bite': 107,\n",
              " 'slide': 108,\n",
              " 'immediately': 109,\n",
              " 'ground': 110,\n",
              " 'first': 111,\n",
              " '15': 112,\n",
              " 'came': 113,\n",
              " 'wearing': 114,\n",
              " 'rod': 115,\n",
              " 'head': 116,\n",
              " 'caused': 117,\n",
              " 'small': 118,\n",
              " 'technician': 119,\n",
              " 'event': 120,\n",
              " 'upper': 121,\n",
              " 'moved': 122,\n",
              " 'gable': 123,\n",
              " 'edge': 124,\n",
              " 'trying': 125,\n",
              " 'sting': 126,\n",
              " 'eye': 127,\n",
              " 'ladder': 128,\n",
              " 'make': 129,\n",
              " 'contact': 130,\n",
              " 'tube': 131,\n",
              " 'helmet': 132,\n",
              " 'impact': 133,\n",
              " 'line': 134,\n",
              " 'another': 135,\n",
              " 'reaching': 136,\n",
              " 'nv': 137,\n",
              " 'falling': 138,\n",
              " 'projected': 139,\n",
              " '5': 140,\n",
              " 'loading': 141,\n",
              " 'approx': 142,\n",
              " 'move': 143,\n",
              " 'movement': 144,\n",
              " 'near': 145,\n",
              " 'base': 146,\n",
              " 'da': 147,\n",
              " 'silva': 148,\n",
              " 'neck': 149,\n",
              " 'diameter': 150,\n",
              " 'bee': 151,\n",
              " 'cutting': 152,\n",
              " 'pressure': 153,\n",
              " 'second': 154,\n",
              " 'slip': 155,\n",
              " 'loader': 156,\n",
              " 'grating': 157,\n",
              " 'boot': 158,\n",
              " 'step': 159,\n",
              " 'glass': 160,\n",
              " 'lower': 161,\n",
              " 'person': 162,\n",
              " 'reaction': 163,\n",
              " 'slipped': 164,\n",
              " 'wound': 165,\n",
              " 'acid': 166,\n",
              " 'producing': 167,\n",
              " 'air': 168,\n",
              " 'region': 169,\n",
              " 'hammer': 170,\n",
              " 'top': 171,\n",
              " 'return': 172,\n",
              " 'sheet': 173,\n",
              " 'field': 174,\n",
              " 'allergic': 175,\n",
              " 'removing': 176,\n",
              " 'personnel': 177,\n",
              " 'pulley': 178,\n",
              " 'without': 179,\n",
              " 'go': 180,\n",
              " 'burn': 181,\n",
              " 'opening': 182,\n",
              " 'cable': 183,\n",
              " 'locomotive': 184,\n",
              " 'pressed': 185,\n",
              " 'driver': 186,\n",
              " 'chain': 187,\n",
              " 'workshop': 188,\n",
              " 'collection': 189,\n",
              " 'took': 190,\n",
              " 'removal': 191,\n",
              " 'located': 192,\n",
              " 'steel': 193,\n",
              " 'direction': 194,\n",
              " 'ore': 195,\n",
              " 'frame': 196,\n",
              " 'guard': 197,\n",
              " 'cathode': 198,\n",
              " 'open': 199,\n",
              " '°': 200,\n",
              " 'release': 201,\n",
              " 'control': 202,\n",
              " 'placed': 203,\n",
              " 'scissor': 204,\n",
              " 'pressing': 205,\n",
              " 'box': 206,\n",
              " '10': 207,\n",
              " 'inspection': 208,\n",
              " 'returned': 209,\n",
              " 'hydraulic': 210,\n",
              " 'tank': 211,\n",
              " 'hole': 212,\n",
              " 'partner': 213,\n",
              " 'last': 214,\n",
              " 'away': 215,\n",
              " 'fell': 216,\n",
              " 'slight': 217,\n",
              " 'hour': 218,\n",
              " 'feel': 219,\n",
              " 'pain': 220,\n",
              " 'machine': 221,\n",
              " 'maneuver': 222,\n",
              " 'turn': 223,\n",
              " 'mining': 224,\n",
              " 'verify': 225,\n",
              " 'lifting': 226,\n",
              " 'making': 227,\n",
              " 'gate': 228,\n",
              " 'tower': 229,\n",
              " 'suddenly': 230,\n",
              " 'help': 231,\n",
              " 'unit': 232,\n",
              " 'knee': 233,\n",
              " 'stop': 234,\n",
              " 'basket': 235,\n",
              " 'soil': 236,\n",
              " 'behind': 237,\n",
              " 'carrying': 238,\n",
              " 'wall': 239,\n",
              " 'lip': 240,\n",
              " 'projection': 241,\n",
              " 'proceeds': 242,\n",
              " 'solution': 243,\n",
              " 'tool': 244,\n",
              " 'come': 245,\n",
              " 'holding': 246,\n",
              " 'plant': 247,\n",
              " 'instant': 248,\n",
              " 'door': 249,\n",
              " 'order': 250,\n",
              " 'room': 251,\n",
              " 'master': 252,\n",
              " 'roof': 253,\n",
              " 'drainage': 254,\n",
              " 'positioned': 255,\n",
              " '1': 256,\n",
              " 'held': 257,\n",
              " 'change': 258,\n",
              " 'stopped': 259,\n",
              " 'forearm': 260,\n",
              " 'site': 261,\n",
              " 'test': 262,\n",
              " 'ring': 263,\n",
              " 'welder': 264,\n",
              " 'mine': 265,\n",
              " 'concrete': 266,\n",
              " 'load': 267,\n",
              " 'referred': 268,\n",
              " 'attacked': 269,\n",
              " 'auxiliary': 270,\n",
              " 'leaving': 271,\n",
              " 'bag': 272,\n",
              " 'suffered': 273,\n",
              " 'went': 274,\n",
              " 'section': 275,\n",
              " 'preparing': 276,\n",
              " 'set': 277,\n",
              " 'zinc': 278,\n",
              " 'lift': 279,\n",
              " 'container': 280,\n",
              " 'lens': 281,\n",
              " 'removed': 282,\n",
              " 'cylinder': 283,\n",
              " 'blade': 284,\n",
              " 'ramp': 285,\n",
              " 'balance': 286,\n",
              " 'flange': 287,\n",
              " 'crown': 288,\n",
              " 'wooden': 289,\n",
              " 'road': 290,\n",
              " 'lesion': 291,\n",
              " 'type': 292,\n",
              " 'surface': 293,\n",
              " 'scoop': 294,\n",
              " 'struck': 295,\n",
              " 'around': 296,\n",
              " 'blow': 297,\n",
              " 'staff': 298,\n",
              " 'victim': 299,\n",
              " 'epps': 300,\n",
              " 'swelling': 301,\n",
              " 'supervisor': 302,\n",
              " 'hospital': 303,\n",
              " 'detached': 304,\n",
              " 'split': 305,\n",
              " 'shoulder': 306,\n",
              " 'transferred': 307,\n",
              " 'pulling': 308,\n",
              " 'n': 309,\n",
              " 'break': 310,\n",
              " 'presence': 311,\n",
              " '6': 312,\n",
              " 'take': 313,\n",
              " 'shotcrete': 314,\n",
              " 'thumb': 315,\n",
              " 'system': 316,\n",
              " 'valve': 317,\n",
              " 'cabin': 318,\n",
              " 'third': 319,\n",
              " 'stepped': 320,\n",
              " 'iron': 321,\n",
              " 'sleeve': 322,\n",
              " 'superficial': 323,\n",
              " 'service': 324,\n",
              " 'manoel': 325,\n",
              " 'strip': 326,\n",
              " 'jumbo': 327,\n",
              " 'pull': 328,\n",
              " 'beam': 329,\n",
              " 'tip': 330,\n",
              " 'coming': 331,\n",
              " 'lever': 332,\n",
              " 'operation': 333,\n",
              " '12': 334,\n",
              " 'positioning': 335,\n",
              " 'board': 336,\n",
              " 'surprised': 337,\n",
              " 'ha': 338,\n",
              " 'rope': 339,\n",
              " 'body': 340,\n",
              " 'generates': 341,\n",
              " 'force': 342,\n",
              " 'enter': 343,\n",
              " 'chute': 344,\n",
              " 'get': 345,\n",
              " 'little': 346,\n",
              " 'notice': 347,\n",
              " 'liquid': 348,\n",
              " 'evacuated': 349,\n",
              " 'minor': 350,\n",
              " '8': 351,\n",
              " 'middle': 352,\n",
              " 'bolter': 353,\n",
              " 'h': 354,\n",
              " 'close': 355,\n",
              " 'untimely': 356,\n",
              " 'hooked': 357,\n",
              " 'wire': 358,\n",
              " 'geological': 359,\n",
              " 'found': 360,\n",
              " 'tire': 361,\n",
              " 'forest': 362,\n",
              " 'continued': 363,\n",
              " 'project': 364,\n",
              " 'gps': 365,\n",
              " 'mud': 366,\n",
              " 'noise': 367,\n",
              " 'easel': 368,\n",
              " 'flow': 369,\n",
              " 'reach': 370,\n",
              " '\\u200b\\u200bthe': 371,\n",
              " 'task': 372,\n",
              " 'length': 373,\n",
              " 'high': 374,\n",
              " 'verified': 375,\n",
              " 'suffering': 376,\n",
              " 'day': 377,\n",
              " 'hot': 378,\n",
              " 'post': 379,\n",
              " 'electric': 380,\n",
              " 'product': 381,\n",
              " 'mechanical': 382,\n",
              " 'leather': 383,\n",
              " 'ventilation': 384,\n",
              " 'chimney': 385,\n",
              " 'probe': 386,\n",
              " 'mixkret': 387,\n",
              " 'rim': 388,\n",
              " 'start': 389,\n",
              " 'pit': 390,\n",
              " 'ear': 391,\n",
              " 'would': 392,\n",
              " 'onto': 393,\n",
              " 'central': 394,\n",
              " 'broken': 395,\n",
              " 'toward': 396,\n",
              " 'upon': 397,\n",
              " 'covered': 398,\n",
              " 'taken': 399,\n",
              " '50': 400,\n",
              " 'suction': 401,\n",
              " 'chin': 402,\n",
              " 'rubber': 403,\n",
              " '20': 404,\n",
              " 'fifth': 405,\n",
              " 'evaluate': 406,\n",
              " 'doe': 407,\n",
              " 'continue': 408,\n",
              " 'discomfort': 409,\n",
              " 'pulp': 410,\n",
              " 'sample': 411,\n",
              " 'normal': 412,\n",
              " 'normally': 413,\n",
              " 'completed': 414,\n",
              " 'give': 415,\n",
              " 'quickly': 416,\n",
              " '02': 417,\n",
              " 'following': 418,\n",
              " 'city': 419,\n",
              " 'later': 420,\n",
              " 'climb': 421,\n",
              " 'discharge': 422,\n",
              " 'projecting': 423,\n",
              " 'irritation': 424,\n",
              " 'placing': 425,\n",
              " 'proceeded': 426,\n",
              " 'manually': 427,\n",
              " 'electrician': 428,\n",
              " 'forehead': 429,\n",
              " '200': 430,\n",
              " 'evaluation': 431,\n",
              " 'conveyor': 432,\n",
              " 'passed': 433,\n",
              " 'scaffolding': 434,\n",
              " 'striking': 435,\n",
              " 'bearing': 436,\n",
              " 'handle': 437,\n",
              " 'chamber': 438,\n",
              " 'table': 439,\n",
              " 'attention': 440,\n",
              " 'decides': 441,\n",
              " 'lid': 442,\n",
              " 'imprisoned': 443,\n",
              " 'de': 444,\n",
              " 'check': 445,\n",
              " 'care': 446,\n",
              " 'press': 447,\n",
              " 'process': 448,\n",
              " 'next': 449,\n",
              " 'rotation': 450,\n",
              " 'index': 451,\n",
              " 'protection': 452,\n",
              " 'ankle': 453,\n",
              " '18': 454,\n",
              " 'cat': 455,\n",
              " 'cloth': 456,\n",
              " 'pass': 457,\n",
              " '30': 458,\n",
              " 'returning': 459,\n",
              " 'washing': 460,\n",
              " 'gutter': 461,\n",
              " '40': 462,\n",
              " 'decide': 463,\n",
              " 'ingot': 464,\n",
              " 'clean': 465,\n",
              " 'entrance': 466,\n",
              " 'inner': 467,\n",
              " 'clerk': 468,\n",
              " 'bucket': 469,\n",
              " 'suffers': 470,\n",
              " 'performs': 471,\n",
              " '01': 472,\n",
              " 'target': 473,\n",
              " 'accompanied': 474,\n",
              " 'south': 475,\n",
              " 'avoid': 476,\n",
              " 'geologist': 477,\n",
              " 'push': 478,\n",
              " 'filling': 479,\n",
              " 'entering': 480,\n",
              " 'well': 481,\n",
              " 'evacuation': 482,\n",
              " 'local': 483,\n",
              " 'leave': 484,\n",
              " 'emergency': 485,\n",
              " 'palm': 486,\n",
              " 'three': 487,\n",
              " 'proceed': 488,\n",
              " 'unloading': 489,\n",
              " 'mouth': 490,\n",
              " 'displacement': 491,\n",
              " 'aid': 492,\n",
              " 'realized': 493,\n",
              " 'opened': 494,\n",
              " 'try': 495,\n",
              " 'installation': 496,\n",
              " 'lock': 497,\n",
              " 'filter': 498,\n",
              " 'passing': 499,\n",
              " 'thermal': 500,\n",
              " 'splash': 501,\n",
              " 'cell': 502,\n",
              " 'degree': 503,\n",
              " 'crane': 504,\n",
              " 'occurred': 505,\n",
              " 'stuck': 506,\n",
              " 'hold': 507,\n",
              " 'communicates': 508,\n",
              " 'mill': 509,\n",
              " 'entered': 510,\n",
              " 'ampoloader': 511,\n",
              " 'rear': 512,\n",
              " 'holder': 513,\n",
              " 'withdrawal': 514,\n",
              " '2nd': 515,\n",
              " 'turned': 516,\n",
              " 'find': 517,\n",
              " 'mineral': 518,\n",
              " 'noticing': 519,\n",
              " 'oil': 520,\n",
              " 'cover': 521,\n",
              " 'loses': 522,\n",
              " 'suspended': 523,\n",
              " 'boiler': 524,\n",
              " 'waste': 525,\n",
              " 'leaf': 526,\n",
              " 'rail': 527,\n",
              " 'ahead': 528,\n",
              " 'traveled': 529,\n",
              " 'bruise': 530,\n",
              " 'metallic': 531,\n",
              " 'pin': 532,\n",
              " 'enters': 533,\n",
              " 'sound': 534,\n",
              " 'approximate': 535,\n",
              " 'cx': 536,\n",
              " 'stilson': 537,\n",
              " 'heading': 538,\n",
              " 'zone': 539,\n",
              " 'manual': 540,\n",
              " 'rub': 541,\n",
              " 'together': 542,\n",
              " 'could': 543,\n",
              " 'stump': 544,\n",
              " 'wood': 545,\n",
              " 'loose': 546,\n",
              " 'tubing': 547,\n",
              " 'contusion': 548,\n",
              " 'strap': 549,\n",
              " 'internal': 550,\n",
              " '1st': 551,\n",
              " 'traveling': 552,\n",
              " 'paralyzed': 553,\n",
              " 'engine': 554,\n",
              " 'electrical': 555,\n",
              " 'affected': 556,\n",
              " 'bank': 557,\n",
              " 'complete': 558,\n",
              " 'vegetation': 559,\n",
              " 'received': 560,\n",
              " 'parked': 561,\n",
              " 'tipper': 562,\n",
              " 'fourth': 563,\n",
              " 'execution': 564,\n",
              " 'bitten': 565,\n",
              " 'particle': 566,\n",
              " 'branch': 567,\n",
              " 'positive': 568,\n",
              " 'preparation': 569,\n",
              " 'light': 570,\n",
              " 'felt': 571,\n",
              " 'rafael': 572,\n",
              " 'danillo': 573,\n",
              " 'uniform': 574,\n",
              " 'robson': 575,\n",
              " 'maid': 576,\n",
              " 'doctor': 577,\n",
              " 'pick': 578,\n",
              " 'begin': 579,\n",
              " 'unlocking': 580,\n",
              " 'impromec': 581,\n",
              " '70': 582,\n",
              " 'distance': 583,\n",
              " 'transmission': 584,\n",
              " 'tension': 585,\n",
              " 'resting': 586,\n",
              " 'protective': 587,\n",
              " 'winch': 588,\n",
              " 'lunch': 589,\n",
              " '60': 590,\n",
              " 'working': 591,\n",
              " 'intersection': 592,\n",
              " '3300': 593,\n",
              " 'phase': 594,\n",
              " 'shock': 595,\n",
              " 'ppe': 596,\n",
              " 'perforation': 597,\n",
              " '7': 598,\n",
              " 'wheel': 599,\n",
              " 'heated': 600,\n",
              " 'chisel': 601,\n",
              " 'track': 602,\n",
              " 'clinic': 603,\n",
              " 'power': 604,\n",
              " 'cheekbone': 605,\n",
              " 'pushing': 606,\n",
              " 'still': 607,\n",
              " 'fire': 608,\n",
              " 'wrench': 609,\n",
              " 'hdpe': 610,\n",
              " 'blocked': 611,\n",
              " 'people': 612,\n",
              " 'impacted': 613,\n",
              " 'protruding': 614,\n",
              " 'oven': 615,\n",
              " 'lamp': 616,\n",
              " 'cleaned': 617,\n",
              " 'window': 618,\n",
              " 'alone': 619,\n",
              " 'fracture': 620,\n",
              " 'helper': 621,\n",
              " 'descending': 622,\n",
              " '03': 623,\n",
              " '25': 624,\n",
              " 'nut': 625,\n",
              " 'clamp': 626,\n",
              " 'way': 627,\n",
              " '14': 628,\n",
              " 'imprisons': 629,\n",
              " 'deep': 630,\n",
              " 'general': 631,\n",
              " 'slope': 632,\n",
              " 'driller': 633,\n",
              " '5th': 634,\n",
              " 'sole': 635,\n",
              " 'distal': 636,\n",
              " 'handling': 637,\n",
              " 'long': 638,\n",
              " 'tail': 639,\n",
              " 'incident': 640,\n",
              " 'main': 641,\n",
              " 'carry': 642,\n",
              " 'perform': 643,\n",
              " 'roll': 644,\n",
              " 'welding': 645,\n",
              " 'inch': 646,\n",
              " 'initial': 647,\n",
              " 'ustulation': 648,\n",
              " 'mapping': 649,\n",
              " 'necessary': 650,\n",
              " 'house': 651,\n",
              " 'space': 652,\n",
              " 'put': 653,\n",
              " '2900': 654,\n",
              " 'drop': 655,\n",
              " 'happened': 656,\n",
              " 'saw': 657,\n",
              " 'wrist': 658,\n",
              " 'allergy': 659,\n",
              " 'needed': 660,\n",
              " 'attack': 661,\n",
              " 'previously': 662,\n",
              " 'op2': 663,\n",
              " 'convoy': 664,\n",
              " 'treated': 665,\n",
              " 'stage': 666,\n",
              " 'several': 667,\n",
              " 'see': 668,\n",
              " 'thorn': 669,\n",
              " 'decided': 670,\n",
              " 'overflow': 671,\n",
              " 'walking': 672,\n",
              " 'attempt': 673,\n",
              " 'drawer': 674,\n",
              " 'chest': 675,\n",
              " 'assembly': 676,\n",
              " 'dust': 677,\n",
              " 'protector': 678,\n",
              " 'fence': 679,\n",
              " 'extension': 680,\n",
              " 'bumped': 681,\n",
              " 'full': 682,\n",
              " 'sampling': 683,\n",
              " 'loud': 684,\n",
              " 'old': 685,\n",
              " 'loosen': 686,\n",
              " 'directed': 687,\n",
              " 'note': 688,\n",
              " 'identified': 689,\n",
              " 'proceeding': 690,\n",
              " 'motor': 691,\n",
              " '09': 692,\n",
              " 'raise': 693,\n",
              " 'forklift': 694,\n",
              " 'installing': 695,\n",
              " 'channel': 696,\n",
              " 'housing': 697,\n",
              " 'pot': 698,\n",
              " 'backwards': 699,\n",
              " 'accumulation': 700,\n",
              " 'indicated': 701,\n",
              " 'jhonatan': 702,\n",
              " 'nilton': 703,\n",
              " 'hq': 704,\n",
              " 'standing': 705,\n",
              " 'bottom': 706,\n",
              " 'rest': 707,\n",
              " 'finished': 708,\n",
              " 'cocada': 709,\n",
              " 'limb': 710,\n",
              " 'asks': 711,\n",
              " 'started': 712,\n",
              " 'clearing': 713,\n",
              " 'tie': 714,\n",
              " 'coil': 715,\n",
              " 'warehouse': 716,\n",
              " 'seat': 717,\n",
              " 'apparently': 718,\n",
              " 'blowing': 719,\n",
              " '13': 720,\n",
              " 'official': 721,\n",
              " 'patrol': 722,\n",
              " 'remained': 723,\n",
              " 'furnace': 724,\n",
              " 'incimmet': 725,\n",
              " 'explosive': 726,\n",
              " 'anfoloader': 727,\n",
              " 'sustained': 728,\n",
              " 'throwing': 729,\n",
              " 'jump': 730,\n",
              " 'cause': 731,\n",
              " 'cabinet': 732,\n",
              " 'activates': 733,\n",
              " 'arranged': 734,\n",
              " 'cart': 735,\n",
              " 'accessory': 736,\n",
              " 'vertical': 737,\n",
              " 'form': 738,\n",
              " 'adjustment': 739,\n",
              " 'blunt': 740,\n",
              " 'william': 741,\n",
              " 'supported': 742,\n",
              " 'electrowelded': 743,\n",
              " '04': 744,\n",
              " 'twist': 745,\n",
              " 'free': 746,\n",
              " 'bend': 747,\n",
              " 'radius': 748,\n",
              " 'approaching': 749,\n",
              " 'supervising': 750,\n",
              " 'previous': 751,\n",
              " 'hdp': 752,\n",
              " 'four': 753,\n",
              " 'pvc': 754,\n",
              " 'fine': 755,\n",
              " 'transfer': 756,\n",
              " 'grid': 757,\n",
              " 'bomb': 758,\n",
              " 'across': 759,\n",
              " 'machete': 760,\n",
              " 'locking': 761,\n",
              " 'strike': 762,\n",
              " '16': 763,\n",
              " 'trip': 764,\n",
              " 'anchor': 765,\n",
              " 'lifted': 766,\n",
              " 'cap': 767,\n",
              " 'empty': 768,\n",
              " '100': 769,\n",
              " 'store': 770,\n",
              " 'gallery': 771,\n",
              " 'us': 772,\n",
              " 'verifying': 773,\n",
              " 'remaining': 774,\n",
              " 'wick': 775,\n",
              " 'chuck': 776,\n",
              " 'climbing': 777,\n",
              " 'sulfuric': 778,\n",
              " 'observes': 779,\n",
              " 'recovery': 780,\n",
              " 'feeder': 781,\n",
              " 'occurs': 782,\n",
              " '120': 783,\n",
              " 'connection': 784,\n",
              " 'composed': 785,\n",
              " 'divine': 786,\n",
              " 'staircase': 787,\n",
              " 'forward': 788,\n",
              " 'member': 789,\n",
              " 'exit': 790,\n",
              " 'reduced': 791,\n",
              " 'got': 792,\n",
              " 'getting': 793,\n",
              " 'radio': 794,\n",
              " 'followed': 795,\n",
              " 'leak': 796,\n",
              " 'closing': 797,\n",
              " 'soon': 798,\n",
              " 'involved': 799,\n",
              " 'pad': 800,\n",
              " 'scooptram': 801,\n",
              " 'reducer': 802,\n",
              " 'pasco': 803,\n",
              " 'lane': 804,\n",
              " 'cone': 805,\n",
              " 'shank': 806,\n",
              " 'corrugated': 807,\n",
              " 'twisting': 808,\n",
              " '3450': 809,\n",
              " 'survey': 810,\n",
              " '440': 811,\n",
              " 'dining': 812,\n",
              " 'anode': 813,\n",
              " 'ee': 814,\n",
              " 'closed': 815,\n",
              " 'office': 816,\n",
              " 'advance': 817,\n",
              " 'rebound': 818,\n",
              " 'railing': 819,\n",
              " 'chuteo': 820,\n",
              " 'gun': 821,\n",
              " 'turning': 822,\n",
              " 'fan': 823,\n",
              " 'routine': 824,\n",
              " 'shape': 825,\n",
              " 'supporting': 826,\n",
              " 'license': 827,\n",
              " 'fabio': 828,\n",
              " 'screen': 829,\n",
              " 'wasp': 830,\n",
              " 'fenced': 831,\n",
              " 'heard': 832,\n",
              " '08': 833,\n",
              " 'intermediate': 834,\n",
              " 'substation': 835,\n",
              " 'excavation': 836,\n",
              " 'bounce': 837,\n",
              " 'shoe': 838,\n",
              " 'metatarsal': 839,\n",
              " '1880': 840,\n",
              " 'prevent': 841,\n",
              " '1145': 842,\n",
              " '27': 843,\n",
              " 'locked': 844,\n",
              " 'instep': 845,\n",
              " 'ustulado': 846,\n",
              " 'need': 847,\n",
              " 'unclog': 848,\n",
              " 'procedure': 849,\n",
              " 'unexpectedly': 850,\n",
              " 'grab': 851,\n",
              " 'excoriation': 852,\n",
              " 'weighing': 853,\n",
              " 'rice': 854,\n",
              " '35': 855,\n",
              " 'including': 856,\n",
              " 'residual': 857,\n",
              " 'tried': 858,\n",
              " 'flash': 859,\n",
              " 'jacket': 860,\n",
              " 'increase': 861,\n",
              " 'row': 862,\n",
              " '75': 863,\n",
              " 'thigh': 864,\n",
              " 'called': 865,\n",
              " 'warning': 866,\n",
              " 'concentrate': 867,\n",
              " 'assisted': 868,\n",
              " 'horizontally': 869,\n",
              " 'releasing': 870,\n",
              " 'effect': 871,\n",
              " 'exerted': 872,\n",
              " 'entry': 873,\n",
              " 'tilted': 874,\n",
              " 'aluminum': 875,\n",
              " 'short': 876,\n",
              " 'walk': 877,\n",
              " 'fact': 878,\n",
              " 'natclar': 879,\n",
              " 'gr': 880,\n",
              " 'secondary': 881,\n",
              " 'effort': 882,\n",
              " 'engineer': 883,\n",
              " 'amount': 884,\n",
              " 'wore': 885,\n",
              " 'embedded': 886,\n",
              " 'alpha': 887,\n",
              " 'finding': 888,\n",
              " 'noticed': 889,\n",
              " 'la': 890,\n",
              " 'telescopic': 891,\n",
              " 'storm': 892,\n",
              " 'pumping': 893,\n",
              " '45': 894,\n",
              " 'lose': 895,\n",
              " 'starting': 896,\n",
              " 'realizing': 897,\n",
              " 'stung': 898,\n",
              " 'leakage': 899,\n",
              " 'transporting': 900,\n",
              " 'unbalanced': 901,\n",
              " 'leaching': 902,\n",
              " 'cement': 903,\n",
              " 'slid': 904,\n",
              " 'action': 905,\n",
              " 'maperu': 906,\n",
              " 'wagon': 907,\n",
              " 'radial': 908,\n",
              " 'negative': 909,\n",
              " 'bit': 910,\n",
              " 'coupling': 911,\n",
              " 'abruptly': 912,\n",
              " '55': 913,\n",
              " 'mobile': 914,\n",
              " 'hook': 915,\n",
              " 'hoist': 916,\n",
              " '9': 917,\n",
              " '1500': 918,\n",
              " 'going': 919,\n",
              " 'ripper': 920,\n",
              " 'mooring': 921,\n",
              " 'blasting': 922,\n",
              " 'cutter': 923,\n",
              " 'worked': 924,\n",
              " 'cross': 925,\n",
              " 'sling': 926,\n",
              " 'reached': 927,\n",
              " 'shear': 928,\n",
              " 'secured': 929,\n",
              " 'raised': 930,\n",
              " 'square': 931,\n",
              " '1710': 932,\n",
              " '018': 933,\n",
              " 'fixing': 934,\n",
              " 'heavy': 935,\n",
              " 'supply': 936,\n",
              " 'sliding': 937,\n",
              " 'thickener': 938,\n",
              " 'nose': 939,\n",
              " '3cm': 940,\n",
              " '54': 941,\n",
              " 'manipulating': 942,\n",
              " 'parking': 943,\n",
              " 'brake': 944,\n",
              " 'safe': 945,\n",
              " 'conditioning': 946,\n",
              " '130': 947,\n",
              " '92': 948,\n",
              " 'shifted': 949,\n",
              " '4th': 950,\n",
              " 'quirodactyl': 951,\n",
              " 'identify': 952,\n",
              " 'since': 953,\n",
              " 'able': 954,\n",
              " 'phalanx': 955,\n",
              " 'scaffold': 956,\n",
              " 'van': 957,\n",
              " 'nail': 958,\n",
              " 'stumble': 959,\n",
              " 'ton': 960,\n",
              " 'residue': 961,\n",
              " 'helical': 962,\n",
              " 'tell': 963,\n",
              " 'resulting': 964,\n",
              " 'slightly': 965,\n",
              " 'angle': 966,\n",
              " 'stool': 967,\n",
              " 'sink': 968,\n",
              " 'pierced': 969,\n",
              " 'receiving': 970,\n",
              " 'additive': 971,\n",
              " 'thickness': 972,\n",
              " 'align': 973,\n",
              " 'originating': 974,\n",
              " 'pole': 975,\n",
              " '24': 976,\n",
              " 'operates': 977,\n",
              " '1940': 978,\n",
              " 'polyethylene': 979,\n",
              " 'steam': 980,\n",
              " 'electrolysis': 981,\n",
              " 'disk': 982,\n",
              " 'strut': 983,\n",
              " '3m': 984,\n",
              " 'burning': 985,\n",
              " 'transport': 986,\n",
              " 'inspect': 987,\n",
              " 'along': 988,\n",
              " 'mask': 989,\n",
              " 'according': 990,\n",
              " 'interior': 991,\n",
              " 'assembling': 992,\n",
              " 'accommodate': 993,\n",
              " 'fuel': 994,\n",
              " 'copilot': 995,\n",
              " 'stone': 996,\n",
              " 'paracatu': 997,\n",
              " 'orlando': 998,\n",
              " 'boltec': 999,\n",
              " 'plug': 1000,\n",
              " ...}"
            ]
          },
          "metadata": {
            "tags": []
          },
          "execution_count": 72
        }
      ]
    },
    {
      "cell_type": "code",
      "metadata": {
        "colab": {
          "base_uri": "https://localhost:8080/"
        },
        "id": "B1Hfwxftt3lw",
        "outputId": "7ff424c5-3710-4618-a98b-1a5b1f48deca"
      },
      "source": [
        "num_words = len(tokenizer.word_index) + 1\n",
        "print(num_words)"
      ],
      "execution_count": 73,
      "outputs": [
        {
          "output_type": "stream",
          "text": [
            "3213\n"
          ],
          "name": "stdout"
        }
      ]
    },
    {
      "cell_type": "code",
      "metadata": {
        "id": "BLb3qGn_t6gX"
      },
      "source": [
        "import numpy as np\n",
        "EMBEDDING_FILE = '/content/drive/MyDrive/Capstone-project/Chatbot/Data/glove.6B.300d.txt'\n",
        "\n",
        "embeddings = {}\n",
        "for o in open(EMBEDDING_FILE):\n",
        "    word = o.split(\" \")[0]\n",
        "    # print(word)\n",
        "    embd = o.split(\" \")[1:]\n",
        "    embd = np.asarray(embd, dtype='float32')\n",
        "    # print(embd)\n",
        "    embeddings[word] = embd\n",
        "\n",
        "# create a weight matrix for words in training docs\n",
        "embedding_matrix = np.zeros((num_words, 300))\n",
        "\n",
        "for word, i in tokenizer.word_index.items():\n",
        "\tembedding_vector = embeddings.get(word)\n",
        "\tif embedding_vector is not None:\n",
        "\t\tembedding_matrix[i] = embedding_vector"
      ],
      "execution_count": 75,
      "outputs": []
    },
    {
      "cell_type": "code",
      "metadata": {
        "colab": {
          "base_uri": "https://localhost:8080/"
        },
        "id": "FCypdJuAt8Gc",
        "outputId": "0f1c6055-7b6f-4423-c158-cae7e4fc977e"
      },
      "source": [
        "embedding_matrix.shape"
      ],
      "execution_count": 76,
      "outputs": [
        {
          "output_type": "execute_result",
          "data": {
            "text/plain": [
              "(3213, 300)"
            ]
          },
          "metadata": {
            "tags": []
          },
          "execution_count": 76
        }
      ]
    },
    {
      "cell_type": "code",
      "metadata": {
        "colab": {
          "base_uri": "https://localhost:8080/"
        },
        "id": "XaPjYj6PwhYt",
        "outputId": "102aa7c6-1b30-4be4-c674-21c9835f9f3a"
      },
      "source": [
        "embedding_matrix[1]\n"
      ],
      "execution_count": 77,
      "outputs": [
        {
          "output_type": "execute_result",
          "data": {
            "text/plain": [
              "array([ 0.13053   , -0.11906   , -0.43076   ,  0.52701002, -0.43518001,\n",
              "       -0.091907  , -0.31525999,  0.23774   , -0.095145  , -0.14505   ,\n",
              "        0.15854   , -0.23717   , -0.35506001,  0.099615  ,  0.38429001,\n",
              "       -0.072857  , -0.45506001,  0.65009999,  0.062081  ,  0.0017903 ,\n",
              "       -0.54110003, -0.11608   ,  0.24789999,  0.31707001, -0.062319  ,\n",
              "        0.022712  ,  0.13663   , -0.45543   ,  0.46752   , -0.52217001,\n",
              "        0.62923998, -0.45091   ,  0.70539999,  0.63935   ,  0.39219999,\n",
              "       -0.035215  ,  0.038173  , -0.039306  , -0.49895   , -0.27175   ,\n",
              "        0.025864  , -0.83450001, -0.14706001,  0.11938   ,  0.029906  ,\n",
              "       -0.20898999, -0.38993001, -0.11933   , -0.25595   , -0.68156999,\n",
              "       -0.21164   , -0.026537  ,  0.3457    ,  0.016647  , -0.50885999,\n",
              "        0.031879  ,  0.22402   ,  0.17292   ,  0.015874  , -0.61616999,\n",
              "        0.14723   ,  0.30394   , -0.42519999,  0.042489  ,  0.6541    ,\n",
              "       -0.41012001, -0.11586   , -0.18581   ,  0.28195   ,  0.67527002,\n",
              "       -0.15351   , -0.60667002,  0.25483   ,  0.21713001, -0.34395999,\n",
              "       -0.42372999,  0.69356   , -0.50342   ,  0.22284999, -0.38245001,\n",
              "        0.12409   , -0.14861999,  0.62848002, -0.27737999, -0.41429001,\n",
              "       -0.36719   , -0.0098071 , -0.41474   , -0.056385  , -0.13326   ,\n",
              "       -0.40325999, -0.33236   ,  0.73672998,  0.21098   , -0.12943   ,\n",
              "        0.57053   , -0.018713  ,  0.22736999,  0.24501   ,  0.11599   ,\n",
              "        0.13665999,  0.18636   , -0.1226    ,  0.26456001, -0.52138001,\n",
              "       -0.54009002, -0.13682   ,  0.15819   ,  0.17833   , -0.0091093 ,\n",
              "       -0.41455001, -0.77702999,  0.13425   ,  0.81792998,  0.56462997,\n",
              "       -0.20209   , -0.18457   ,  0.049569  ,  0.29056999, -0.65891999,\n",
              "        0.57350999, -0.24056999, -0.19600999, -0.16071001,  0.04461   ,\n",
              "       -0.20621   , -0.30364999,  0.49066001, -0.40812999,  0.28805   ,\n",
              "       -0.70810997, -0.072944  ,  0.34209001, -0.17373   ,  0.060311  ,\n",
              "        0.18584999, -0.14814   ,  0.17499   ,  0.20767   ,  0.21111   ,\n",
              "        0.30221   ,  0.66301   ,  0.10438   , -0.64596999,  0.39537999,\n",
              "       -0.43957999, -0.3748    ,  0.34805   , -0.064193  , -0.38911   ,\n",
              "        0.38824999, -0.60197997, -0.24255   ,  0.77890998, -0.26916   ,\n",
              "       -0.31718999,  0.81072998,  0.1225    ,  0.70305997,  0.41896001,\n",
              "        0.075732  ,  0.27925   ,  0.25764999,  0.34788001,  0.10664   ,\n",
              "       -0.76661998, -0.17152999, -0.18039   , -0.03405   , -0.049316  ,\n",
              "       -0.1053    , -0.021528  ,  0.33193001,  0.016416  ,  0.43062001,\n",
              "        0.13412   , -0.61181998, -0.29688001, -0.51441997,  0.61382002,\n",
              "       -0.16832   ,  0.92281997,  0.14861999, -0.36897001,  0.18189999,\n",
              "        0.52307999, -0.14173   ,  0.84407002,  0.49272999,  0.33559   ,\n",
              "        0.62254   ,  0.23882   , -0.0030068 ,  0.32262999, -0.0080831 ,\n",
              "        0.26659   ,  0.16181   ,  0.46066001, -0.46808001,  0.61491001,\n",
              "        0.32499999,  0.47823   ,  0.24686   , -0.41415   , -0.44240999,\n",
              "        0.30886   , -0.31215   ,  0.41038999, -0.14828999, -0.96296   ,\n",
              "       -0.57165998,  0.37332001, -0.37790999,  0.46022999, -0.55716002,\n",
              "       -0.70021999, -0.30524001,  0.067412  , -0.16101   , -0.63045001,\n",
              "        0.011949  , -0.50650001, -0.48162001, -0.34195   ,  0.52693999,\n",
              "       -0.44933999, -0.038246  ,  0.068788  , -0.16789   ,  0.077908  ,\n",
              "        0.57230997,  0.62510997,  0.062638  , -0.18562999,  1.14170003,\n",
              "       -0.11228   , -0.26625001, -0.31816   ,  0.28507999, -0.03186   ,\n",
              "       -0.20603   ,  0.48855001,  0.14785001,  0.019822  ,  0.54351002,\n",
              "        0.51141   ,  0.43481001,  0.98435998,  0.31996   ,  0.43491   ,\n",
              "        0.3669    ,  0.14551   ,  0.17251   ,  0.35701999,  0.36809   ,\n",
              "        0.10517   , -0.20125   ,  0.41161001,  0.09632   , -0.80347002,\n",
              "        0.17594001, -0.48131001, -0.71335   , -0.27922001,  0.083472  ,\n",
              "       -0.22863001,  0.44843999,  0.38780999, -0.003225  ,  0.56193   ,\n",
              "        0.11847   ,  0.1696    ,  0.31691   , -0.65298998,  0.17455   ,\n",
              "        0.10528   ,  0.36949   ,  0.79422998,  0.34371001, -0.10476   ,\n",
              "        0.26480001, -0.45759001, -0.42429   ,  0.90609998,  0.40566   ,\n",
              "       -0.27279001,  0.031377  ,  0.23187999, -0.26751   ,  0.23152   ,\n",
              "        0.60288   , -0.19034   ,  0.27377   , -0.66676998,  0.1646    ,\n",
              "        0.3215    ,  0.73575997, -0.24344   , -0.24927001,  0.55822998])"
            ]
          },
          "metadata": {
            "tags": []
          },
          "execution_count": 77
        }
      ]
    },
    {
      "cell_type": "code",
      "metadata": {
        "colab": {
          "base_uri": "https://localhost:8080/"
        },
        "id": "JmB9AWR2wjSu",
        "outputId": "2f0faf4b-d5b0-4b38-e966-91b8b55739d6"
      },
      "source": [
        "### Vocabulary size\n",
        "voc_size=5000\n",
        "\n",
        "#glove and glove100 and 300,multilayer bidirectional ///\n",
        "embedding_vector_features=100\n",
        "model=Sequential()\n",
        "model.add(Embedding(max_features, embedding_size,input_length = maxlen,weights = [embedding_matrix]))\n",
        "# model.add(Embedding(voc_size,embedding_vector_features,input_length=sent_length))\n",
        "# model.add(Bidirectional(LSTM(100,return_sequences=True)))\n",
        "model.add(Bidirectional(LSTM(100)))\n",
        "# model.add(Dense(10, activation='relu'))\n",
        "model.add(Dense(5, activation='softmax'))\n",
        "# model.compile(loss='sparse_categorical_crossentropy',optimizer='adam',metrics=['accuracy'])\n",
        "model.compile(loss='categorical_crossentropy',optimizer='adam',metrics=['accuracy'])\n",
        "print(model.summary())"
      ],
      "execution_count": 78,
      "outputs": [
        {
          "output_type": "stream",
          "text": [
            "Model: \"sequential\"\n",
            "_________________________________________________________________\n",
            "Layer (type)                 Output Shape              Param #   \n",
            "=================================================================\n",
            "embedding (Embedding)        (None, 30, 300)           963900    \n",
            "_________________________________________________________________\n",
            "bidirectional (Bidirectional (None, 200)               320800    \n",
            "_________________________________________________________________\n",
            "dense (Dense)                (None, 5)                 1005      \n",
            "=================================================================\n",
            "Total params: 1,285,705\n",
            "Trainable params: 1,285,705\n",
            "Non-trainable params: 0\n",
            "_________________________________________________________________\n",
            "None\n"
          ],
          "name": "stdout"
        }
      ]
    },
    {
      "cell_type": "code",
      "metadata": {
        "colab": {
          "base_uri": "https://localhost:8080/"
        },
        "id": "B6APTxQvws0i",
        "outputId": "2299bf4e-385d-48b1-f0f6-c9c9cac280ee"
      },
      "source": [
        "\n",
        "model1 = Sequential()\n",
        "model1.add(Embedding(max_features, 300, input_length=maxlen,weights = [embedding_matrix]))\n",
        "# model1.add(LSTM(units=100, dropout=0.2, recurrent_dropout=0.2))\n",
        "# model1.add(LSTM(units=100, return_sequences=True, dropout=0.2, recurrent_dropout=0.2))\n",
        "# model1.add(Bidirectional(LSTM(150,return_sequences=True)))\n",
        "model1.add(LSTM(units=100, recurrent_dropout=0.2))\n",
        "# model1.add(Dropout(0.2))\n",
        "model1.add(Dense(50, activation='relu'))\n",
        "model1.add(Dense(5, activation='softmax'))\n",
        "model1.compile(loss='categorical_crossentropy', optimizer='adam', metrics=['accuracy'])\n",
        "print(model1.summary())"
      ],
      "execution_count": 79,
      "outputs": [
        {
          "output_type": "stream",
          "text": [
            "Model: \"sequential_1\"\n",
            "_________________________________________________________________\n",
            "Layer (type)                 Output Shape              Param #   \n",
            "=================================================================\n",
            "embedding_1 (Embedding)      (None, 30, 300)           963900    \n",
            "_________________________________________________________________\n",
            "lstm_1 (LSTM)                (None, 100)               160400    \n",
            "_________________________________________________________________\n",
            "dense_1 (Dense)              (None, 50)                5050      \n",
            "_________________________________________________________________\n",
            "dense_2 (Dense)              (None, 5)                 255       \n",
            "=================================================================\n",
            "Total params: 1,129,605\n",
            "Trainable params: 1,129,605\n",
            "Non-trainable params: 0\n",
            "_________________________________________________________________\n",
            "None\n"
          ],
          "name": "stdout"
        }
      ]
    },
    {
      "cell_type": "code",
      "metadata": {
        "id": "6lWp_SLvwvoO"
      },
      "source": [
        "y_acc=industrial_safety_df['Accident Level']"
      ],
      "execution_count": 80,
      "outputs": []
    },
    {
      "cell_type": "code",
      "metadata": {
        "colab": {
          "base_uri": "https://localhost:8080/"
        },
        "id": "k73OB_FnwyjO",
        "outputId": "8c552688-e154-4ad7-e71c-be715d875c49"
      },
      "source": [
        "y_acc"
      ],
      "execution_count": 81,
      "outputs": [
        {
          "output_type": "execute_result",
          "data": {
            "text/plain": [
              "0       I\n",
              "1       I\n",
              "2       I\n",
              "3       I\n",
              "4      IV\n",
              "       ..\n",
              "420     I\n",
              "421     I\n",
              "422     I\n",
              "423     I\n",
              "424     I\n",
              "Name: Accident Level, Length: 425, dtype: object"
            ]
          },
          "metadata": {
            "tags": []
          },
          "execution_count": 81
        }
      ]
    },
    {
      "cell_type": "code",
      "metadata": {
        "id": "WdDEZabhwz_g"
      },
      "source": [
        "from sklearn.preprocessing import LabelEncoder\n",
        "encoder = LabelEncoder()\n",
        "encoder.fit(y_acc)\n",
        "encoded_Y= encoder.transform(y_acc)"
      ],
      "execution_count": 82,
      "outputs": []
    },
    {
      "cell_type": "code",
      "metadata": {
        "colab": {
          "base_uri": "https://localhost:8080/"
        },
        "id": "GkVZwo-Kw4cs",
        "outputId": "a8944dd4-4f27-4ce5-c052-b1de5946a4a5"
      },
      "source": [
        "encoded_Y.shape"
      ],
      "execution_count": 83,
      "outputs": [
        {
          "output_type": "execute_result",
          "data": {
            "text/plain": [
              "(425,)"
            ]
          },
          "metadata": {
            "tags": []
          },
          "execution_count": 83
        }
      ]
    },
    {
      "cell_type": "code",
      "metadata": {
        "colab": {
          "base_uri": "https://localhost:8080/"
        },
        "id": "gOSO2b4Cw56A",
        "outputId": "1cd50d57-7a19-4d6b-84a4-e394b6c8f181"
      },
      "source": [
        "encoded_Y"
      ],
      "execution_count": 84,
      "outputs": [
        {
          "output_type": "execute_result",
          "data": {
            "text/plain": [
              "array([0, 0, 0, 0, 3, 0, 0, 0, 0, 0, 0, 0, 0, 3, 0, 0, 2, 0, 0, 0, 0, 0,\n",
              "       1, 1, 0, 0, 0, 0, 0, 1, 0, 0, 2, 4, 0, 0, 0, 0, 0, 0, 1, 0, 0, 0,\n",
              "       0, 0, 0, 0, 0, 2, 0, 2, 0, 0, 2, 1, 0, 0, 0, 0, 1, 3, 0, 0, 0, 0,\n",
              "       0, 3, 0, 1, 0, 0, 0, 0, 2, 0, 0, 0, 1, 3, 0, 0, 2, 0, 0, 0, 0, 0,\n",
              "       0, 0, 0, 0, 0, 0, 0, 0, 0, 0, 0, 1, 0, 0, 2, 0, 0, 3, 0, 0, 0, 1,\n",
              "       0, 0, 0, 0, 0, 0, 0, 0, 0, 0, 0, 0, 0, 0, 0, 3, 0, 1, 0, 0, 0, 0,\n",
              "       0, 0, 0, 4, 1, 0, 0, 0, 0, 0, 3, 0, 0, 0, 0, 0, 0, 0, 0, 0, 0, 0,\n",
              "       3, 3, 0, 0, 0, 0, 0, 0, 4, 2, 0, 0, 3, 0, 2, 2, 3, 2, 0, 0, 0, 0,\n",
              "       0, 0, 0, 1, 0, 0, 0, 1, 0, 1, 0, 3, 0, 2, 2, 0, 0, 0, 0, 0, 0, 0,\n",
              "       0, 0, 0, 1, 0, 1, 0, 0, 2, 3, 0, 0, 0, 0, 2, 0, 0, 0, 1, 0, 0, 0,\n",
              "       0, 1, 0, 0, 0, 0, 0, 1, 0, 0, 0, 0, 2, 1, 0, 2, 0, 1, 2, 3, 0, 0,\n",
              "       1, 0, 2, 0, 0, 3, 3, 0, 0, 3, 0, 2, 0, 0, 0, 0, 0, 1, 0, 0, 0, 0,\n",
              "       0, 0, 1, 0, 0, 0, 2, 0, 0, 0, 2, 0, 0, 1, 0, 0, 0, 0, 0, 3, 2, 0,\n",
              "       0, 0, 0, 0, 2, 1, 0, 0, 0, 0, 0, 0, 0, 2, 3, 0, 0, 0, 0, 0, 0, 4,\n",
              "       1, 0, 0, 0, 0, 0, 0, 0, 0, 1, 1, 0, 0, 1, 0, 3, 0, 1, 0, 2, 3, 0,\n",
              "       0, 0, 0, 0, 3, 0, 3, 0, 0, 0, 0, 1, 2, 0, 0, 0, 0, 0, 0, 0, 0, 4,\n",
              "       0, 1, 0, 0, 1, 4, 4, 1, 0, 0, 0, 0, 0, 0, 0, 0, 0, 0, 0, 0, 0, 0,\n",
              "       0, 0, 0, 0, 0, 3, 3, 0, 0, 1, 0, 0, 2, 3, 1, 4, 0, 3, 0, 0, 3, 0,\n",
              "       0, 0, 0, 0, 0, 0, 0, 0, 0, 0, 0, 2, 0, 1, 3, 1, 0, 0, 0, 0, 2, 0,\n",
              "       0, 0, 0, 0, 0, 0, 0])"
            ]
          },
          "metadata": {
            "tags": []
          },
          "execution_count": 84
        }
      ]
    },
    {
      "cell_type": "code",
      "metadata": {
        "id": "-RCsNMzxw7M9"
      },
      "source": [
        "from keras.utils import np_utils\n",
        "dummy_y= np_utils.to_categorical(encoded_Y)\n",
        "import numpy as np\n",
        "X_acc=np.array(X)\n",
        "from sklearn.model_selection import train_test_split\n",
        "X_train, X_test, y_train, y_test = train_test_split(X_acc, dummy_y, test_size=0.33, random_state=42,shuffle=True)"
      ],
      "execution_count": 85,
      "outputs": []
    },
    {
      "cell_type": "code",
      "metadata": {
        "colab": {
          "base_uri": "https://localhost:8080/"
        },
        "id": "yzoQO-qUxFZl",
        "outputId": "bfd9303b-cea6-4451-cf83-f93f6aefaa61"
      },
      "source": [
        "model.fit(X_train,y_train,validation_data=(X_test,y_test),epochs=150,batch_size=30)"
      ],
      "execution_count": 86,
      "outputs": [
        {
          "output_type": "stream",
          "text": [
            "Epoch 1/150\n",
            "10/10 [==============================] - 6s 226ms/step - loss: 1.3667 - accuracy: 0.5005 - val_loss: 0.8513 - val_accuracy: 0.7801\n",
            "Epoch 2/150\n",
            "10/10 [==============================] - 1s 121ms/step - loss: 0.8975 - accuracy: 0.7153 - val_loss: 0.8724 - val_accuracy: 0.7801\n",
            "Epoch 3/150\n",
            "10/10 [==============================] - 1s 114ms/step - loss: 0.7219 - accuracy: 0.7531 - val_loss: 0.8559 - val_accuracy: 0.7801\n",
            "Epoch 4/150\n",
            "10/10 [==============================] - 1s 113ms/step - loss: 0.5982 - accuracy: 0.7867 - val_loss: 0.8455 - val_accuracy: 0.7660\n",
            "Epoch 5/150\n",
            "10/10 [==============================] - 1s 114ms/step - loss: 0.4927 - accuracy: 0.8192 - val_loss: 0.8892 - val_accuracy: 0.7163\n",
            "Epoch 6/150\n",
            "10/10 [==============================] - 1s 114ms/step - loss: 0.3540 - accuracy: 0.9020 - val_loss: 0.8446 - val_accuracy: 0.7518\n",
            "Epoch 7/150\n",
            "10/10 [==============================] - 1s 113ms/step - loss: 0.1601 - accuracy: 0.9625 - val_loss: 0.9146 - val_accuracy: 0.7234\n",
            "Epoch 8/150\n",
            "10/10 [==============================] - 1s 115ms/step - loss: 0.0946 - accuracy: 0.9731 - val_loss: 1.0519 - val_accuracy: 0.6950\n",
            "Epoch 9/150\n",
            "10/10 [==============================] - 1s 114ms/step - loss: 0.0814 - accuracy: 0.9791 - val_loss: 1.0350 - val_accuracy: 0.7163\n",
            "Epoch 10/150\n",
            "10/10 [==============================] - 1s 113ms/step - loss: 0.0405 - accuracy: 0.9935 - val_loss: 1.1157 - val_accuracy: 0.6809\n",
            "Epoch 11/150\n",
            "10/10 [==============================] - 1s 117ms/step - loss: 0.0338 - accuracy: 0.9931 - val_loss: 1.2315 - val_accuracy: 0.7518\n",
            "Epoch 12/150\n",
            "10/10 [==============================] - 1s 114ms/step - loss: 0.0293 - accuracy: 0.9942 - val_loss: 1.1585 - val_accuracy: 0.7092\n",
            "Epoch 13/150\n",
            "10/10 [==============================] - 1s 116ms/step - loss: 0.0262 - accuracy: 0.9892 - val_loss: 1.2775 - val_accuracy: 0.7589\n",
            "Epoch 14/150\n",
            "10/10 [==============================] - 1s 113ms/step - loss: 0.0554 - accuracy: 0.9817 - val_loss: 1.3323 - val_accuracy: 0.7518\n",
            "Epoch 15/150\n",
            "10/10 [==============================] - 1s 114ms/step - loss: 0.0160 - accuracy: 0.9885 - val_loss: 1.2136 - val_accuracy: 0.6738\n",
            "Epoch 16/150\n",
            "10/10 [==============================] - 1s 113ms/step - loss: 0.0265 - accuracy: 0.9887 - val_loss: 1.3831 - val_accuracy: 0.7518\n",
            "Epoch 17/150\n",
            "10/10 [==============================] - 1s 114ms/step - loss: 0.0376 - accuracy: 0.9842 - val_loss: 1.1837 - val_accuracy: 0.6454\n",
            "Epoch 18/150\n",
            "10/10 [==============================] - 1s 112ms/step - loss: 0.0318 - accuracy: 0.9819 - val_loss: 1.1593 - val_accuracy: 0.7163\n",
            "Epoch 19/150\n",
            "10/10 [==============================] - 1s 115ms/step - loss: 0.0181 - accuracy: 0.9938 - val_loss: 1.2925 - val_accuracy: 0.7376\n",
            "Epoch 20/150\n",
            "10/10 [==============================] - 1s 118ms/step - loss: 0.0199 - accuracy: 0.9855 - val_loss: 1.3388 - val_accuracy: 0.7092\n",
            "Epoch 21/150\n",
            "10/10 [==============================] - 1s 114ms/step - loss: 0.0132 - accuracy: 0.9899 - val_loss: 1.3787 - val_accuracy: 0.7234\n",
            "Epoch 22/150\n",
            "10/10 [==============================] - 1s 113ms/step - loss: 0.0226 - accuracy: 0.9865 - val_loss: 1.4183 - val_accuracy: 0.7447\n",
            "Epoch 23/150\n",
            "10/10 [==============================] - 1s 114ms/step - loss: 0.0215 - accuracy: 0.9863 - val_loss: 1.4219 - val_accuracy: 0.7305\n",
            "Epoch 24/150\n",
            "10/10 [==============================] - 1s 113ms/step - loss: 0.0088 - accuracy: 0.9958 - val_loss: 1.4303 - val_accuracy: 0.7305\n",
            "Epoch 25/150\n",
            "10/10 [==============================] - 1s 114ms/step - loss: 0.0273 - accuracy: 0.9869 - val_loss: 1.4177 - val_accuracy: 0.7163\n",
            "Epoch 26/150\n",
            "10/10 [==============================] - 1s 116ms/step - loss: 0.0124 - accuracy: 0.9935 - val_loss: 1.4470 - val_accuracy: 0.7447\n",
            "Epoch 27/150\n",
            "10/10 [==============================] - 1s 114ms/step - loss: 0.0129 - accuracy: 0.9908 - val_loss: 1.4634 - val_accuracy: 0.7376\n",
            "Epoch 28/150\n",
            "10/10 [==============================] - 1s 113ms/step - loss: 0.0194 - accuracy: 0.9857 - val_loss: 1.4992 - val_accuracy: 0.7589\n",
            "Epoch 29/150\n",
            "10/10 [==============================] - 1s 115ms/step - loss: 0.0091 - accuracy: 0.9963 - val_loss: 1.4174 - val_accuracy: 0.7092\n",
            "Epoch 30/150\n",
            "10/10 [==============================] - 1s 117ms/step - loss: 0.0118 - accuracy: 0.9913 - val_loss: 1.4306 - val_accuracy: 0.7234\n",
            "Epoch 31/150\n",
            "10/10 [==============================] - 1s 114ms/step - loss: 0.0135 - accuracy: 0.9946 - val_loss: 1.4748 - val_accuracy: 0.7305\n",
            "Epoch 32/150\n",
            "10/10 [==============================] - 1s 115ms/step - loss: 0.0194 - accuracy: 0.9844 - val_loss: 1.5065 - val_accuracy: 0.7305\n",
            "Epoch 33/150\n",
            "10/10 [==============================] - 1s 116ms/step - loss: 0.0125 - accuracy: 0.9928 - val_loss: 1.5236 - val_accuracy: 0.7305\n",
            "Epoch 34/150\n",
            "10/10 [==============================] - 1s 116ms/step - loss: 0.0176 - accuracy: 0.9853 - val_loss: 1.5382 - val_accuracy: 0.7234\n",
            "Epoch 35/150\n",
            "10/10 [==============================] - 1s 113ms/step - loss: 0.0161 - accuracy: 0.9948 - val_loss: 1.5586 - val_accuracy: 0.7305\n",
            "Epoch 36/150\n",
            "10/10 [==============================] - 1s 118ms/step - loss: 0.0131 - accuracy: 0.9912 - val_loss: 1.5598 - val_accuracy: 0.7447\n",
            "Epoch 37/150\n",
            "10/10 [==============================] - 1s 116ms/step - loss: 0.0230 - accuracy: 0.9858 - val_loss: 1.5341 - val_accuracy: 0.7234\n",
            "Epoch 38/150\n",
            "10/10 [==============================] - 1s 113ms/step - loss: 0.0249 - accuracy: 0.9832 - val_loss: 1.5496 - val_accuracy: 0.7234\n",
            "Epoch 39/150\n",
            "10/10 [==============================] - 1s 118ms/step - loss: 0.0259 - accuracy: 0.9874 - val_loss: 1.5774 - val_accuracy: 0.7447\n",
            "Epoch 40/150\n",
            "10/10 [==============================] - 1s 113ms/step - loss: 0.0118 - accuracy: 0.9963 - val_loss: 1.5891 - val_accuracy: 0.7447\n",
            "Epoch 41/150\n",
            "10/10 [==============================] - 1s 116ms/step - loss: 0.0154 - accuracy: 0.9915 - val_loss: 1.5892 - val_accuracy: 0.7447\n",
            "Epoch 42/150\n",
            "10/10 [==============================] - 1s 114ms/step - loss: 0.0142 - accuracy: 0.9905 - val_loss: 1.5954 - val_accuracy: 0.7447\n",
            "Epoch 43/150\n",
            "10/10 [==============================] - 1s 117ms/step - loss: 0.0088 - accuracy: 0.9947 - val_loss: 1.6038 - val_accuracy: 0.7447\n",
            "Epoch 44/150\n",
            "10/10 [==============================] - 1s 114ms/step - loss: 0.0116 - accuracy: 0.9922 - val_loss: 1.6033 - val_accuracy: 0.7447\n",
            "Epoch 45/150\n",
            "10/10 [==============================] - 1s 117ms/step - loss: 0.0123 - accuracy: 0.9924 - val_loss: 1.6120 - val_accuracy: 0.7447\n",
            "Epoch 46/150\n",
            "10/10 [==============================] - 1s 116ms/step - loss: 0.0214 - accuracy: 0.9902 - val_loss: 1.6219 - val_accuracy: 0.7447\n",
            "Epoch 47/150\n",
            "10/10 [==============================] - 1s 116ms/step - loss: 0.0203 - accuracy: 0.9847 - val_loss: 1.6109 - val_accuracy: 0.7305\n",
            "Epoch 48/150\n",
            "10/10 [==============================] - 1s 120ms/step - loss: 0.0212 - accuracy: 0.9805 - val_loss: 1.6265 - val_accuracy: 0.7447\n",
            "Epoch 49/150\n",
            "10/10 [==============================] - 1s 114ms/step - loss: 0.0156 - accuracy: 0.9863 - val_loss: 1.6204 - val_accuracy: 0.7447\n",
            "Epoch 50/150\n",
            "10/10 [==============================] - 1s 116ms/step - loss: 0.0247 - accuracy: 0.9741 - val_loss: 1.6360 - val_accuracy: 0.7447\n",
            "Epoch 51/150\n",
            "10/10 [==============================] - 1s 113ms/step - loss: 0.0123 - accuracy: 0.9949 - val_loss: 1.6410 - val_accuracy: 0.7447\n",
            "Epoch 52/150\n",
            "10/10 [==============================] - 1s 115ms/step - loss: 0.0132 - accuracy: 0.9870 - val_loss: 1.6417 - val_accuracy: 0.7447\n",
            "Epoch 53/150\n",
            "10/10 [==============================] - 1s 114ms/step - loss: 0.0134 - accuracy: 0.9841 - val_loss: 1.6538 - val_accuracy: 0.7447\n",
            "Epoch 54/150\n",
            "10/10 [==============================] - 1s 115ms/step - loss: 0.0099 - accuracy: 0.9903 - val_loss: 1.6291 - val_accuracy: 0.7163\n",
            "Epoch 55/150\n",
            "10/10 [==============================] - 1s 114ms/step - loss: 0.0151 - accuracy: 0.9870 - val_loss: 1.6370 - val_accuracy: 0.7305\n",
            "Epoch 56/150\n",
            "10/10 [==============================] - 1s 117ms/step - loss: 0.0131 - accuracy: 0.9954 - val_loss: 1.6505 - val_accuracy: 0.7376\n",
            "Epoch 57/150\n",
            "10/10 [==============================] - 1s 114ms/step - loss: 0.0106 - accuracy: 0.9899 - val_loss: 1.6678 - val_accuracy: 0.7447\n",
            "Epoch 58/150\n",
            "10/10 [==============================] - 1s 117ms/step - loss: 0.0206 - accuracy: 0.9856 - val_loss: 1.6570 - val_accuracy: 0.7447\n",
            "Epoch 59/150\n",
            "10/10 [==============================] - 1s 114ms/step - loss: 0.0232 - accuracy: 0.9785 - val_loss: 1.6665 - val_accuracy: 0.7447\n",
            "Epoch 60/150\n",
            "10/10 [==============================] - 1s 116ms/step - loss: 0.0180 - accuracy: 0.9822 - val_loss: 1.6738 - val_accuracy: 0.7447\n",
            "Epoch 61/150\n",
            "10/10 [==============================] - 1s 117ms/step - loss: 0.0195 - accuracy: 0.9793 - val_loss: 1.6634 - val_accuracy: 0.7376\n",
            "Epoch 62/150\n",
            "10/10 [==============================] - 1s 115ms/step - loss: 0.0174 - accuracy: 0.9890 - val_loss: 1.6653 - val_accuracy: 0.7376\n",
            "Epoch 63/150\n",
            "10/10 [==============================] - 1s 114ms/step - loss: 0.0242 - accuracy: 0.9888 - val_loss: 1.6789 - val_accuracy: 0.7376\n",
            "Epoch 64/150\n",
            "10/10 [==============================] - 1s 117ms/step - loss: 0.0195 - accuracy: 0.9858 - val_loss: 1.7028 - val_accuracy: 0.7376\n",
            "Epoch 65/150\n",
            "10/10 [==============================] - 1s 116ms/step - loss: 0.0115 - accuracy: 0.9915 - val_loss: 1.7179 - val_accuracy: 0.7447\n",
            "Epoch 66/150\n",
            "10/10 [==============================] - 1s 116ms/step - loss: 0.0295 - accuracy: 0.9822 - val_loss: 1.6680 - val_accuracy: 0.7376\n",
            "Epoch 67/150\n",
            "10/10 [==============================] - 1s 118ms/step - loss: 0.0125 - accuracy: 0.9930 - val_loss: 1.6599 - val_accuracy: 0.7163\n",
            "Epoch 68/150\n",
            "10/10 [==============================] - 1s 117ms/step - loss: 0.0211 - accuracy: 0.9863 - val_loss: 1.6713 - val_accuracy: 0.7163\n",
            "Epoch 69/150\n",
            "10/10 [==============================] - 1s 116ms/step - loss: 0.0202 - accuracy: 0.9897 - val_loss: 1.6903 - val_accuracy: 0.7376\n",
            "Epoch 70/150\n",
            "10/10 [==============================] - 1s 115ms/step - loss: 0.0328 - accuracy: 0.9697 - val_loss: 1.7074 - val_accuracy: 0.7447\n",
            "Epoch 71/150\n",
            "10/10 [==============================] - 1s 119ms/step - loss: 0.0108 - accuracy: 0.9912 - val_loss: 1.7095 - val_accuracy: 0.7447\n",
            "Epoch 72/150\n",
            "10/10 [==============================] - 1s 114ms/step - loss: 0.0196 - accuracy: 0.9804 - val_loss: 1.7060 - val_accuracy: 0.7376\n",
            "Epoch 73/150\n",
            "10/10 [==============================] - 1s 118ms/step - loss: 0.0098 - accuracy: 0.9891 - val_loss: 1.7066 - val_accuracy: 0.7376\n",
            "Epoch 74/150\n",
            "10/10 [==============================] - 1s 115ms/step - loss: 0.0110 - accuracy: 0.9866 - val_loss: 1.7110 - val_accuracy: 0.7305\n",
            "Epoch 75/150\n",
            "10/10 [==============================] - 1s 115ms/step - loss: 0.0137 - accuracy: 0.9856 - val_loss: 1.7152 - val_accuracy: 0.7305\n",
            "Epoch 76/150\n",
            "10/10 [==============================] - 1s 120ms/step - loss: 0.0162 - accuracy: 0.9826 - val_loss: 1.7274 - val_accuracy: 0.7376\n",
            "Epoch 77/150\n",
            "10/10 [==============================] - 1s 115ms/step - loss: 0.0205 - accuracy: 0.9743 - val_loss: 1.7294 - val_accuracy: 0.7376\n",
            "Epoch 78/150\n",
            "10/10 [==============================] - 1s 116ms/step - loss: 0.0180 - accuracy: 0.9860 - val_loss: 1.7368 - val_accuracy: 0.7376\n",
            "Epoch 79/150\n",
            "10/10 [==============================] - 1s 117ms/step - loss: 0.0207 - accuracy: 0.9832 - val_loss: 1.7336 - val_accuracy: 0.7305\n",
            "Epoch 80/150\n",
            "10/10 [==============================] - 1s 115ms/step - loss: 0.0106 - accuracy: 0.9962 - val_loss: 1.7424 - val_accuracy: 0.7376\n",
            "Epoch 81/150\n",
            "10/10 [==============================] - 1s 115ms/step - loss: 0.0182 - accuracy: 0.9792 - val_loss: 1.7504 - val_accuracy: 0.7376\n",
            "Epoch 82/150\n",
            "10/10 [==============================] - 1s 116ms/step - loss: 0.0128 - accuracy: 0.9895 - val_loss: 1.7450 - val_accuracy: 0.7376\n",
            "Epoch 83/150\n",
            "10/10 [==============================] - 1s 114ms/step - loss: 0.0225 - accuracy: 0.9885 - val_loss: 1.7346 - val_accuracy: 0.7376\n",
            "Epoch 84/150\n",
            "10/10 [==============================] - 1s 118ms/step - loss: 0.0202 - accuracy: 0.9824 - val_loss: 1.7530 - val_accuracy: 0.7376\n",
            "Epoch 85/150\n",
            "10/10 [==============================] - 1s 117ms/step - loss: 0.0103 - accuracy: 0.9926 - val_loss: 1.7592 - val_accuracy: 0.7376\n",
            "Epoch 86/150\n",
            "10/10 [==============================] - 1s 116ms/step - loss: 0.0157 - accuracy: 0.9872 - val_loss: 1.7594 - val_accuracy: 0.7376\n",
            "Epoch 87/150\n",
            "10/10 [==============================] - 1s 114ms/step - loss: 0.0218 - accuracy: 0.9817 - val_loss: 1.7617 - val_accuracy: 0.7376\n",
            "Epoch 88/150\n",
            "10/10 [==============================] - 1s 117ms/step - loss: 0.0084 - accuracy: 0.9958 - val_loss: 1.7612 - val_accuracy: 0.7376\n",
            "Epoch 89/150\n",
            "10/10 [==============================] - 1s 116ms/step - loss: 0.0109 - accuracy: 0.9937 - val_loss: 1.7721 - val_accuracy: 0.7447\n",
            "Epoch 90/150\n",
            "10/10 [==============================] - 1s 115ms/step - loss: 0.0188 - accuracy: 0.9851 - val_loss: 1.7672 - val_accuracy: 0.7376\n",
            "Epoch 91/150\n",
            "10/10 [==============================] - 1s 116ms/step - loss: 0.0123 - accuracy: 0.9904 - val_loss: 1.7626 - val_accuracy: 0.7376\n",
            "Epoch 92/150\n",
            "10/10 [==============================] - 1s 115ms/step - loss: 0.0135 - accuracy: 0.9918 - val_loss: 1.7772 - val_accuracy: 0.7376\n",
            "Epoch 93/150\n",
            "10/10 [==============================] - 1s 115ms/step - loss: 0.0283 - accuracy: 0.9750 - val_loss: 1.7854 - val_accuracy: 0.7376\n",
            "Epoch 94/150\n",
            "10/10 [==============================] - 1s 116ms/step - loss: 0.0161 - accuracy: 0.9959 - val_loss: 1.7839 - val_accuracy: 0.7305\n",
            "Epoch 95/150\n",
            "10/10 [==============================] - 1s 118ms/step - loss: 0.0128 - accuracy: 0.9930 - val_loss: 1.7937 - val_accuracy: 0.7376\n",
            "Epoch 96/150\n",
            "10/10 [==============================] - 1s 114ms/step - loss: 0.0174 - accuracy: 0.9833 - val_loss: 1.7929 - val_accuracy: 0.7376\n",
            "Epoch 97/150\n",
            "10/10 [==============================] - 1s 114ms/step - loss: 0.0237 - accuracy: 0.9773 - val_loss: 1.7956 - val_accuracy: 0.7376\n",
            "Epoch 98/150\n",
            "10/10 [==============================] - 1s 115ms/step - loss: 0.0125 - accuracy: 0.9936 - val_loss: 1.8018 - val_accuracy: 0.7376\n",
            "Epoch 99/150\n",
            "10/10 [==============================] - 1s 115ms/step - loss: 0.0114 - accuracy: 0.9974 - val_loss: 1.8052 - val_accuracy: 0.7376\n",
            "Epoch 100/150\n",
            "10/10 [==============================] - 1s 117ms/step - loss: 0.0109 - accuracy: 0.9918 - val_loss: 1.8037 - val_accuracy: 0.7447\n",
            "Epoch 101/150\n",
            "10/10 [==============================] - 1s 117ms/step - loss: 0.0196 - accuracy: 0.9842 - val_loss: 1.8004 - val_accuracy: 0.7376\n",
            "Epoch 102/150\n",
            "10/10 [==============================] - 1s 116ms/step - loss: 0.0185 - accuracy: 0.9782 - val_loss: 1.7846 - val_accuracy: 0.7376\n",
            "Epoch 103/150\n",
            "10/10 [==============================] - 1s 116ms/step - loss: 0.0164 - accuracy: 0.9907 - val_loss: 1.8079 - val_accuracy: 0.7447\n",
            "Epoch 104/150\n",
            "10/10 [==============================] - 1s 119ms/step - loss: 0.0127 - accuracy: 0.9918 - val_loss: 1.8139 - val_accuracy: 0.7447\n",
            "Epoch 105/150\n",
            "10/10 [==============================] - 1s 115ms/step - loss: 0.0080 - accuracy: 0.9950 - val_loss: 1.8067 - val_accuracy: 0.7447\n",
            "Epoch 106/150\n",
            "10/10 [==============================] - 1s 114ms/step - loss: 0.0098 - accuracy: 0.9903 - val_loss: 1.8071 - val_accuracy: 0.7376\n",
            "Epoch 107/150\n",
            "10/10 [==============================] - 1s 115ms/step - loss: 0.0169 - accuracy: 0.9892 - val_loss: 1.8212 - val_accuracy: 0.7447\n",
            "Epoch 108/150\n",
            "10/10 [==============================] - 1s 116ms/step - loss: 0.0115 - accuracy: 0.9932 - val_loss: 1.8205 - val_accuracy: 0.7447\n",
            "Epoch 109/150\n",
            "10/10 [==============================] - 1s 117ms/step - loss: 0.0158 - accuracy: 0.9917 - val_loss: 1.8124 - val_accuracy: 0.7376\n",
            "Epoch 110/150\n",
            "10/10 [==============================] - 1s 117ms/step - loss: 0.0114 - accuracy: 0.9901 - val_loss: 1.8151 - val_accuracy: 0.7376\n",
            "Epoch 111/150\n",
            "10/10 [==============================] - 1s 115ms/step - loss: 0.0091 - accuracy: 0.9899 - val_loss: 1.8176 - val_accuracy: 0.7376\n",
            "Epoch 112/150\n",
            "10/10 [==============================] - 1s 116ms/step - loss: 0.0173 - accuracy: 0.9880 - val_loss: 1.8228 - val_accuracy: 0.7376\n",
            "Epoch 113/150\n",
            "10/10 [==============================] - 1s 113ms/step - loss: 0.0186 - accuracy: 0.9798 - val_loss: 1.8246 - val_accuracy: 0.7376\n",
            "Epoch 114/150\n",
            "10/10 [==============================] - 1s 119ms/step - loss: 0.0129 - accuracy: 0.9924 - val_loss: 1.8326 - val_accuracy: 0.7376\n",
            "Epoch 115/150\n",
            "10/10 [==============================] - 1s 116ms/step - loss: 0.0113 - accuracy: 0.9946 - val_loss: 1.8293 - val_accuracy: 0.7376\n",
            "Epoch 116/150\n",
            "10/10 [==============================] - 1s 119ms/step - loss: 0.0152 - accuracy: 0.9878 - val_loss: 1.8343 - val_accuracy: 0.7376\n",
            "Epoch 117/150\n",
            "10/10 [==============================] - 1s 116ms/step - loss: 0.0158 - accuracy: 0.9922 - val_loss: 1.8424 - val_accuracy: 0.7376\n",
            "Epoch 118/150\n",
            "10/10 [==============================] - 1s 117ms/step - loss: 0.0168 - accuracy: 0.9886 - val_loss: 1.8498 - val_accuracy: 0.7376\n",
            "Epoch 119/150\n",
            "10/10 [==============================] - 1s 119ms/step - loss: 0.0092 - accuracy: 0.9961 - val_loss: 1.8524 - val_accuracy: 0.7447\n",
            "Epoch 120/150\n",
            "10/10 [==============================] - 1s 117ms/step - loss: 0.0195 - accuracy: 0.9803 - val_loss: 1.8556 - val_accuracy: 0.7447\n",
            "Epoch 121/150\n",
            "10/10 [==============================] - 1s 118ms/step - loss: 0.0147 - accuracy: 0.9911 - val_loss: 1.8440 - val_accuracy: 0.7376\n",
            "Epoch 122/150\n",
            "10/10 [==============================] - 1s 119ms/step - loss: 0.0140 - accuracy: 0.9882 - val_loss: 1.8477 - val_accuracy: 0.7376\n",
            "Epoch 123/150\n",
            "10/10 [==============================] - 1s 118ms/step - loss: 0.0237 - accuracy: 0.9802 - val_loss: 1.8566 - val_accuracy: 0.7376\n",
            "Epoch 124/150\n",
            "10/10 [==============================] - 1s 117ms/step - loss: 0.0134 - accuracy: 0.9917 - val_loss: 1.8626 - val_accuracy: 0.7376\n",
            "Epoch 125/150\n",
            "10/10 [==============================] - 1s 118ms/step - loss: 0.0073 - accuracy: 0.9932 - val_loss: 1.8672 - val_accuracy: 0.7376\n",
            "Epoch 126/150\n",
            "10/10 [==============================] - 1s 117ms/step - loss: 0.0185 - accuracy: 0.9882 - val_loss: 1.8742 - val_accuracy: 0.7376\n",
            "Epoch 127/150\n",
            "10/10 [==============================] - 1s 116ms/step - loss: 0.0169 - accuracy: 0.9892 - val_loss: 1.8658 - val_accuracy: 0.7376\n",
            "Epoch 128/150\n",
            "10/10 [==============================] - 1s 114ms/step - loss: 0.0081 - accuracy: 0.9911 - val_loss: 1.8675 - val_accuracy: 0.7376\n",
            "Epoch 129/150\n",
            "10/10 [==============================] - 1s 113ms/step - loss: 0.0161 - accuracy: 0.9805 - val_loss: 1.8714 - val_accuracy: 0.7376\n",
            "Epoch 130/150\n",
            "10/10 [==============================] - 1s 115ms/step - loss: 0.0107 - accuracy: 0.9951 - val_loss: 1.8785 - val_accuracy: 0.7376\n",
            "Epoch 131/150\n",
            "10/10 [==============================] - 1s 116ms/step - loss: 0.0177 - accuracy: 0.9923 - val_loss: 1.8837 - val_accuracy: 0.7376\n",
            "Epoch 132/150\n",
            "10/10 [==============================] - 1s 118ms/step - loss: 0.0120 - accuracy: 0.9905 - val_loss: 1.8852 - val_accuracy: 0.7376\n",
            "Epoch 133/150\n",
            "10/10 [==============================] - 1s 118ms/step - loss: 0.0114 - accuracy: 0.9892 - val_loss: 1.8882 - val_accuracy: 0.7376\n",
            "Epoch 134/150\n",
            "10/10 [==============================] - 1s 118ms/step - loss: 0.0179 - accuracy: 0.9852 - val_loss: 1.8888 - val_accuracy: 0.7376\n",
            "Epoch 135/150\n",
            "10/10 [==============================] - 1s 116ms/step - loss: 0.0174 - accuracy: 0.9884 - val_loss: 1.8818 - val_accuracy: 0.7376\n",
            "Epoch 136/150\n",
            "10/10 [==============================] - 1s 118ms/step - loss: 0.0180 - accuracy: 0.9805 - val_loss: 1.8878 - val_accuracy: 0.7447\n",
            "Epoch 137/150\n",
            "10/10 [==============================] - 1s 116ms/step - loss: 0.0087 - accuracy: 0.9913 - val_loss: 1.8828 - val_accuracy: 0.7376\n",
            "Epoch 138/150\n",
            "10/10 [==============================] - 1s 116ms/step - loss: 0.0151 - accuracy: 0.9895 - val_loss: 1.8913 - val_accuracy: 0.7376\n",
            "Epoch 139/150\n",
            "10/10 [==============================] - 1s 117ms/step - loss: 0.0161 - accuracy: 0.9890 - val_loss: 1.8924 - val_accuracy: 0.7376\n",
            "Epoch 140/150\n",
            "10/10 [==============================] - 1s 115ms/step - loss: 0.0112 - accuracy: 0.9912 - val_loss: 1.9018 - val_accuracy: 0.7447\n",
            "Epoch 141/150\n",
            "10/10 [==============================] - 1s 119ms/step - loss: 0.0162 - accuracy: 0.9829 - val_loss: 1.9060 - val_accuracy: 0.7518\n",
            "Epoch 142/150\n",
            "10/10 [==============================] - 1s 117ms/step - loss: 0.0259 - accuracy: 0.9811 - val_loss: 1.8904 - val_accuracy: 0.7376\n",
            "Epoch 143/150\n",
            "10/10 [==============================] - 1s 117ms/step - loss: 0.0110 - accuracy: 0.9905 - val_loss: 1.8811 - val_accuracy: 0.7376\n",
            "Epoch 144/150\n",
            "10/10 [==============================] - 1s 115ms/step - loss: 0.0080 - accuracy: 0.9932 - val_loss: 1.8924 - val_accuracy: 0.7447\n",
            "Epoch 145/150\n",
            "10/10 [==============================] - 1s 116ms/step - loss: 0.0140 - accuracy: 0.9889 - val_loss: 1.9030 - val_accuracy: 0.7447\n",
            "Epoch 146/150\n",
            "10/10 [==============================] - 1s 118ms/step - loss: 0.0228 - accuracy: 0.9807 - val_loss: 1.8966 - val_accuracy: 0.7376\n",
            "Epoch 147/150\n",
            "10/10 [==============================] - 1s 117ms/step - loss: 0.0127 - accuracy: 0.9966 - val_loss: 1.8979 - val_accuracy: 0.7376\n",
            "Epoch 148/150\n",
            "10/10 [==============================] - 1s 116ms/step - loss: 0.0123 - accuracy: 0.9967 - val_loss: 1.8964 - val_accuracy: 0.7376\n",
            "Epoch 149/150\n",
            "10/10 [==============================] - 1s 116ms/step - loss: 0.0119 - accuracy: 0.9897 - val_loss: 1.9001 - val_accuracy: 0.7376\n",
            "Epoch 150/150\n",
            "10/10 [==============================] - 1s 113ms/step - loss: 0.0150 - accuracy: 0.9909 - val_loss: 1.9100 - val_accuracy: 0.7376\n"
          ],
          "name": "stdout"
        },
        {
          "output_type": "execute_result",
          "data": {
            "text/plain": [
              "<tensorflow.python.keras.callbacks.History at 0x7f64f305a510>"
            ]
          },
          "metadata": {
            "tags": []
          },
          "execution_count": 86
        }
      ]
    },
    {
      "cell_type": "code",
      "metadata": {
        "colab": {
          "base_uri": "https://localhost:8080/"
        },
        "id": "jVBxdXOzxHbU",
        "outputId": "6463fc74-21de-44b3-ffe0-22d9bdbe863d"
      },
      "source": [
        "model1.fit(X_train,y_train,validation_data=(X_test,y_test),epochs=150,batch_size=30)"
      ],
      "execution_count": 87,
      "outputs": [
        {
          "output_type": "stream",
          "text": [
            "Epoch 1/150\n",
            "10/10 [==============================] - 4s 147ms/step - loss: 1.5406 - accuracy: 0.3326 - val_loss: 0.9725 - val_accuracy: 0.7801\n",
            "Epoch 2/150\n",
            "10/10 [==============================] - 1s 102ms/step - loss: 1.0154 - accuracy: 0.7393 - val_loss: 0.8144 - val_accuracy: 0.7801\n",
            "Epoch 3/150\n",
            "10/10 [==============================] - 1s 103ms/step - loss: 1.0026 - accuracy: 0.6937 - val_loss: 0.8589 - val_accuracy: 0.7801\n",
            "Epoch 4/150\n",
            "10/10 [==============================] - 1s 102ms/step - loss: 0.8569 - accuracy: 0.7332 - val_loss: 0.8230 - val_accuracy: 0.7801\n",
            "Epoch 5/150\n",
            "10/10 [==============================] - 1s 101ms/step - loss: 0.8367 - accuracy: 0.7253 - val_loss: 0.8288 - val_accuracy: 0.7801\n",
            "Epoch 6/150\n",
            "10/10 [==============================] - 1s 104ms/step - loss: 0.8126 - accuracy: 0.7096 - val_loss: 0.8355 - val_accuracy: 0.7801\n",
            "Epoch 7/150\n",
            "10/10 [==============================] - 1s 103ms/step - loss: 0.6706 - accuracy: 0.7449 - val_loss: 0.8318 - val_accuracy: 0.7801\n",
            "Epoch 8/150\n",
            "10/10 [==============================] - 1s 103ms/step - loss: 0.6010 - accuracy: 0.8005 - val_loss: 0.8374 - val_accuracy: 0.7518\n",
            "Epoch 9/150\n",
            "10/10 [==============================] - 1s 101ms/step - loss: 0.4843 - accuracy: 0.8786 - val_loss: 0.8716 - val_accuracy: 0.7660\n",
            "Epoch 10/150\n",
            "10/10 [==============================] - 1s 103ms/step - loss: 0.3426 - accuracy: 0.8977 - val_loss: 1.0771 - val_accuracy: 0.7730\n",
            "Epoch 11/150\n",
            "10/10 [==============================] - 1s 102ms/step - loss: 0.3196 - accuracy: 0.8878 - val_loss: 1.1239 - val_accuracy: 0.7730\n",
            "Epoch 12/150\n",
            "10/10 [==============================] - 1s 101ms/step - loss: 0.1527 - accuracy: 0.9530 - val_loss: 1.2071 - val_accuracy: 0.6241\n",
            "Epoch 13/150\n",
            "10/10 [==============================] - 1s 103ms/step - loss: 0.0996 - accuracy: 0.9733 - val_loss: 1.2634 - val_accuracy: 0.7447\n",
            "Epoch 14/150\n",
            "10/10 [==============================] - 1s 103ms/step - loss: 0.0553 - accuracy: 0.9872 - val_loss: 1.4392 - val_accuracy: 0.6241\n",
            "Epoch 15/150\n",
            "10/10 [==============================] - 1s 103ms/step - loss: 0.0630 - accuracy: 0.9844 - val_loss: 1.4131 - val_accuracy: 0.7163\n",
            "Epoch 16/150\n",
            "10/10 [==============================] - 1s 103ms/step - loss: 0.0469 - accuracy: 0.9889 - val_loss: 1.3612 - val_accuracy: 0.6738\n",
            "Epoch 17/150\n",
            "10/10 [==============================] - 1s 103ms/step - loss: 0.0351 - accuracy: 0.9916 - val_loss: 1.3885 - val_accuracy: 0.7305\n",
            "Epoch 18/150\n",
            "10/10 [==============================] - 1s 101ms/step - loss: 0.0507 - accuracy: 0.9745 - val_loss: 1.5026 - val_accuracy: 0.7589\n",
            "Epoch 19/150\n",
            "10/10 [==============================] - 1s 103ms/step - loss: 0.0577 - accuracy: 0.9820 - val_loss: 1.9318 - val_accuracy: 0.4752\n",
            "Epoch 20/150\n",
            "10/10 [==============================] - 1s 101ms/step - loss: 0.0542 - accuracy: 0.9888 - val_loss: 1.5105 - val_accuracy: 0.7163\n",
            "Epoch 21/150\n",
            "10/10 [==============================] - 1s 103ms/step - loss: 0.0337 - accuracy: 0.9899 - val_loss: 1.5382 - val_accuracy: 0.7092\n",
            "Epoch 22/150\n",
            "10/10 [==============================] - 1s 101ms/step - loss: 0.0234 - accuracy: 0.9832 - val_loss: 1.5787 - val_accuracy: 0.7305\n",
            "Epoch 23/150\n",
            "10/10 [==============================] - 1s 104ms/step - loss: 0.0304 - accuracy: 0.9902 - val_loss: 1.6055 - val_accuracy: 0.7376\n",
            "Epoch 24/150\n",
            "10/10 [==============================] - 1s 103ms/step - loss: 0.0151 - accuracy: 0.9958 - val_loss: 1.6492 - val_accuracy: 0.6950\n",
            "Epoch 25/150\n",
            "10/10 [==============================] - 1s 103ms/step - loss: 0.0192 - accuracy: 0.9926 - val_loss: 1.6831 - val_accuracy: 0.7021\n",
            "Epoch 26/150\n",
            "10/10 [==============================] - 1s 103ms/step - loss: 0.0282 - accuracy: 0.9749 - val_loss: 1.7040 - val_accuracy: 0.7518\n",
            "Epoch 27/150\n",
            "10/10 [==============================] - 1s 104ms/step - loss: 0.0240 - accuracy: 0.9872 - val_loss: 1.7136 - val_accuracy: 0.7376\n",
            "Epoch 28/150\n",
            "10/10 [==============================] - 1s 104ms/step - loss: 0.0250 - accuracy: 0.9922 - val_loss: 1.7161 - val_accuracy: 0.7447\n",
            "Epoch 29/150\n",
            "10/10 [==============================] - 1s 102ms/step - loss: 0.0128 - accuracy: 0.9976 - val_loss: 1.7344 - val_accuracy: 0.7518\n",
            "Epoch 30/150\n",
            "10/10 [==============================] - 1s 101ms/step - loss: 0.0133 - accuracy: 0.9875 - val_loss: 1.7632 - val_accuracy: 0.7447\n",
            "Epoch 31/150\n",
            "10/10 [==============================] - 1s 104ms/step - loss: 0.0186 - accuracy: 0.9830 - val_loss: 1.7584 - val_accuracy: 0.7518\n",
            "Epoch 32/150\n",
            "10/10 [==============================] - 1s 103ms/step - loss: 0.0169 - accuracy: 0.9879 - val_loss: 1.7841 - val_accuracy: 0.7447\n",
            "Epoch 33/150\n",
            "10/10 [==============================] - 1s 104ms/step - loss: 0.0123 - accuracy: 0.9943 - val_loss: 1.8026 - val_accuracy: 0.7376\n",
            "Epoch 34/150\n",
            "10/10 [==============================] - 1s 103ms/step - loss: 0.0170 - accuracy: 0.9874 - val_loss: 1.8548 - val_accuracy: 0.7589\n",
            "Epoch 35/150\n",
            "10/10 [==============================] - 1s 102ms/step - loss: 0.0205 - accuracy: 0.9844 - val_loss: 1.8502 - val_accuracy: 0.7447\n",
            "Epoch 36/150\n",
            "10/10 [==============================] - 1s 107ms/step - loss: 0.0152 - accuracy: 0.9950 - val_loss: 1.8373 - val_accuracy: 0.7305\n",
            "Epoch 37/150\n",
            "10/10 [==============================] - 1s 106ms/step - loss: 0.0205 - accuracy: 0.9818 - val_loss: 1.8366 - val_accuracy: 0.7305\n",
            "Epoch 38/150\n",
            "10/10 [==============================] - 1s 105ms/step - loss: 0.0202 - accuracy: 0.9896 - val_loss: 1.9273 - val_accuracy: 0.7518\n",
            "Epoch 39/150\n",
            "10/10 [==============================] - 1s 104ms/step - loss: 0.0170 - accuracy: 0.9935 - val_loss: 1.9453 - val_accuracy: 0.7447\n",
            "Epoch 40/150\n",
            "10/10 [==============================] - 1s 104ms/step - loss: 0.0192 - accuracy: 0.9917 - val_loss: 1.8979 - val_accuracy: 0.7163\n",
            "Epoch 41/150\n",
            "10/10 [==============================] - 1s 102ms/step - loss: 0.0182 - accuracy: 0.9876 - val_loss: 1.8781 - val_accuracy: 0.7092\n",
            "Epoch 42/150\n",
            "10/10 [==============================] - 1s 104ms/step - loss: 0.0196 - accuracy: 0.9870 - val_loss: 1.8803 - val_accuracy: 0.7305\n",
            "Epoch 43/150\n",
            "10/10 [==============================] - 1s 101ms/step - loss: 0.0186 - accuracy: 0.9840 - val_loss: 1.8902 - val_accuracy: 0.7305\n",
            "Epoch 44/150\n",
            "10/10 [==============================] - 1s 102ms/step - loss: 0.0119 - accuracy: 0.9933 - val_loss: 1.9229 - val_accuracy: 0.7376\n",
            "Epoch 45/150\n",
            "10/10 [==============================] - 1s 104ms/step - loss: 0.0207 - accuracy: 0.9838 - val_loss: 1.9685 - val_accuracy: 0.7092\n",
            "Epoch 46/150\n",
            "10/10 [==============================] - 1s 102ms/step - loss: 0.0210 - accuracy: 0.9830 - val_loss: 1.9771 - val_accuracy: 0.7163\n",
            "Epoch 47/150\n",
            "10/10 [==============================] - 1s 103ms/step - loss: 0.0117 - accuracy: 0.9892 - val_loss: 1.9763 - val_accuracy: 0.7092\n",
            "Epoch 48/150\n",
            "10/10 [==============================] - 1s 103ms/step - loss: 0.0149 - accuracy: 0.9873 - val_loss: 1.9910 - val_accuracy: 0.7305\n",
            "Epoch 49/150\n",
            "10/10 [==============================] - 1s 103ms/step - loss: 0.0160 - accuracy: 0.9833 - val_loss: 1.9828 - val_accuracy: 0.7305\n",
            "Epoch 50/150\n",
            "10/10 [==============================] - 1s 103ms/step - loss: 0.0149 - accuracy: 0.9908 - val_loss: 1.9921 - val_accuracy: 0.7376\n",
            "Epoch 51/150\n",
            "10/10 [==============================] - 1s 104ms/step - loss: 0.0096 - accuracy: 0.9954 - val_loss: 1.9894 - val_accuracy: 0.7092\n",
            "Epoch 52/150\n",
            "10/10 [==============================] - 1s 100ms/step - loss: 0.0097 - accuracy: 0.9939 - val_loss: 1.9975 - val_accuracy: 0.6950\n",
            "Epoch 53/150\n",
            "10/10 [==============================] - 1s 107ms/step - loss: 0.0133 - accuracy: 0.9957 - val_loss: 2.0352 - val_accuracy: 0.7518\n",
            "Epoch 54/150\n",
            "10/10 [==============================] - 1s 102ms/step - loss: 0.0129 - accuracy: 0.9935 - val_loss: 2.0207 - val_accuracy: 0.7518\n",
            "Epoch 55/150\n",
            "10/10 [==============================] - 1s 101ms/step - loss: 0.0164 - accuracy: 0.9944 - val_loss: 1.9987 - val_accuracy: 0.7518\n",
            "Epoch 56/150\n",
            "10/10 [==============================] - 1s 103ms/step - loss: 0.0212 - accuracy: 0.9813 - val_loss: 2.0394 - val_accuracy: 0.7092\n",
            "Epoch 57/150\n",
            "10/10 [==============================] - 1s 100ms/step - loss: 0.0104 - accuracy: 0.9920 - val_loss: 2.1070 - val_accuracy: 0.6950\n",
            "Epoch 58/150\n",
            "10/10 [==============================] - 1s 106ms/step - loss: 0.0148 - accuracy: 0.9907 - val_loss: 2.0904 - val_accuracy: 0.7234\n",
            "Epoch 59/150\n",
            "10/10 [==============================] - 1s 102ms/step - loss: 0.0098 - accuracy: 0.9949 - val_loss: 2.0723 - val_accuracy: 0.7305\n",
            "Epoch 60/150\n",
            "10/10 [==============================] - 1s 103ms/step - loss: 0.0191 - accuracy: 0.9843 - val_loss: 2.1048 - val_accuracy: 0.7305\n",
            "Epoch 61/150\n",
            "10/10 [==============================] - 1s 104ms/step - loss: 0.0130 - accuracy: 0.9942 - val_loss: 2.1136 - val_accuracy: 0.7163\n",
            "Epoch 62/150\n",
            "10/10 [==============================] - 1s 102ms/step - loss: 0.0134 - accuracy: 0.9911 - val_loss: 2.0744 - val_accuracy: 0.7092\n",
            "Epoch 63/150\n",
            "10/10 [==============================] - 1s 103ms/step - loss: 0.0114 - accuracy: 0.9947 - val_loss: 2.0857 - val_accuracy: 0.7234\n",
            "Epoch 64/150\n",
            "10/10 [==============================] - 1s 104ms/step - loss: 0.0087 - accuracy: 0.9920 - val_loss: 2.1053 - val_accuracy: 0.7305\n",
            "Epoch 65/150\n",
            "10/10 [==============================] - 1s 103ms/step - loss: 0.0224 - accuracy: 0.9739 - val_loss: 2.0911 - val_accuracy: 0.7447\n",
            "Epoch 66/150\n",
            "10/10 [==============================] - 1s 107ms/step - loss: 0.0137 - accuracy: 0.9903 - val_loss: 2.0711 - val_accuracy: 0.7518\n",
            "Epoch 67/150\n",
            "10/10 [==============================] - 1s 107ms/step - loss: 0.0206 - accuracy: 0.9833 - val_loss: 2.0697 - val_accuracy: 0.7376\n",
            "Epoch 68/150\n",
            "10/10 [==============================] - 1s 104ms/step - loss: 0.0101 - accuracy: 0.9949 - val_loss: 2.0975 - val_accuracy: 0.7518\n",
            "Epoch 69/150\n",
            "10/10 [==============================] - 1s 103ms/step - loss: 0.0081 - accuracy: 0.9980 - val_loss: 2.1449 - val_accuracy: 0.7447\n",
            "Epoch 70/150\n",
            "10/10 [==============================] - 1s 102ms/step - loss: 0.0201 - accuracy: 0.9750 - val_loss: 2.1780 - val_accuracy: 0.7376\n",
            "Epoch 71/150\n",
            "10/10 [==============================] - 1s 104ms/step - loss: 0.0134 - accuracy: 0.9943 - val_loss: 2.1854 - val_accuracy: 0.7376\n",
            "Epoch 72/150\n",
            "10/10 [==============================] - 1s 103ms/step - loss: 0.0181 - accuracy: 0.9893 - val_loss: 2.1636 - val_accuracy: 0.7518\n",
            "Epoch 73/150\n",
            "10/10 [==============================] - 1s 103ms/step - loss: 0.0121 - accuracy: 0.9888 - val_loss: 2.1516 - val_accuracy: 0.7518\n",
            "Epoch 74/150\n",
            "10/10 [==============================] - 1s 102ms/step - loss: 0.0095 - accuracy: 0.9912 - val_loss: 2.1519 - val_accuracy: 0.7589\n",
            "Epoch 75/150\n",
            "10/10 [==============================] - 1s 105ms/step - loss: 0.0204 - accuracy: 0.9817 - val_loss: 2.1256 - val_accuracy: 0.7376\n",
            "Epoch 76/150\n",
            "10/10 [==============================] - 1s 103ms/step - loss: 0.0183 - accuracy: 0.9824 - val_loss: 2.1369 - val_accuracy: 0.7447\n",
            "Epoch 77/150\n",
            "10/10 [==============================] - 1s 106ms/step - loss: 0.0190 - accuracy: 0.9855 - val_loss: 2.1414 - val_accuracy: 0.7447\n",
            "Epoch 78/150\n",
            "10/10 [==============================] - 1s 104ms/step - loss: 0.0182 - accuracy: 0.9892 - val_loss: 2.1476 - val_accuracy: 0.7518\n",
            "Epoch 79/150\n",
            "10/10 [==============================] - 1s 104ms/step - loss: 0.0171 - accuracy: 0.9876 - val_loss: 2.1398 - val_accuracy: 0.7518\n",
            "Epoch 80/150\n",
            "10/10 [==============================] - 1s 102ms/step - loss: 0.0132 - accuracy: 0.9924 - val_loss: 2.1506 - val_accuracy: 0.7518\n",
            "Epoch 81/150\n",
            "10/10 [==============================] - 1s 103ms/step - loss: 0.0124 - accuracy: 0.9958 - val_loss: 2.2046 - val_accuracy: 0.7518\n",
            "Epoch 82/150\n",
            "10/10 [==============================] - 1s 104ms/step - loss: 0.0336 - accuracy: 0.9838 - val_loss: 2.1796 - val_accuracy: 0.7518\n",
            "Epoch 83/150\n",
            "10/10 [==============================] - 1s 102ms/step - loss: 0.0174 - accuracy: 0.9879 - val_loss: 2.1727 - val_accuracy: 0.7447\n",
            "Epoch 84/150\n",
            "10/10 [==============================] - 1s 103ms/step - loss: 0.0133 - accuracy: 0.9946 - val_loss: 2.1783 - val_accuracy: 0.7447\n",
            "Epoch 85/150\n",
            "10/10 [==============================] - 1s 103ms/step - loss: 0.0228 - accuracy: 0.9899 - val_loss: 2.1878 - val_accuracy: 0.7589\n",
            "Epoch 86/150\n",
            "10/10 [==============================] - 1s 104ms/step - loss: 0.0095 - accuracy: 0.9951 - val_loss: 2.1778 - val_accuracy: 0.7234\n",
            "Epoch 87/150\n",
            "10/10 [==============================] - 1s 104ms/step - loss: 0.0134 - accuracy: 0.9944 - val_loss: 2.1951 - val_accuracy: 0.7518\n",
            "Epoch 88/150\n",
            "10/10 [==============================] - 1s 105ms/step - loss: 0.0116 - accuracy: 0.9905 - val_loss: 2.1838 - val_accuracy: 0.7518\n",
            "Epoch 89/150\n",
            "10/10 [==============================] - 1s 109ms/step - loss: 0.0120 - accuracy: 0.9917 - val_loss: 2.2133 - val_accuracy: 0.7518\n",
            "Epoch 90/150\n",
            "10/10 [==============================] - 1s 103ms/step - loss: 0.0113 - accuracy: 0.9907 - val_loss: 2.1922 - val_accuracy: 0.7518\n",
            "Epoch 91/150\n",
            "10/10 [==============================] - 1s 104ms/step - loss: 0.0133 - accuracy: 0.9924 - val_loss: 2.2102 - val_accuracy: 0.7518\n",
            "Epoch 92/150\n",
            "10/10 [==============================] - 1s 109ms/step - loss: 0.0117 - accuracy: 0.9881 - val_loss: 2.2584 - val_accuracy: 0.7305\n",
            "Epoch 93/150\n",
            "10/10 [==============================] - 1s 102ms/step - loss: 0.0110 - accuracy: 0.9879 - val_loss: 2.2498 - val_accuracy: 0.7376\n",
            "Epoch 94/150\n",
            "10/10 [==============================] - 1s 103ms/step - loss: 0.0118 - accuracy: 0.9900 - val_loss: 2.2201 - val_accuracy: 0.7234\n",
            "Epoch 95/150\n",
            "10/10 [==============================] - 1s 105ms/step - loss: 0.0078 - accuracy: 0.9957 - val_loss: 2.2559 - val_accuracy: 0.7234\n",
            "Epoch 96/150\n",
            "10/10 [==============================] - 1s 104ms/step - loss: 0.0177 - accuracy: 0.9922 - val_loss: 2.2395 - val_accuracy: 0.7163\n",
            "Epoch 97/150\n",
            "10/10 [==============================] - 1s 108ms/step - loss: 0.0181 - accuracy: 0.9855 - val_loss: 2.2363 - val_accuracy: 0.7305\n",
            "Epoch 98/150\n",
            "10/10 [==============================] - 1s 104ms/step - loss: 0.0183 - accuracy: 0.9835 - val_loss: 2.2840 - val_accuracy: 0.7376\n",
            "Epoch 99/150\n",
            "10/10 [==============================] - 1s 105ms/step - loss: 0.0157 - accuracy: 0.9903 - val_loss: 2.2749 - val_accuracy: 0.7376\n",
            "Epoch 100/150\n",
            "10/10 [==============================] - 1s 104ms/step - loss: 0.0107 - accuracy: 0.9903 - val_loss: 2.2583 - val_accuracy: 0.7305\n",
            "Epoch 101/150\n",
            "10/10 [==============================] - 1s 105ms/step - loss: 0.0074 - accuracy: 0.9927 - val_loss: 2.2526 - val_accuracy: 0.7305\n",
            "Epoch 102/150\n",
            "10/10 [==============================] - 1s 104ms/step - loss: 0.0209 - accuracy: 0.9792 - val_loss: 2.2643 - val_accuracy: 0.7163\n",
            "Epoch 103/150\n",
            "10/10 [==============================] - 1s 106ms/step - loss: 0.0171 - accuracy: 0.9842 - val_loss: 2.2744 - val_accuracy: 0.7234\n",
            "Epoch 104/150\n",
            "10/10 [==============================] - 1s 105ms/step - loss: 0.0158 - accuracy: 0.9871 - val_loss: 2.2818 - val_accuracy: 0.7305\n",
            "Epoch 105/150\n",
            "10/10 [==============================] - 1s 103ms/step - loss: 0.0188 - accuracy: 0.9888 - val_loss: 2.2805 - val_accuracy: 0.7234\n",
            "Epoch 106/150\n",
            "10/10 [==============================] - 1s 104ms/step - loss: 0.0135 - accuracy: 0.9849 - val_loss: 2.2833 - val_accuracy: 0.7234\n",
            "Epoch 107/150\n",
            "10/10 [==============================] - 1s 105ms/step - loss: 0.0114 - accuracy: 0.9940 - val_loss: 2.2897 - val_accuracy: 0.7234\n",
            "Epoch 108/150\n",
            "10/10 [==============================] - 1s 105ms/step - loss: 0.0149 - accuracy: 0.9918 - val_loss: 2.2969 - val_accuracy: 0.7305\n",
            "Epoch 109/150\n",
            "10/10 [==============================] - 1s 108ms/step - loss: 0.0220 - accuracy: 0.9780 - val_loss: 2.2986 - val_accuracy: 0.7376\n",
            "Epoch 110/150\n",
            "10/10 [==============================] - 1s 103ms/step - loss: 0.0181 - accuracy: 0.9820 - val_loss: 2.2943 - val_accuracy: 0.7305\n",
            "Epoch 111/150\n",
            "10/10 [==============================] - 1s 108ms/step - loss: 0.0201 - accuracy: 0.9893 - val_loss: 2.3086 - val_accuracy: 0.7376\n",
            "Epoch 112/150\n",
            "10/10 [==============================] - 1s 104ms/step - loss: 0.0131 - accuracy: 0.9859 - val_loss: 2.3137 - val_accuracy: 0.7376\n",
            "Epoch 113/150\n",
            "10/10 [==============================] - 1s 105ms/step - loss: 0.0112 - accuracy: 0.9876 - val_loss: 2.3127 - val_accuracy: 0.7376\n",
            "Epoch 114/150\n",
            "10/10 [==============================] - 1s 105ms/step - loss: 0.0124 - accuracy: 0.9880 - val_loss: 2.3299 - val_accuracy: 0.7447\n",
            "Epoch 115/150\n",
            "10/10 [==============================] - 1s 107ms/step - loss: 0.0247 - accuracy: 0.9769 - val_loss: 2.3273 - val_accuracy: 0.7447\n",
            "Epoch 116/150\n",
            "10/10 [==============================] - 1s 105ms/step - loss: 0.0107 - accuracy: 0.9910 - val_loss: 2.3309 - val_accuracy: 0.7447\n",
            "Epoch 117/150\n",
            "10/10 [==============================] - 1s 106ms/step - loss: 0.0116 - accuracy: 0.9903 - val_loss: 2.3483 - val_accuracy: 0.7447\n",
            "Epoch 118/150\n",
            "10/10 [==============================] - 1s 105ms/step - loss: 0.0183 - accuracy: 0.9823 - val_loss: 2.3446 - val_accuracy: 0.7447\n",
            "Epoch 119/150\n",
            "10/10 [==============================] - 1s 105ms/step - loss: 0.0137 - accuracy: 0.9893 - val_loss: 2.3497 - val_accuracy: 0.7376\n",
            "Epoch 120/150\n",
            "10/10 [==============================] - 1s 104ms/step - loss: 0.0147 - accuracy: 0.9921 - val_loss: 2.3618 - val_accuracy: 0.7376\n",
            "Epoch 121/150\n",
            "10/10 [==============================] - 1s 104ms/step - loss: 0.0186 - accuracy: 0.9868 - val_loss: 2.3669 - val_accuracy: 0.7305\n",
            "Epoch 122/150\n",
            "10/10 [==============================] - 1s 104ms/step - loss: 0.0109 - accuracy: 0.9872 - val_loss: 2.3669 - val_accuracy: 0.7376\n",
            "Epoch 123/150\n",
            "10/10 [==============================] - 1s 105ms/step - loss: 0.0131 - accuracy: 0.9882 - val_loss: 2.3752 - val_accuracy: 0.7305\n",
            "Epoch 124/150\n",
            "10/10 [==============================] - 1s 108ms/step - loss: 0.0096 - accuracy: 0.9914 - val_loss: 2.3843 - val_accuracy: 0.7305\n",
            "Epoch 125/150\n",
            "10/10 [==============================] - 1s 104ms/step - loss: 0.0173 - accuracy: 0.9846 - val_loss: 2.4126 - val_accuracy: 0.7305\n",
            "Epoch 126/150\n",
            "10/10 [==============================] - 1s 109ms/step - loss: 0.0082 - accuracy: 0.9946 - val_loss: 2.4160 - val_accuracy: 0.7305\n",
            "Epoch 127/150\n",
            "10/10 [==============================] - 1s 105ms/step - loss: 0.0101 - accuracy: 0.9955 - val_loss: 2.4193 - val_accuracy: 0.7305\n",
            "Epoch 128/150\n",
            "10/10 [==============================] - 1s 105ms/step - loss: 0.0215 - accuracy: 0.9843 - val_loss: 2.4048 - val_accuracy: 0.7234\n",
            "Epoch 129/150\n",
            "10/10 [==============================] - 1s 106ms/step - loss: 0.0114 - accuracy: 0.9934 - val_loss: 2.3933 - val_accuracy: 0.7234\n",
            "Epoch 130/150\n",
            "10/10 [==============================] - 1s 106ms/step - loss: 0.0139 - accuracy: 0.9851 - val_loss: 2.4079 - val_accuracy: 0.7376\n",
            "Epoch 131/150\n",
            "10/10 [==============================] - 1s 113ms/step - loss: 0.0143 - accuracy: 0.9859 - val_loss: 2.4101 - val_accuracy: 0.7376\n",
            "Epoch 132/150\n",
            "10/10 [==============================] - 1s 123ms/step - loss: 0.0169 - accuracy: 0.9809 - val_loss: 2.3931 - val_accuracy: 0.7305\n",
            "Epoch 133/150\n",
            "10/10 [==============================] - 1s 125ms/step - loss: 0.0137 - accuracy: 0.9940 - val_loss: 2.3586 - val_accuracy: 0.7305\n",
            "Epoch 134/150\n",
            "10/10 [==============================] - 1s 122ms/step - loss: 0.0150 - accuracy: 0.9917 - val_loss: 2.3559 - val_accuracy: 0.7305\n",
            "Epoch 135/150\n",
            "10/10 [==============================] - 1s 128ms/step - loss: 0.0226 - accuracy: 0.9832 - val_loss: 2.3971 - val_accuracy: 0.7163\n",
            "Epoch 136/150\n",
            "10/10 [==============================] - 1s 140ms/step - loss: 0.0134 - accuracy: 0.9888 - val_loss: 2.4114 - val_accuracy: 0.7163\n",
            "Epoch 137/150\n",
            "10/10 [==============================] - 1s 146ms/step - loss: 0.0161 - accuracy: 0.9923 - val_loss: 2.4190 - val_accuracy: 0.7163\n",
            "Epoch 138/150\n",
            "10/10 [==============================] - 1s 142ms/step - loss: 0.0117 - accuracy: 0.9900 - val_loss: 2.3929 - val_accuracy: 0.7234\n",
            "Epoch 139/150\n",
            "10/10 [==============================] - 1s 146ms/step - loss: 0.0181 - accuracy: 0.9754 - val_loss: 2.4128 - val_accuracy: 0.7163\n",
            "Epoch 140/150\n",
            "10/10 [==============================] - 1s 142ms/step - loss: 0.0106 - accuracy: 0.9926 - val_loss: 2.4082 - val_accuracy: 0.7163\n",
            "Epoch 141/150\n",
            "10/10 [==============================] - 2s 179ms/step - loss: 0.0172 - accuracy: 0.9894 - val_loss: 2.3750 - val_accuracy: 0.7305\n",
            "Epoch 142/150\n",
            "10/10 [==============================] - 1s 119ms/step - loss: 0.0135 - accuracy: 0.9870 - val_loss: 2.3887 - val_accuracy: 0.7305\n",
            "Epoch 143/150\n",
            "10/10 [==============================] - 1s 106ms/step - loss: 0.0118 - accuracy: 0.9913 - val_loss: 2.3871 - val_accuracy: 0.7376\n",
            "Epoch 144/150\n",
            "10/10 [==============================] - 1s 106ms/step - loss: 0.0109 - accuracy: 0.9917 - val_loss: 2.3922 - val_accuracy: 0.7376\n",
            "Epoch 145/150\n",
            "10/10 [==============================] - 1s 109ms/step - loss: 0.0092 - accuracy: 0.9937 - val_loss: 2.4064 - val_accuracy: 0.7376\n",
            "Epoch 146/150\n",
            "10/10 [==============================] - 1s 106ms/step - loss: 0.0157 - accuracy: 0.9861 - val_loss: 2.4262 - val_accuracy: 0.7376\n",
            "Epoch 147/150\n",
            "10/10 [==============================] - 1s 110ms/step - loss: 0.0128 - accuracy: 0.9879 - val_loss: 2.4457 - val_accuracy: 0.7234\n",
            "Epoch 148/150\n",
            "10/10 [==============================] - 1s 106ms/step - loss: 0.0265 - accuracy: 0.9842 - val_loss: 2.4069 - val_accuracy: 0.7447\n",
            "Epoch 149/150\n",
            "10/10 [==============================] - 1s 110ms/step - loss: 0.0082 - accuracy: 0.9954 - val_loss: 2.4062 - val_accuracy: 0.7447\n",
            "Epoch 150/150\n",
            "10/10 [==============================] - 1s 108ms/step - loss: 0.0128 - accuracy: 0.9923 - val_loss: 2.4199 - val_accuracy: 0.7376\n"
          ],
          "name": "stdout"
        },
        {
          "output_type": "execute_result",
          "data": {
            "text/plain": [
              "<tensorflow.python.keras.callbacks.History at 0x7f64ede1f850>"
            ]
          },
          "metadata": {
            "tags": []
          },
          "execution_count": 87
        }
      ]
    },
    {
      "cell_type": "code",
      "metadata": {
        "colab": {
          "base_uri": "https://localhost:8080/"
        },
        "id": "OJZna466xb61",
        "outputId": "72e25726-463f-4ae9-be8b-abac31f39dc2"
      },
      "source": [
        "model.evaluate(X_test, y_test)"
      ],
      "execution_count": 88,
      "outputs": [
        {
          "output_type": "stream",
          "text": [
            "5/5 [==============================] - 0s 26ms/step - loss: 1.9100 - accuracy: 0.7376\n"
          ],
          "name": "stdout"
        },
        {
          "output_type": "execute_result",
          "data": {
            "text/plain": [
              "[1.9099761247634888, 0.73758864402771]"
            ]
          },
          "metadata": {
            "tags": []
          },
          "execution_count": 88
        }
      ]
    },
    {
      "cell_type": "code",
      "metadata": {
        "colab": {
          "base_uri": "https://localhost:8080/"
        },
        "id": "Vs_m2g9Dxtfb",
        "outputId": "bcddbfdd-85e7-4369-eab7-a70006f9fe98"
      },
      "source": [
        "model1.evaluate(X_test, y_test)"
      ],
      "execution_count": 89,
      "outputs": [
        {
          "output_type": "stream",
          "text": [
            "5/5 [==============================] - 0s 14ms/step - loss: 2.4199 - accuracy: 0.7376\n"
          ],
          "name": "stdout"
        },
        {
          "output_type": "execute_result",
          "data": {
            "text/plain": [
              "[2.4199323654174805, 0.73758864402771]"
            ]
          },
          "metadata": {
            "tags": []
          },
          "execution_count": 89
        }
      ]
    },
    {
      "cell_type": "markdown",
      "metadata": {
        "id": "ZCBU_wtazdzq"
      },
      "source": [
        "Model Name\tAccuracy\tComment\n",
        "Random Forest Classifier\t41.40%\tWe got very bad accuracy with RFC\n",
        "FastText\t99.70%\tWe got very good accuracy with FastText model with epoch of 300\n",
        "Bidirectional LSTM\t73%\tWe got decent accuracy with bidirectional LSTM(both with and without dropout and batch normalization)but there is huge difference between accuracy and validation accuracy\n",
        "LSTM\t67%\tAs compare to above model accuracy is low and same is above huge difference between accuracy and validation accuracy (both with and without dropout and batch normalization)\n",
        "LSTM with LeakyReLU\n",
        "\t73%\tas compare to above model accuracy is low and same is above huge difference between accuracy and validation accuracy\n",
        "GRU\t0.9%\tBoth accuracy and validation accuracy were very low\n"
      ]
    },
    {
      "cell_type": "code",
      "metadata": {
        "id": "7WCop0xjzfTx"
      },
      "source": [
        ""
      ],
      "execution_count": null,
      "outputs": []
    }
  ]
}