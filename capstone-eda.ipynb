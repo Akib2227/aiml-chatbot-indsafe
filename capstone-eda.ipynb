{
 "cells": [
  {
   "cell_type": "code",
   "execution_count": 66,
   "metadata": {},
   "outputs": [],
   "source": [
    "#Import all the necessary modules\n",
    "import pandas as pd\n",
    "import warnings\n",
    "warnings.filterwarnings('ignore')\n",
    "%matplotlib inline\n",
    "import random\n",
    "import matplotlib.pyplot as plt\n",
    "import seaborn as sns \n",
    "import numpy as np \n",
    "import seaborn as sns\n",
    "from sklearn.model_selection import train_test_split\n",
    "from sklearn import metrics\n",
    "from sklearn.metrics import accuracy_score\n",
    "import copy\n",
    "from sklearn.ensemble import RandomForestClassifier\n",
    "from sklearn.feature_extraction.text import CountVectorizer\n",
    "from random import randint"
   ]
  },
  {
   "cell_type": "code",
   "execution_count": 3,
   "metadata": {},
   "outputs": [],
   "source": [
    "import re\n",
    "import nltk\n",
    "from nltk.tokenize import word_tokenize\n",
    "#nltk.download('punkt')\n",
    "from nltk.corpus import stopwords\n",
    "#nltk.download('stopwords')\n",
    "#stopwords.words('english')\n",
    "from nltk.stem import PorterStemmer\n",
    "from nltk.stem import WordNetLemmatizer"
   ]
  },
  {
   "cell_type": "code",
   "execution_count": 4,
   "metadata": {},
   "outputs": [
    {
     "data": {
      "text/html": [
       "<div>\n",
       "<style scoped>\n",
       "    .dataframe tbody tr th:only-of-type {\n",
       "        vertical-align: middle;\n",
       "    }\n",
       "\n",
       "    .dataframe tbody tr th {\n",
       "        vertical-align: top;\n",
       "    }\n",
       "\n",
       "    .dataframe thead th {\n",
       "        text-align: right;\n",
       "    }\n",
       "</style>\n",
       "<table border=\"1\" class=\"dataframe\">\n",
       "  <thead>\n",
       "    <tr style=\"text-align: right;\">\n",
       "      <th></th>\n",
       "      <th>Unnamed: 0</th>\n",
       "      <th>Data</th>\n",
       "      <th>Countries</th>\n",
       "      <th>Local</th>\n",
       "      <th>Industry Sector</th>\n",
       "      <th>Accident Level</th>\n",
       "      <th>Potential Accident Level</th>\n",
       "      <th>Genre</th>\n",
       "      <th>Employee or Third Party</th>\n",
       "      <th>Critical Risk</th>\n",
       "      <th>Description</th>\n",
       "    </tr>\n",
       "  </thead>\n",
       "  <tbody>\n",
       "    <tr>\n",
       "      <th>0</th>\n",
       "      <td>0</td>\n",
       "      <td>01-01-2016 00:00</td>\n",
       "      <td>Country_01</td>\n",
       "      <td>Local_01</td>\n",
       "      <td>Mining</td>\n",
       "      <td>I</td>\n",
       "      <td>IV</td>\n",
       "      <td>Male</td>\n",
       "      <td>Third Party</td>\n",
       "      <td>Pressed</td>\n",
       "      <td>While removing the drill rod of the Jumbo 08 f...</td>\n",
       "    </tr>\n",
       "    <tr>\n",
       "      <th>1</th>\n",
       "      <td>1</td>\n",
       "      <td>02-01-2016 00:00</td>\n",
       "      <td>Country_02</td>\n",
       "      <td>Local_02</td>\n",
       "      <td>Mining</td>\n",
       "      <td>I</td>\n",
       "      <td>IV</td>\n",
       "      <td>Male</td>\n",
       "      <td>Employee</td>\n",
       "      <td>Pressurized Systems</td>\n",
       "      <td>During the activation of a sodium sulphide pum...</td>\n",
       "    </tr>\n",
       "    <tr>\n",
       "      <th>2</th>\n",
       "      <td>2</td>\n",
       "      <td>06-01-2016 00:00</td>\n",
       "      <td>Country_01</td>\n",
       "      <td>Local_03</td>\n",
       "      <td>Mining</td>\n",
       "      <td>I</td>\n",
       "      <td>III</td>\n",
       "      <td>Male</td>\n",
       "      <td>Third Party (Remote)</td>\n",
       "      <td>Manual Tools</td>\n",
       "      <td>In the sub-station MILPO located at level +170...</td>\n",
       "    </tr>\n",
       "    <tr>\n",
       "      <th>3</th>\n",
       "      <td>3</td>\n",
       "      <td>08-01-2016 00:00</td>\n",
       "      <td>Country_01</td>\n",
       "      <td>Local_04</td>\n",
       "      <td>Mining</td>\n",
       "      <td>I</td>\n",
       "      <td>I</td>\n",
       "      <td>Male</td>\n",
       "      <td>Third Party</td>\n",
       "      <td>Others</td>\n",
       "      <td>Being 9:45 am. approximately in the Nv. 1880 C...</td>\n",
       "    </tr>\n",
       "    <tr>\n",
       "      <th>4</th>\n",
       "      <td>4</td>\n",
       "      <td>10-01-2016 00:00</td>\n",
       "      <td>Country_01</td>\n",
       "      <td>Local_04</td>\n",
       "      <td>Mining</td>\n",
       "      <td>IV</td>\n",
       "      <td>IV</td>\n",
       "      <td>Male</td>\n",
       "      <td>Third Party</td>\n",
       "      <td>Others</td>\n",
       "      <td>Approximately at 11:45 a.m. in circumstances t...</td>\n",
       "    </tr>\n",
       "  </tbody>\n",
       "</table>\n",
       "</div>"
      ],
      "text/plain": [
       "   Unnamed: 0              Data   Countries     Local Industry Sector  \\\n",
       "0           0  01-01-2016 00:00  Country_01  Local_01          Mining   \n",
       "1           1  02-01-2016 00:00  Country_02  Local_02          Mining   \n",
       "2           2  06-01-2016 00:00  Country_01  Local_03          Mining   \n",
       "3           3  08-01-2016 00:00  Country_01  Local_04          Mining   \n",
       "4           4  10-01-2016 00:00  Country_01  Local_04          Mining   \n",
       "\n",
       "  Accident Level Potential Accident Level Genre Employee or Third Party  \\\n",
       "0              I                       IV  Male             Third Party   \n",
       "1              I                       IV  Male                Employee   \n",
       "2              I                      III  Male    Third Party (Remote)   \n",
       "3              I                        I  Male             Third Party   \n",
       "4             IV                       IV  Male             Third Party   \n",
       "\n",
       "         Critical Risk                                        Description  \n",
       "0              Pressed  While removing the drill rod of the Jumbo 08 f...  \n",
       "1  Pressurized Systems  During the activation of a sodium sulphide pum...  \n",
       "2         Manual Tools  In the sub-station MILPO located at level +170...  \n",
       "3               Others  Being 9:45 am. approximately in the Nv. 1880 C...  \n",
       "4               Others  Approximately at 11:45 a.m. in circumstances t...  "
      ]
     },
     "execution_count": 4,
     "metadata": {},
     "output_type": "execute_result"
    }
   ],
   "source": [
    "industrial_safety_df = pd.read_csv(\"IHMStefanini_industrial_safety_and_health_database_with_accidents_description.csv\")\n",
    "industrial_safety_df.head()"
   ]
  },
  {
   "cell_type": "code",
   "execution_count": 22,
   "metadata": {},
   "outputs": [
    {
     "data": {
      "text/plain": [
       "(425, 11)"
      ]
     },
     "execution_count": 22,
     "metadata": {},
     "output_type": "execute_result"
    }
   ],
   "source": [
    "industrial_safety_df.shape"
   ]
  },
  {
   "cell_type": "markdown",
   "metadata": {},
   "source": [
    "### Grouping by Accident Level and Potential Accident Level "
   ]
  },
  {
   "cell_type": "code",
   "execution_count": 5,
   "metadata": {},
   "outputs": [
    {
     "data": {
      "text/html": [
       "<div>\n",
       "<style scoped>\n",
       "    .dataframe tbody tr th:only-of-type {\n",
       "        vertical-align: middle;\n",
       "    }\n",
       "\n",
       "    .dataframe tbody tr th {\n",
       "        vertical-align: top;\n",
       "    }\n",
       "\n",
       "    .dataframe thead th {\n",
       "        text-align: right;\n",
       "    }\n",
       "</style>\n",
       "<table border=\"1\" class=\"dataframe\">\n",
       "  <thead>\n",
       "    <tr style=\"text-align: right;\">\n",
       "      <th></th>\n",
       "      <th>Unnamed: 0</th>\n",
       "      <th>Data</th>\n",
       "      <th>Countries</th>\n",
       "      <th>Local</th>\n",
       "      <th>Industry Sector</th>\n",
       "      <th>Potential Accident Level</th>\n",
       "      <th>Genre</th>\n",
       "      <th>Employee or Third Party</th>\n",
       "      <th>Critical Risk</th>\n",
       "      <th>Description</th>\n",
       "    </tr>\n",
       "    <tr>\n",
       "      <th>Accident Level</th>\n",
       "      <th></th>\n",
       "      <th></th>\n",
       "      <th></th>\n",
       "      <th></th>\n",
       "      <th></th>\n",
       "      <th></th>\n",
       "      <th></th>\n",
       "      <th></th>\n",
       "      <th></th>\n",
       "      <th></th>\n",
       "    </tr>\n",
       "  </thead>\n",
       "  <tbody>\n",
       "    <tr>\n",
       "      <th>I</th>\n",
       "      <td>0</td>\n",
       "      <td>01-01-2016 00:00</td>\n",
       "      <td>Country_01</td>\n",
       "      <td>Local_01</td>\n",
       "      <td>Mining</td>\n",
       "      <td>IV</td>\n",
       "      <td>Male</td>\n",
       "      <td>Third Party</td>\n",
       "      <td>Pressed</td>\n",
       "      <td>While removing the drill rod of the Jumbo 08 f...</td>\n",
       "    </tr>\n",
       "    <tr>\n",
       "      <th>II</th>\n",
       "      <td>22</td>\n",
       "      <td>10-02-2016 00:00</td>\n",
       "      <td>Country_01</td>\n",
       "      <td>Local_03</td>\n",
       "      <td>Mining</td>\n",
       "      <td>IV</td>\n",
       "      <td>Male</td>\n",
       "      <td>Third Party</td>\n",
       "      <td>Others</td>\n",
       "      <td>While aligning the right bracket of tower N ° ...</td>\n",
       "    </tr>\n",
       "    <tr>\n",
       "      <th>III</th>\n",
       "      <td>16</td>\n",
       "      <td>06-02-2016 00:00</td>\n",
       "      <td>Country_01</td>\n",
       "      <td>Local_04</td>\n",
       "      <td>Mining</td>\n",
       "      <td>IV</td>\n",
       "      <td>Male</td>\n",
       "      <td>Third Party</td>\n",
       "      <td>Others</td>\n",
       "      <td>At Rp 050 of level 1620, in circumstances wher...</td>\n",
       "    </tr>\n",
       "    <tr>\n",
       "      <th>IV</th>\n",
       "      <td>4</td>\n",
       "      <td>10-01-2016 00:00</td>\n",
       "      <td>Country_01</td>\n",
       "      <td>Local_04</td>\n",
       "      <td>Mining</td>\n",
       "      <td>IV</td>\n",
       "      <td>Male</td>\n",
       "      <td>Third Party</td>\n",
       "      <td>Others</td>\n",
       "      <td>Approximately at 11:45 a.m. in circumstances t...</td>\n",
       "    </tr>\n",
       "    <tr>\n",
       "      <th>V</th>\n",
       "      <td>33</td>\n",
       "      <td>20-02-2016 00:00</td>\n",
       "      <td>Country_01</td>\n",
       "      <td>Local_04</td>\n",
       "      <td>Mining</td>\n",
       "      <td>V</td>\n",
       "      <td>Male</td>\n",
       "      <td>Third Party</td>\n",
       "      <td>Others</td>\n",
       "      <td>Approximately 1:40 p.m. in circumstances that ...</td>\n",
       "    </tr>\n",
       "  </tbody>\n",
       "</table>\n",
       "</div>"
      ],
      "text/plain": [
       "                Unnamed: 0              Data   Countries     Local  \\\n",
       "Accident Level                                                       \n",
       "I                        0  01-01-2016 00:00  Country_01  Local_01   \n",
       "II                      22  10-02-2016 00:00  Country_01  Local_03   \n",
       "III                     16  06-02-2016 00:00  Country_01  Local_04   \n",
       "IV                       4  10-01-2016 00:00  Country_01  Local_04   \n",
       "V                       33  20-02-2016 00:00  Country_01  Local_04   \n",
       "\n",
       "               Industry Sector Potential Accident Level Genre  \\\n",
       "Accident Level                                                  \n",
       "I                       Mining                       IV  Male   \n",
       "II                      Mining                       IV  Male   \n",
       "III                     Mining                       IV  Male   \n",
       "IV                      Mining                       IV  Male   \n",
       "V                       Mining                        V  Male   \n",
       "\n",
       "               Employee or Third Party Critical Risk  \\\n",
       "Accident Level                                         \n",
       "I                          Third Party       Pressed   \n",
       "II                         Third Party        Others   \n",
       "III                        Third Party        Others   \n",
       "IV                         Third Party        Others   \n",
       "V                          Third Party        Others   \n",
       "\n",
       "                                                      Description  \n",
       "Accident Level                                                     \n",
       "I               While removing the drill rod of the Jumbo 08 f...  \n",
       "II              While aligning the right bracket of tower N ° ...  \n",
       "III             At Rp 050 of level 1620, in circumstances wher...  \n",
       "IV              Approximately at 11:45 a.m. in circumstances t...  \n",
       "V               Approximately 1:40 p.m. in circumstances that ...  "
      ]
     },
     "execution_count": 5,
     "metadata": {},
     "output_type": "execute_result"
    }
   ],
   "source": [
    "group_acc_level = industrial_safety_df.groupby(['Accident Level'])\n",
    "group_acc_level.first()"
   ]
  },
  {
   "cell_type": "code",
   "execution_count": 6,
   "metadata": {},
   "outputs": [
    {
     "data": {
      "text/html": [
       "<div>\n",
       "<style scoped>\n",
       "    .dataframe tbody tr th:only-of-type {\n",
       "        vertical-align: middle;\n",
       "    }\n",
       "\n",
       "    .dataframe tbody tr th {\n",
       "        vertical-align: top;\n",
       "    }\n",
       "\n",
       "    .dataframe thead th {\n",
       "        text-align: right;\n",
       "    }\n",
       "</style>\n",
       "<table border=\"1\" class=\"dataframe\">\n",
       "  <thead>\n",
       "    <tr style=\"text-align: right;\">\n",
       "      <th></th>\n",
       "      <th>Unnamed: 0</th>\n",
       "      <th>Data</th>\n",
       "      <th>Countries</th>\n",
       "      <th>Local</th>\n",
       "      <th>Industry Sector</th>\n",
       "      <th>Accident Level</th>\n",
       "      <th>Genre</th>\n",
       "      <th>Employee or Third Party</th>\n",
       "      <th>Critical Risk</th>\n",
       "      <th>Description</th>\n",
       "    </tr>\n",
       "    <tr>\n",
       "      <th>Potential Accident Level</th>\n",
       "      <th></th>\n",
       "      <th></th>\n",
       "      <th></th>\n",
       "      <th></th>\n",
       "      <th></th>\n",
       "      <th></th>\n",
       "      <th></th>\n",
       "      <th></th>\n",
       "      <th></th>\n",
       "      <th></th>\n",
       "    </tr>\n",
       "  </thead>\n",
       "  <tbody>\n",
       "    <tr>\n",
       "      <th>I</th>\n",
       "      <td>3</td>\n",
       "      <td>08-01-2016 00:00</td>\n",
       "      <td>Country_01</td>\n",
       "      <td>Local_04</td>\n",
       "      <td>Mining</td>\n",
       "      <td>I</td>\n",
       "      <td>Male</td>\n",
       "      <td>Third Party</td>\n",
       "      <td>Others</td>\n",
       "      <td>Being 9:45 am. approximately in the Nv. 1880 C...</td>\n",
       "    </tr>\n",
       "    <tr>\n",
       "      <th>II</th>\n",
       "      <td>9</td>\n",
       "      <td>26-01-2016 00:00</td>\n",
       "      <td>Country_01</td>\n",
       "      <td>Local_06</td>\n",
       "      <td>Metals</td>\n",
       "      <td>I</td>\n",
       "      <td>Male</td>\n",
       "      <td>Third Party</td>\n",
       "      <td>Chemical substances</td>\n",
       "      <td>At the moment the forklift operator went to ma...</td>\n",
       "    </tr>\n",
       "    <tr>\n",
       "      <th>III</th>\n",
       "      <td>2</td>\n",
       "      <td>06-01-2016 00:00</td>\n",
       "      <td>Country_01</td>\n",
       "      <td>Local_03</td>\n",
       "      <td>Mining</td>\n",
       "      <td>I</td>\n",
       "      <td>Male</td>\n",
       "      <td>Third Party (Remote)</td>\n",
       "      <td>Manual Tools</td>\n",
       "      <td>In the sub-station MILPO located at level +170...</td>\n",
       "    </tr>\n",
       "    <tr>\n",
       "      <th>IV</th>\n",
       "      <td>0</td>\n",
       "      <td>01-01-2016 00:00</td>\n",
       "      <td>Country_01</td>\n",
       "      <td>Local_01</td>\n",
       "      <td>Mining</td>\n",
       "      <td>I</td>\n",
       "      <td>Male</td>\n",
       "      <td>Third Party</td>\n",
       "      <td>Pressed</td>\n",
       "      <td>While removing the drill rod of the Jumbo 08 f...</td>\n",
       "    </tr>\n",
       "    <tr>\n",
       "      <th>V</th>\n",
       "      <td>13</td>\n",
       "      <td>02-02-2016 00:00</td>\n",
       "      <td>Country_01</td>\n",
       "      <td>Local_01</td>\n",
       "      <td>Mining</td>\n",
       "      <td>IV</td>\n",
       "      <td>Male</td>\n",
       "      <td>Third Party</td>\n",
       "      <td>Electrical installation</td>\n",
       "      <td>In moments that the operator of the Jumbo 2, t...</td>\n",
       "    </tr>\n",
       "    <tr>\n",
       "      <th>VI</th>\n",
       "      <td>321</td>\n",
       "      <td>25-01-2017 00:00</td>\n",
       "      <td>Country_01</td>\n",
       "      <td>Local_03</td>\n",
       "      <td>Mining</td>\n",
       "      <td>V</td>\n",
       "      <td>Male</td>\n",
       "      <td>Third Party</td>\n",
       "      <td>remains of choco</td>\n",
       "      <td>During the process of loading drills in the Ca...</td>\n",
       "    </tr>\n",
       "  </tbody>\n",
       "</table>\n",
       "</div>"
      ],
      "text/plain": [
       "                          Unnamed: 0              Data   Countries     Local  \\\n",
       "Potential Accident Level                                                       \n",
       "I                                  3  08-01-2016 00:00  Country_01  Local_04   \n",
       "II                                 9  26-01-2016 00:00  Country_01  Local_06   \n",
       "III                                2  06-01-2016 00:00  Country_01  Local_03   \n",
       "IV                                 0  01-01-2016 00:00  Country_01  Local_01   \n",
       "V                                 13  02-02-2016 00:00  Country_01  Local_01   \n",
       "VI                               321  25-01-2017 00:00  Country_01  Local_03   \n",
       "\n",
       "                         Industry Sector Accident Level Genre  \\\n",
       "Potential Accident Level                                        \n",
       "I                                 Mining              I  Male   \n",
       "II                                Metals              I  Male   \n",
       "III                               Mining              I  Male   \n",
       "IV                                Mining              I  Male   \n",
       "V                                 Mining             IV  Male   \n",
       "VI                                Mining              V  Male   \n",
       "\n",
       "                         Employee or Third Party            Critical Risk  \\\n",
       "Potential Accident Level                                                    \n",
       "I                                    Third Party                   Others   \n",
       "II                                   Third Party      Chemical substances   \n",
       "III                         Third Party (Remote)             Manual Tools   \n",
       "IV                                   Third Party                  Pressed   \n",
       "V                                    Third Party  Electrical installation   \n",
       "VI                                   Third Party         remains of choco   \n",
       "\n",
       "                                                                Description  \n",
       "Potential Accident Level                                                     \n",
       "I                         Being 9:45 am. approximately in the Nv. 1880 C...  \n",
       "II                        At the moment the forklift operator went to ma...  \n",
       "III                       In the sub-station MILPO located at level +170...  \n",
       "IV                        While removing the drill rod of the Jumbo 08 f...  \n",
       "V                         In moments that the operator of the Jumbo 2, t...  \n",
       "VI                        During the process of loading drills in the Ca...  "
      ]
     },
     "execution_count": 6,
     "metadata": {},
     "output_type": "execute_result"
    }
   ],
   "source": [
    "group_ptnl_acc_level = industrial_safety_df.groupby(['Potential Accident Level'])\n",
    "group_ptnl_acc_level.first()"
   ]
  },
  {
   "cell_type": "markdown",
   "metadata": {},
   "source": [
    "### DataSet Analysis- Basic EDA"
   ]
  },
  {
   "cell_type": "code",
   "execution_count": null,
   "metadata": {},
   "outputs": [],
   "source": [
    "sns.countplot(x ='Accident Level', data = industrial_safety_df, hue ='Industry Sector'); "
   ]
  },
  {
   "cell_type": "code",
   "execution_count": null,
   "metadata": {},
   "outputs": [],
   "source": [
    "sns.countplot(x ='Potential Accident Level', data = industrial_safety_df, hue ='Industry Sector'); "
   ]
  },
  {
   "cell_type": "code",
   "execution_count": null,
   "metadata": {},
   "outputs": [],
   "source": [
    "sns.countplot(x ='Accident Level', data = industrial_safety_df, hue ='Gender'); "
   ]
  },
  {
   "cell_type": "code",
   "execution_count": null,
   "metadata": {},
   "outputs": [],
   "source": [
    "sns.countplot(x ='Potential Accident Level', data = industrial_safety_df, hue ='Gender'); "
   ]
  },
  {
   "cell_type": "markdown",
   "metadata": {},
   "source": [
    " - #### Labeling The Dataset\n",
    " > As per the dataset there are 1-6 level of Accident Level, here we have labeled 1-2 as low risk, 3-4 moderate risk and 5-6 critical risk "
   ]
  },
  {
   "cell_type": "code",
   "execution_count": 6,
   "metadata": {},
   "outputs": [
    {
     "data": {
      "text/html": [
       "<div>\n",
       "<style scoped>\n",
       "    .dataframe tbody tr th:only-of-type {\n",
       "        vertical-align: middle;\n",
       "    }\n",
       "\n",
       "    .dataframe tbody tr th {\n",
       "        vertical-align: top;\n",
       "    }\n",
       "\n",
       "    .dataframe thead th {\n",
       "        text-align: right;\n",
       "    }\n",
       "</style>\n",
       "<table border=\"1\" class=\"dataframe\">\n",
       "  <thead>\n",
       "    <tr style=\"text-align: right;\">\n",
       "      <th></th>\n",
       "      <th>Accident Level</th>\n",
       "      <th>Accident Severity</th>\n",
       "    </tr>\n",
       "  </thead>\n",
       "  <tbody>\n",
       "    <tr>\n",
       "      <th>0</th>\n",
       "      <td>I</td>\n",
       "      <td>low</td>\n",
       "    </tr>\n",
       "    <tr>\n",
       "      <th>1</th>\n",
       "      <td>I</td>\n",
       "      <td>low</td>\n",
       "    </tr>\n",
       "    <tr>\n",
       "      <th>2</th>\n",
       "      <td>I</td>\n",
       "      <td>low</td>\n",
       "    </tr>\n",
       "    <tr>\n",
       "      <th>3</th>\n",
       "      <td>I</td>\n",
       "      <td>low</td>\n",
       "    </tr>\n",
       "    <tr>\n",
       "      <th>4</th>\n",
       "      <td>IV</td>\n",
       "      <td>high</td>\n",
       "    </tr>\n",
       "    <tr>\n",
       "      <th>...</th>\n",
       "      <td>...</td>\n",
       "      <td>...</td>\n",
       "    </tr>\n",
       "    <tr>\n",
       "      <th>420</th>\n",
       "      <td>I</td>\n",
       "      <td>low</td>\n",
       "    </tr>\n",
       "    <tr>\n",
       "      <th>421</th>\n",
       "      <td>I</td>\n",
       "      <td>low</td>\n",
       "    </tr>\n",
       "    <tr>\n",
       "      <th>422</th>\n",
       "      <td>I</td>\n",
       "      <td>low</td>\n",
       "    </tr>\n",
       "    <tr>\n",
       "      <th>423</th>\n",
       "      <td>I</td>\n",
       "      <td>low</td>\n",
       "    </tr>\n",
       "    <tr>\n",
       "      <th>424</th>\n",
       "      <td>I</td>\n",
       "      <td>low</td>\n",
       "    </tr>\n",
       "  </tbody>\n",
       "</table>\n",
       "<p>425 rows × 2 columns</p>\n",
       "</div>"
      ],
      "text/plain": [
       "    Accident Level Accident Severity\n",
       "0                I               low\n",
       "1                I               low\n",
       "2                I               low\n",
       "3                I               low\n",
       "4               IV              high\n",
       "..             ...               ...\n",
       "420              I               low\n",
       "421              I               low\n",
       "422              I               low\n",
       "423              I               low\n",
       "424              I               low\n",
       "\n",
       "[425 rows x 2 columns]"
      ]
     },
     "execution_count": 6,
     "metadata": {},
     "output_type": "execute_result"
    }
   ],
   "source": [
    "def create_label(accident_level):\n",
    "    level = str(accident_level)\n",
    "    if level.__eq__(\"I\") or level.__eq__(\"II\"):\n",
    "        return \"low\"\n",
    "    if level.__eq__(\"III\"):\n",
    "        return \"moderate\"\n",
    "    if level.__eq__(\"IV\") or level.__eq__(\"V\"):\n",
    "        return \"high\"\n",
    "    if level.__eq__(\"VI\"):\n",
    "        return \"critical\"\n",
    "    \n",
    "industrial_safety_df['Accident Severity'] = industrial_safety_df['Accident Level'].apply(create_label)\n",
    "industrial_safety_df[['Accident Level','Accident Severity']]"
   ]
  },
  {
   "cell_type": "markdown",
   "metadata": {},
   "source": [
    "#### We can see that the Mining Sector is the most risky as the most number of accidents recorded in that sector followed by Metals"
   ]
  },
  {
   "cell_type": "markdown",
   "metadata": {},
   "source": [
    "### Data Cleansing\n",
    " "
   ]
  },
  {
   "cell_type": "code",
   "execution_count": 7,
   "metadata": {},
   "outputs": [
    {
     "data": {
      "text/html": [
       "<div>\n",
       "<style scoped>\n",
       "    .dataframe tbody tr th:only-of-type {\n",
       "        vertical-align: middle;\n",
       "    }\n",
       "\n",
       "    .dataframe tbody tr th {\n",
       "        vertical-align: top;\n",
       "    }\n",
       "\n",
       "    .dataframe thead th {\n",
       "        text-align: right;\n",
       "    }\n",
       "</style>\n",
       "<table border=\"1\" class=\"dataframe\">\n",
       "  <thead>\n",
       "    <tr style=\"text-align: right;\">\n",
       "      <th></th>\n",
       "      <th>Date</th>\n",
       "      <th>Countries</th>\n",
       "      <th>Local</th>\n",
       "      <th>Industry Sector</th>\n",
       "      <th>Accident Level</th>\n",
       "      <th>Potential Accident Level</th>\n",
       "      <th>Gender</th>\n",
       "      <th>Employee or Third Party</th>\n",
       "      <th>Critical Risk</th>\n",
       "      <th>Description</th>\n",
       "      <th>Accident Severity</th>\n",
       "    </tr>\n",
       "  </thead>\n",
       "  <tbody>\n",
       "    <tr>\n",
       "      <th>0</th>\n",
       "      <td>01-01-2016 00:00</td>\n",
       "      <td>Country_01</td>\n",
       "      <td>Local_01</td>\n",
       "      <td>Mining</td>\n",
       "      <td>I</td>\n",
       "      <td>IV</td>\n",
       "      <td>Male</td>\n",
       "      <td>Third Party</td>\n",
       "      <td>Pressed</td>\n",
       "      <td>While removing the drill rod of the Jumbo 08 f...</td>\n",
       "      <td>low</td>\n",
       "    </tr>\n",
       "    <tr>\n",
       "      <th>1</th>\n",
       "      <td>02-01-2016 00:00</td>\n",
       "      <td>Country_02</td>\n",
       "      <td>Local_02</td>\n",
       "      <td>Mining</td>\n",
       "      <td>I</td>\n",
       "      <td>IV</td>\n",
       "      <td>Male</td>\n",
       "      <td>Employee</td>\n",
       "      <td>Pressurized Systems</td>\n",
       "      <td>During the activation of a sodium sulphide pum...</td>\n",
       "      <td>low</td>\n",
       "    </tr>\n",
       "    <tr>\n",
       "      <th>2</th>\n",
       "      <td>06-01-2016 00:00</td>\n",
       "      <td>Country_01</td>\n",
       "      <td>Local_03</td>\n",
       "      <td>Mining</td>\n",
       "      <td>I</td>\n",
       "      <td>III</td>\n",
       "      <td>Male</td>\n",
       "      <td>Third Party (Remote)</td>\n",
       "      <td>Manual Tools</td>\n",
       "      <td>In the sub-station MILPO located at level +170...</td>\n",
       "      <td>low</td>\n",
       "    </tr>\n",
       "    <tr>\n",
       "      <th>3</th>\n",
       "      <td>08-01-2016 00:00</td>\n",
       "      <td>Country_01</td>\n",
       "      <td>Local_04</td>\n",
       "      <td>Mining</td>\n",
       "      <td>I</td>\n",
       "      <td>I</td>\n",
       "      <td>Male</td>\n",
       "      <td>Third Party</td>\n",
       "      <td>Others</td>\n",
       "      <td>Being 9:45 am. approximately in the Nv. 1880 C...</td>\n",
       "      <td>low</td>\n",
       "    </tr>\n",
       "    <tr>\n",
       "      <th>4</th>\n",
       "      <td>10-01-2016 00:00</td>\n",
       "      <td>Country_01</td>\n",
       "      <td>Local_04</td>\n",
       "      <td>Mining</td>\n",
       "      <td>IV</td>\n",
       "      <td>IV</td>\n",
       "      <td>Male</td>\n",
       "      <td>Third Party</td>\n",
       "      <td>Others</td>\n",
       "      <td>Approximately at 11:45 a.m. in circumstances t...</td>\n",
       "      <td>high</td>\n",
       "    </tr>\n",
       "  </tbody>\n",
       "</table>\n",
       "</div>"
      ],
      "text/plain": [
       "               Date   Countries     Local Industry Sector Accident Level  \\\n",
       "0  01-01-2016 00:00  Country_01  Local_01          Mining              I   \n",
       "1  02-01-2016 00:00  Country_02  Local_02          Mining              I   \n",
       "2  06-01-2016 00:00  Country_01  Local_03          Mining              I   \n",
       "3  08-01-2016 00:00  Country_01  Local_04          Mining              I   \n",
       "4  10-01-2016 00:00  Country_01  Local_04          Mining             IV   \n",
       "\n",
       "  Potential Accident Level Gender Employee or Third Party  \\\n",
       "0                       IV   Male             Third Party   \n",
       "1                       IV   Male                Employee   \n",
       "2                      III   Male    Third Party (Remote)   \n",
       "3                        I   Male             Third Party   \n",
       "4                       IV   Male             Third Party   \n",
       "\n",
       "         Critical Risk                                        Description  \\\n",
       "0              Pressed  While removing the drill rod of the Jumbo 08 f...   \n",
       "1  Pressurized Systems  During the activation of a sodium sulphide pum...   \n",
       "2         Manual Tools  In the sub-station MILPO located at level +170...   \n",
       "3               Others  Being 9:45 am. approximately in the Nv. 1880 C...   \n",
       "4               Others  Approximately at 11:45 a.m. in circumstances t...   \n",
       "\n",
       "  Accident Severity  \n",
       "0               low  \n",
       "1               low  \n",
       "2               low  \n",
       "3               low  \n",
       "4              high  "
      ]
     },
     "execution_count": 7,
     "metadata": {},
     "output_type": "execute_result"
    }
   ],
   "source": [
    "#Renaming Data -> date, Genre -> Gender\n",
    "#Removing the Column Unnamed as it's just sequence\n",
    "\n",
    "industrial_safety_df.rename(columns = {'Data': 'Date', 'Genre': 'Gender'}, inplace = True)\n",
    "industrial_safety_df = industrial_safety_df.drop(\"Unnamed: 0\",axis=1)\n",
    "industrial_safety_df.head()\n"
   ]
  },
  {
   "cell_type": "code",
   "execution_count": null,
   "metadata": {},
   "outputs": [],
   "source": [
    "industrial_safety_df.describe()"
   ]
  },
  {
   "cell_type": "code",
   "execution_count": null,
   "metadata": {},
   "outputs": [],
   "source": [
    "industrial_safety_df.isnull().sum()"
   ]
  },
  {
   "cell_type": "code",
   "execution_count": 7,
   "metadata": {},
   "outputs": [
    {
     "data": {
      "text/plain": [
       "Unnamed: 0                   int64\n",
       "Data                        object\n",
       "Countries                   object\n",
       "Local                       object\n",
       "Industry Sector             object\n",
       "Accident Level              object\n",
       "Potential Accident Level    object\n",
       "Genre                       object\n",
       "Employee or Third Party     object\n",
       "Critical Risk               object\n",
       "Description                 object\n",
       "dtype: object"
      ]
     },
     "execution_count": 7,
     "metadata": {},
     "output_type": "execute_result"
    }
   ],
   "source": [
    "industrial_safety_df.dtypes"
   ]
  },
  {
   "cell_type": "markdown",
   "metadata": {},
   "source": [
    "### Pre-Processing the Text "
   ]
  },
  {
   "cell_type": "markdown",
   "metadata": {},
   "source": [
    "- #### Removing all irrelevant characters (Numbers and Punctuation)"
   ]
  },
  {
   "cell_type": "code",
   "execution_count": 8,
   "metadata": {},
   "outputs": [
    {
     "data": {
      "text/plain": [
       "0      While removing the drill rod of the Jumbo    f...\n",
       "1      During the activation of a sodium sulphide pum...\n",
       "2      In the sub station MILPO located at level     ...\n",
       "3      Being      am  approximately in the Nv       C...\n",
       "4      Approximately at       a m  in circumstances t...\n",
       "                             ...                        \n",
       "420    Being approximately      a m  approximately  w...\n",
       "421    The collaborator moved from the infrastructure...\n",
       "422    During the environmental monitoring activity i...\n",
       "423    The Employee performed the activity of strippi...\n",
       "424    At       a m   when the assistant cleaned the ...\n",
       "Name: Updated Description, Length: 425, dtype: object"
      ]
     },
     "execution_count": 8,
     "metadata": {},
     "output_type": "execute_result"
    }
   ],
   "source": [
    "def remove_alpha_numerics(description_txt):\n",
    "    return re.sub('[^a-zA-Z]',' ',description_txt)\n",
    "industrial_safety_df['Updated Description'] = industrial_safety_df['Description'].apply(remove_alpha_numerics)\n",
    "industrial_safety_df['Updated Description']"
   ]
  },
  {
   "cell_type": "markdown",
   "metadata": {},
   "source": [
    "- #### Convert all characters into lowercase"
   ]
  },
  {
   "cell_type": "code",
   "execution_count": 9,
   "metadata": {},
   "outputs": [
    {
     "data": {
      "text/plain": [
       "0      while removing the drill rod of the jumbo    f...\n",
       "1      during the activation of a sodium sulphide pum...\n",
       "2      in the sub station milpo located at level     ...\n",
       "3      being      am  approximately in the nv       c...\n",
       "4      approximately at       a m  in circumstances t...\n",
       "                             ...                        \n",
       "420    being approximately      a m  approximately  w...\n",
       "421    the collaborator moved from the infrastructure...\n",
       "422    during the environmental monitoring activity i...\n",
       "423    the employee performed the activity of strippi...\n",
       "424    at       a m   when the assistant cleaned the ...\n",
       "Name: Updated Description, Length: 425, dtype: object"
      ]
     },
     "execution_count": 9,
     "metadata": {},
     "output_type": "execute_result"
    }
   ],
   "source": [
    "def to_lower_case(description_txt):\n",
    "    return str(description_txt).lower()\n",
    "industrial_safety_df['Updated Description'] = industrial_safety_df['Updated Description'].apply(to_lower_case)\n",
    "industrial_safety_df['Updated Description']"
   ]
  },
  {
   "cell_type": "markdown",
   "metadata": {},
   "source": [
    "- #### Tokenization "
   ]
  },
  {
   "cell_type": "code",
   "execution_count": 10,
   "metadata": {},
   "outputs": [
    {
     "data": {
      "text/plain": [
       "0      [while, removing, the, drill, rod, of, the, ju...\n",
       "1      [during, the, activation, of, a, sodium, sulph...\n",
       "2      [in, the, sub, station, milpo, located, at, le...\n",
       "3      [being, am, approximately, in, the, nv, cx, ob...\n",
       "4      [approximately, at, a, m, in, circumstances, t...\n",
       "                             ...                        \n",
       "420    [being, approximately, a, m, approximately, wh...\n",
       "421    [the, collaborator, moved, from, the, infrastr...\n",
       "422    [during, the, environmental, monitoring, activ...\n",
       "423    [the, employee, performed, the, activity, of, ...\n",
       "424    [at, a, m, when, the, assistant, cleaned, the,...\n",
       "Name: Updated Description, Length: 425, dtype: object"
      ]
     },
     "execution_count": 10,
     "metadata": {},
     "output_type": "execute_result"
    }
   ],
   "source": [
    "industrial_safety_df['Updated Description'] = industrial_safety_df.apply(lambda word: nltk.word_tokenize(word['Updated Description']), axis=1)\n",
    "industrial_safety_df['Updated Description']"
   ]
  },
  {
   "cell_type": "markdown",
   "metadata": {},
   "source": [
    "- #### Removing Stopwords"
   ]
  },
  {
   "cell_type": "code",
   "execution_count": 11,
   "metadata": {},
   "outputs": [
    {
     "data": {
      "text/plain": [
       "0      [removing, drill, rod, jumbo, maintenance, sup...\n",
       "1      [activation, sodium, sulphide, pump, piping, u...\n",
       "2      [sub, station, milpo, located, level, collabor...\n",
       "3      [approximately, nv, cx, ob, personnel, begins,...\n",
       "4      [approximately, circumstances, mechanics, anth...\n",
       "                             ...                        \n",
       "420    [approximately, approximately, lifting, kelly,...\n",
       "421    [collaborator, moved, infrastructure, office, ...\n",
       "422    [environmental, monitoring, activity, area, em...\n",
       "423    [employee, performed, activity, stripping, cat...\n",
       "424    [assistant, cleaned, floor, module, e, central...\n",
       "Name: Updated Description, Length: 425, dtype: object"
      ]
     },
     "execution_count": 11,
     "metadata": {},
     "output_type": "execute_result"
    }
   ],
   "source": [
    "stop_words = set(stopwords.words('english'))\n",
    "def remove_stopwords(word):\n",
    "    return [token for token in word if not token in stop_words]\n",
    "    \n",
    "industrial_safety_df['Updated Description'] = industrial_safety_df['Updated Description'].apply(remove_stopwords)\n",
    "industrial_safety_df['Updated Description']"
   ]
  },
  {
   "cell_type": "markdown",
   "metadata": {},
   "source": [
    "- #### Stemming"
   ]
  },
  {
   "cell_type": "code",
   "execution_count": 12,
   "metadata": {},
   "outputs": [
    {
     "data": {
      "text/plain": [
       "0      [remov, drill, rod, jumbo, mainten, supervisor...\n",
       "1      [activ, sodium, sulphid, pump, pipe, uncoupl, ...\n",
       "2      [sub, station, milpo, locat, level, collabor, ...\n",
       "3      [approxim, nv, cx, ob, personnel, begin, task,...\n",
       "4      [approxim, circumst, mechan, anthoni, group, l...\n",
       "                             ...                        \n",
       "420    [approxim, approxim, lift, kelli, hq, toward, ...\n",
       "421    [collabor, move, infrastructur, offic, julio, ...\n",
       "422    [environment, monitor, activ, area, employe, s...\n",
       "423    [employe, perform, activ, strip, cathod, pull,...\n",
       "424    [assist, clean, floor, modul, e, central, camp...\n",
       "Name: Updated Description Stems, Length: 425, dtype: object"
      ]
     },
     "execution_count": 12,
     "metadata": {},
     "output_type": "execute_result"
    }
   ],
   "source": [
    "stemmer = PorterStemmer()\n",
    "def stem_tokens(tokens):\n",
    "    return [stemmer.stem(index) for index in tokens]\n",
    "industrial_safety_df['Updated Description Stems'] = industrial_safety_df['Updated Description'].apply(stem_tokens)\n",
    "industrial_safety_df['Updated Description Stems']"
   ]
  },
  {
   "cell_type": "markdown",
   "metadata": {},
   "source": [
    "#### As we can see due to stemming changed some of the words incorrectly, so we will do Lemmatization and compare"
   ]
  },
  {
   "cell_type": "markdown",
   "metadata": {},
   "source": [
    "- #### Lemmatization"
   ]
  },
  {
   "cell_type": "code",
   "execution_count": 13,
   "metadata": {},
   "outputs": [
    {
     "data": {
      "text/plain": [
       "0      [remove, drill, rod, jumbo, maintenance, super...\n",
       "1      [activation, sodium, sulphide, pump, pip, unco...\n",
       "2      [sub, station, milpo, locate, level, collabora...\n",
       "3      [approximately, nv, cx, ob, personnel, begin, ...\n",
       "4      [approximately, circumstances, mechanics, anth...\n",
       "                             ...                        \n",
       "420    [approximately, approximately, lift, kelly, hq...\n",
       "421    [collaborator, move, infrastructure, office, j...\n",
       "422    [environmental, monitor, activity, area, emplo...\n",
       "423    [employee, perform, activity, strip, cathodes,...\n",
       "424    [assistant, clean, floor, module, e, central, ...\n",
       "Name: Updated Description Lemmas, Length: 425, dtype: object"
      ]
     },
     "execution_count": 13,
     "metadata": {},
     "output_type": "execute_result"
    }
   ],
   "source": [
    "#nltk.download('wordnet')\n",
    "lemma = WordNetLemmatizer()\n",
    "def lematize_tokens(tokens):\n",
    "    return [lemma.lemmatize(word=w,pos='v') for w in tokens]\n",
    "industrial_safety_df['Updated Description Lemmas'] = industrial_safety_df['Updated Description'].apply(lematize_tokens)\n",
    "industrial_safety_df['Updated Description Lemmas']"
   ]
  },
  {
   "cell_type": "markdown",
   "metadata": {},
   "source": [
    "- #### As we can see Lemmatization performed much better than the stemming so we will preffer lemmatization here "
   ]
  },
  {
   "cell_type": "markdown",
   "metadata": {},
   "source": [
    "#### Remove the words having length <= 2"
   ]
  },
  {
   "cell_type": "code",
   "execution_count": 14,
   "metadata": {},
   "outputs": [
    {
     "data": {
      "text/plain": [
       "0      [remove, drill, rod, jumbo, maintenance, super...\n",
       "1      [activation, sodium, sulphide, pump, pip, unco...\n",
       "2      [sub, station, milpo, locate, level, collabora...\n",
       "3      [approximately, personnel, begin, task, unlock...\n",
       "4      [approximately, circumstances, mechanics, anth...\n",
       "                             ...                        \n",
       "420    [approximately, approximately, lift, kelly, to...\n",
       "421    [collaborator, move, infrastructure, office, j...\n",
       "422    [environmental, monitor, activity, area, emplo...\n",
       "423    [employee, perform, activity, strip, cathodes,...\n",
       "424    [assistant, clean, floor, module, central, cam...\n",
       "Name: Updated Description Lemmas, Length: 425, dtype: object"
      ]
     },
     "execution_count": 14,
     "metadata": {},
     "output_type": "execute_result"
    }
   ],
   "source": [
    "# still few nonsense words exist in the lemmatized tokens\n",
    "# we are going to remove those as they can be noise to the data\n",
    "def remove_noise(tokens):\n",
    "    return [i for i in tokens if len(i) > 2]\n",
    "industrial_safety_df['Updated Description Lemmas'] = industrial_safety_df['Updated Description Lemmas'].apply(remove_noise)\n",
    "industrial_safety_df['Updated Description Lemmas']"
   ]
  },
  {
   "cell_type": "markdown",
   "metadata": {},
   "source": [
    "- So this is the required corpus after text preprocessing. \n",
    "- now we will convert back this list to string for encoding the text."
   ]
  },
  {
   "cell_type": "markdown",
   "metadata": {},
   "source": [
    "### Final Text Data After Preprocessing"
   ]
  },
  {
   "cell_type": "code",
   "execution_count": 15,
   "metadata": {},
   "outputs": [
    {
     "data": {
      "text/plain": [
       "0      remove drill rod jumbo maintenance supervisor ...\n",
       "1      activation sodium sulphide pump pip uncouple s...\n",
       "2      sub station milpo locate level collaborator ex...\n",
       "3      approximately personnel begin task unlock soqu...\n",
       "4      approximately circumstances mechanics anthony ...\n",
       "                             ...                        \n",
       "420    approximately approximately lift kelly towards...\n",
       "421    collaborator move infrastructure office julio ...\n",
       "422    environmental monitor activity area employee s...\n",
       "423    employee perform activity strip cathodes pull ...\n",
       "424    assistant clean floor module central camp slip...\n",
       "Name: Updated Description, Length: 425, dtype: object"
      ]
     },
     "execution_count": 15,
     "metadata": {},
     "output_type": "execute_result"
    }
   ],
   "source": [
    "#Convert the list of tokens into back to the string\n",
    "def to_string(tokens):\n",
    "    return ' '.join(tokens)\n",
    "industrial_safety_df['Updated Description'] = industrial_safety_df['Updated Description Lemmas'].apply(to_string)\n",
    "industrial_safety_df['Updated Description']"
   ]
  },
  {
   "cell_type": "code",
   "execution_count": 16,
   "metadata": {},
   "outputs": [
    {
     "data": {
      "text/html": [
       "<div>\n",
       "<style scoped>\n",
       "    .dataframe tbody tr th:only-of-type {\n",
       "        vertical-align: middle;\n",
       "    }\n",
       "\n",
       "    .dataframe tbody tr th {\n",
       "        vertical-align: top;\n",
       "    }\n",
       "\n",
       "    .dataframe thead th {\n",
       "        text-align: right;\n",
       "    }\n",
       "</style>\n",
       "<table border=\"1\" class=\"dataframe\">\n",
       "  <thead>\n",
       "    <tr style=\"text-align: right;\">\n",
       "      <th></th>\n",
       "      <th>Date</th>\n",
       "      <th>Countries</th>\n",
       "      <th>Local</th>\n",
       "      <th>Industry Sector</th>\n",
       "      <th>Accident Level</th>\n",
       "      <th>Potential Accident Level</th>\n",
       "      <th>Gender</th>\n",
       "      <th>Employee or Third Party</th>\n",
       "      <th>Critical Risk</th>\n",
       "      <th>Description</th>\n",
       "      <th>Accident Severity</th>\n",
       "      <th>Updated Description</th>\n",
       "      <th>Updated Description Stems</th>\n",
       "      <th>Updated Description Lemmas</th>\n",
       "    </tr>\n",
       "  </thead>\n",
       "  <tbody>\n",
       "    <tr>\n",
       "      <th>0</th>\n",
       "      <td>01-01-2016 00:00</td>\n",
       "      <td>Country_01</td>\n",
       "      <td>Local_01</td>\n",
       "      <td>Mining</td>\n",
       "      <td>I</td>\n",
       "      <td>IV</td>\n",
       "      <td>Male</td>\n",
       "      <td>Third Party</td>\n",
       "      <td>Pressed</td>\n",
       "      <td>While removing the drill rod of the Jumbo 08 f...</td>\n",
       "      <td>low</td>\n",
       "      <td>remove drill rod jumbo maintenance supervisor ...</td>\n",
       "      <td>[remov, drill, rod, jumbo, mainten, supervisor...</td>\n",
       "      <td>[remove, drill, rod, jumbo, maintenance, super...</td>\n",
       "    </tr>\n",
       "    <tr>\n",
       "      <th>1</th>\n",
       "      <td>02-01-2016 00:00</td>\n",
       "      <td>Country_02</td>\n",
       "      <td>Local_02</td>\n",
       "      <td>Mining</td>\n",
       "      <td>I</td>\n",
       "      <td>IV</td>\n",
       "      <td>Male</td>\n",
       "      <td>Employee</td>\n",
       "      <td>Pressurized Systems</td>\n",
       "      <td>During the activation of a sodium sulphide pum...</td>\n",
       "      <td>low</td>\n",
       "      <td>activation sodium sulphide pump pip uncouple s...</td>\n",
       "      <td>[activ, sodium, sulphid, pump, pipe, uncoupl, ...</td>\n",
       "      <td>[activation, sodium, sulphide, pump, pip, unco...</td>\n",
       "    </tr>\n",
       "    <tr>\n",
       "      <th>2</th>\n",
       "      <td>06-01-2016 00:00</td>\n",
       "      <td>Country_01</td>\n",
       "      <td>Local_03</td>\n",
       "      <td>Mining</td>\n",
       "      <td>I</td>\n",
       "      <td>III</td>\n",
       "      <td>Male</td>\n",
       "      <td>Third Party (Remote)</td>\n",
       "      <td>Manual Tools</td>\n",
       "      <td>In the sub-station MILPO located at level +170...</td>\n",
       "      <td>low</td>\n",
       "      <td>sub station milpo locate level collaborator ex...</td>\n",
       "      <td>[sub, station, milpo, locat, level, collabor, ...</td>\n",
       "      <td>[sub, station, milpo, locate, level, collabora...</td>\n",
       "    </tr>\n",
       "    <tr>\n",
       "      <th>3</th>\n",
       "      <td>08-01-2016 00:00</td>\n",
       "      <td>Country_01</td>\n",
       "      <td>Local_04</td>\n",
       "      <td>Mining</td>\n",
       "      <td>I</td>\n",
       "      <td>I</td>\n",
       "      <td>Male</td>\n",
       "      <td>Third Party</td>\n",
       "      <td>Others</td>\n",
       "      <td>Being 9:45 am. approximately in the Nv. 1880 C...</td>\n",
       "      <td>low</td>\n",
       "      <td>approximately personnel begin task unlock soqu...</td>\n",
       "      <td>[approxim, nv, cx, ob, personnel, begin, task,...</td>\n",
       "      <td>[approximately, personnel, begin, task, unlock...</td>\n",
       "    </tr>\n",
       "    <tr>\n",
       "      <th>4</th>\n",
       "      <td>10-01-2016 00:00</td>\n",
       "      <td>Country_01</td>\n",
       "      <td>Local_04</td>\n",
       "      <td>Mining</td>\n",
       "      <td>IV</td>\n",
       "      <td>IV</td>\n",
       "      <td>Male</td>\n",
       "      <td>Third Party</td>\n",
       "      <td>Others</td>\n",
       "      <td>Approximately at 11:45 a.m. in circumstances t...</td>\n",
       "      <td>high</td>\n",
       "      <td>approximately circumstances mechanics anthony ...</td>\n",
       "      <td>[approxim, circumst, mechan, anthoni, group, l...</td>\n",
       "      <td>[approximately, circumstances, mechanics, anth...</td>\n",
       "    </tr>\n",
       "  </tbody>\n",
       "</table>\n",
       "</div>"
      ],
      "text/plain": [
       "               Date   Countries     Local Industry Sector Accident Level  \\\n",
       "0  01-01-2016 00:00  Country_01  Local_01          Mining              I   \n",
       "1  02-01-2016 00:00  Country_02  Local_02          Mining              I   \n",
       "2  06-01-2016 00:00  Country_01  Local_03          Mining              I   \n",
       "3  08-01-2016 00:00  Country_01  Local_04          Mining              I   \n",
       "4  10-01-2016 00:00  Country_01  Local_04          Mining             IV   \n",
       "\n",
       "  Potential Accident Level Gender Employee or Third Party  \\\n",
       "0                       IV   Male             Third Party   \n",
       "1                       IV   Male                Employee   \n",
       "2                      III   Male    Third Party (Remote)   \n",
       "3                        I   Male             Third Party   \n",
       "4                       IV   Male             Third Party   \n",
       "\n",
       "         Critical Risk                                        Description  \\\n",
       "0              Pressed  While removing the drill rod of the Jumbo 08 f...   \n",
       "1  Pressurized Systems  During the activation of a sodium sulphide pum...   \n",
       "2         Manual Tools  In the sub-station MILPO located at level +170...   \n",
       "3               Others  Being 9:45 am. approximately in the Nv. 1880 C...   \n",
       "4               Others  Approximately at 11:45 a.m. in circumstances t...   \n",
       "\n",
       "  Accident Severity                                Updated Description  \\\n",
       "0               low  remove drill rod jumbo maintenance supervisor ...   \n",
       "1               low  activation sodium sulphide pump pip uncouple s...   \n",
       "2               low  sub station milpo locate level collaborator ex...   \n",
       "3               low  approximately personnel begin task unlock soqu...   \n",
       "4              high  approximately circumstances mechanics anthony ...   \n",
       "\n",
       "                           Updated Description Stems  \\\n",
       "0  [remov, drill, rod, jumbo, mainten, supervisor...   \n",
       "1  [activ, sodium, sulphid, pump, pipe, uncoupl, ...   \n",
       "2  [sub, station, milpo, locat, level, collabor, ...   \n",
       "3  [approxim, nv, cx, ob, personnel, begin, task,...   \n",
       "4  [approxim, circumst, mechan, anthoni, group, l...   \n",
       "\n",
       "                          Updated Description Lemmas  \n",
       "0  [remove, drill, rod, jumbo, maintenance, super...  \n",
       "1  [activation, sodium, sulphide, pump, pip, unco...  \n",
       "2  [sub, station, milpo, locate, level, collabora...  \n",
       "3  [approximately, personnel, begin, task, unlock...  \n",
       "4  [approximately, circumstances, mechanics, anth...  "
      ]
     },
     "execution_count": 16,
     "metadata": {},
     "output_type": "execute_result"
    }
   ],
   "source": [
    "industrial_safety_df.head()"
   ]
  },
  {
   "cell_type": "markdown",
   "metadata": {},
   "source": [
    "### Text Visualization\n",
    "> Here we will try to visualize each token of the description"
   ]
  },
  {
   "cell_type": "code",
   "execution_count": 17,
   "metadata": {},
   "outputs": [],
   "source": [
    "#splitting the dataset\n",
    "#we will fecth the description tokens \n",
    "texts_in_severity_low = industrial_safety_df[industrial_safety_df['Accident Severity'] == \"low\"]['Updated Description'] \n",
    "texts_in_severity_moderate = industrial_safety_df[industrial_safety_df['Accident Severity'] == \"moderate\"]['Updated Description'] \n",
    "texts_in_severity_high = industrial_safety_df[industrial_safety_df['Accident Severity'] == \"high\"]['Updated Description'] \n",
    "texts_in_severity_critical = industrial_safety_df[industrial_safety_df['Accident Severity'] == \"critical\"]['Updated Description'] \n"
   ]
  },
  {
   "cell_type": "markdown",
   "metadata": {},
   "source": [
    "- Let’s visualize our corpus corresponding to the labels \n",
    "- Taking top 15 words and see their frequency in the corpus"
   ]
  },
  {
   "cell_type": "code",
   "execution_count": 67,
   "metadata": {},
   "outputs": [],
   "source": [
    "from yellowbrick.text import FreqDistVisualizer\n",
    "def show_text_freq(item):\n",
    "    if(len(item) > 0):\n",
    "        vectorizer = CountVectorizer()\n",
    "        docs       = vectorizer.fit_transform(item)\n",
    "        features   = vectorizer.get_feature_names()\n",
    "        visualizer = FreqDistVisualizer(features=features, n=15, color='rgb', orient='V')\n",
    "        visualizer.fit(docs)\n",
    "        visualizer.show()\n",
    "    else :\n",
    "        print(\"Empty data-set\")"
   ]
  },
  {
   "cell_type": "code",
   "execution_count": 68,
   "metadata": {},
   "outputs": [
    {
     "data": {
      "image/png": "[encoded data removed]",
      "text/plain": [
       "<Figure size 432x288 with 1 Axes>"
      ]
     },
     "metadata": {
      "needs_background": "light"
     },
     "output_type": "display_data"
    }
   ],
   "source": [
    "show_text_freq(texts_in_severity_low)"
   ]
  },
  {
   "cell_type": "code",
   "execution_count": 69,
   "metadata": {},
   "outputs": [
    {
     "data": {
      "image/png": "[encoded data removed]",
      "text/plain": [
       "<Figure size 432x288 with 1 Axes>"
      ]
     },
     "metadata": {
      "needs_background": "light"
     },
     "output_type": "display_data"
    }
   ],
   "source": [
    "show_text_freq(texts_in_severity_moderate)"
   ]
  },
  {
   "cell_type": "code",
   "execution_count": 70,
   "metadata": {},
   "outputs": [
    {
     "data": {
      "image/png": "[encoded data removed]",
      "text/plain": [
       "<Figure size 432x288 with 1 Axes>"
      ]
     },
     "metadata": {
      "needs_background": "light"
     },
     "output_type": "display_data"
    }
   ],
   "source": [
    "show_text_freq(texts_in_severity_high)"
   ]
  },
  {
   "cell_type": "code",
   "execution_count": 71,
   "metadata": {},
   "outputs": [
    {
     "name": "stdout",
     "output_type": "stream",
     "text": [
      "Empty data-set\n"
     ]
    }
   ],
   "source": [
    "show_text_freq(texts_in_severity_critical)"
   ]
  },
  {
   "cell_type": "markdown",
   "metadata": {},
   "source": []
  },
  {
   "cell_type": "markdown",
   "metadata": {},
   "source": [
    "> ## Data Encoding"
   ]
  },
  {
   "cell_type": "markdown",
   "metadata": {},
   "source": [
    "> - ### Bag of Words"
   ]
  },
  {
   "cell_type": "code",
   "execution_count": 80,
   "metadata": {},
   "outputs": [],
   "source": [
    "#creating the document or corpus\n",
    "corpus_accident_description = industrial_safety_df['Description'].values\n",
    "#corpus_accident_description"
   ]
  },
  {
   "cell_type": "code",
   "execution_count": 81,
   "metadata": {},
   "outputs": [
    {
     "name": "stdout",
     "output_type": "stream",
     "text": [
      "[[0 0 0 ... 0 0 0]\n",
      " [0 0 0 ... 0 0 0]\n",
      " [0 0 0 ... 0 0 0]\n",
      " ...\n",
      " [0 0 0 ... 0 0 0]\n",
      " [0 0 0 ... 0 0 0]\n",
      " [1 0 0 ... 0 0 0]]\n"
     ]
    }
   ],
   "source": [
    "vec_bow = CountVectorizer()\n",
    "X = vec.fit_transform(corpus_accident_description)\n",
    "features = vec_bow.get_feature_names()\n",
    "#print(features)\n",
    "print(X.toarray())"
   ]
  },
  {
   "cell_type": "markdown",
   "metadata": {},
   "source": [
    "> - ### TF-IDF Encoding"
   ]
  },
  {
   "cell_type": "code",
   "execution_count": 85,
   "metadata": {},
   "outputs": [
    {
     "name": "stdout",
     "output_type": "stream",
     "text": [
      "[[0.         0.         0.         ... 0.         0.         0.        ]\n",
      " [0.         0.         0.         ... 0.         0.         0.        ]\n",
      " [0.         0.         0.         ... 0.         0.         0.        ]\n",
      " ...\n",
      " [0.         0.         0.         ... 0.         0.         0.        ]\n",
      " [0.         0.         0.         ... 0.         0.         0.        ]\n",
      " [0.19617859 0.         0.         ... 0.         0.         0.        ]]\n"
     ]
    }
   ],
   "source": [
    "from sklearn.feature_extraction.text import TfidfVectorizer\n",
    "vec_tfidf = TfidfVectorizer()\n",
    "X = vec_tfidf.fit_transform(corpus_accident_description)\n",
    "features = vec_tfidf.get_feature_names()\n",
    "#print(features)\n",
    "print(X.toarray())"
   ]
  },
  {
   "cell_type": "code",
   "execution_count": null,
   "metadata": {},
   "outputs": [],
   "source": []
  }
 ],
 "metadata": {
  "kernelspec": {
   "display_name": "Python 3",
   "language": "python",
   "name": "python3"
  },
  "language_info": {
   "codemirror_mode": {
    "name": "ipython",
    "version": 3
   },
   "file_extension": ".py",
   "mimetype": "text/x-python",
   "name": "python",
   "nbconvert_exporter": "python",
   "pygments_lexer": "ipython3",
   "version": "3.8.5"
  }
 },
 "nbformat": 4,
 "nbformat_minor": 4
}
